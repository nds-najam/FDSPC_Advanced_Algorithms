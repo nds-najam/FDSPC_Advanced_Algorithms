{
 "cells": [
  {
   "cell_type": "markdown",
   "id": "b9fc0723",
   "metadata": {
    "deletable": false,
    "editable": false,
    "nbgrader": {
     "cell_type": "markdown",
     "checksum": "ac80f0fe2ff47fbdbbb7a4d9a0c151ae",
     "grade": false,
     "grade_id": "cell-a2e429c0dd8172c4",
     "locked": true,
     "schema_version": 3,
     "solution": false,
     "task": false
    }
   },
   "source": [
    "# PROBLEM STATEMENT \n",
    "\n",
    "Dataset contains daily weather observations of Australian weather stations, and your goal is to predict whether it will rain tomorrow based on the data. The target variable you want to predict is \"RainTomorrow,\" which is a binary variable with two possible values: \"Yes\" or \"No.\"\n",
    "\n",
    "In this context, \"RainTomorrow\" is set to \"Yes\" if the amount of rain recorded for the current day is 1mm or more, indicating that it rained that day. If the recorded rainfall is less than 1mm, \"RainTomorrow\" is set to \"No,\" indicating that it did not rain that day.\n",
    "\n",
    "- The aim of this is to test the chances of raining in australia Yes or No"
   ]
  },
  {
   "cell_type": "markdown",
   "id": "6dc85bf7",
   "metadata": {
    "deletable": false,
    "editable": false,
    "nbgrader": {
     "cell_type": "markdown",
     "checksum": "de8c4428fb949fa33c749a8889dfc663",
     "grade": false,
     "grade_id": "cell-c543edc572182fd7",
     "locked": true,
     "schema_version": 3,
     "solution": false,
     "task": false
    }
   },
   "source": [
    "# OVERVIEW \n",
    "\n",
    "The dataset __\"Rain_inaus_feature_engineering_final.csv\"__ contains 40000 rows and 23 columns to weather observations in Australia. Here's an explanation of each column:\n",
    "\n",
    "- Date: The date of the observation.\n",
    "- Location: The location where the weather data was recorded.\n",
    "- MinTemp: The minimum temperature in degrees Celsius.\n",
    "- MaxTemp: The maximum temperature in degrees Celsius.\n",
    "- Rainfall: The amount of rainfall recorded for the day in millimeters.\n",
    "- Evaporation: The so-called Class A pan evaporation (in millimeters) in the 24 hours to 9am.\n",
    "- Sunshine: The number of hours of bright sunshine in the day.\n",
    "- WindGustDir: The direction of the strongest wind gust in the 24 hours to midnight.\n",
    "- WindGustSpeed: The speed (in km/h) of the strongest wind gust in the 24 hours to midnight.\n",
    "- WindDir9am: Direction of the wind at 9am.\n",
    "- WindDir3pm: Direction of the wind at 3pm.\n",
    "- WindSpeed9am: Wind speed (in km/h) averaged over 10 minutes prior to 9am.\n",
    "- WindSpeed3pm: Wind speed (in km/h) averaged over 10 minutes prior to 3pm.\n",
    "- Humidity9am: Humidity (percent) at 9am.\n",
    "- Humidity3pm: Humidity (percent) at 3pm.\n",
    "- Pressure9am: Atmospheric pressure (hpa) reduced to mean sea level at 9am.\n",
    "- Pressure3pm: Atmospheric pressure (hpa) reduced to mean sea level at 3pm.\n",
    "- Cloud9am: Fraction of sky obscured by cloud at 9am. This is measured in \"oktas,\" which are a unit of eighths. It records how many eighths of the sky are obscured by cloud.\n",
    "- Cloud3pm: Fraction of sky obscured by cloud at 3pm. Similar to Cloud9am.\n",
    "- Temp9am: Temperature (degrees Celsius) at 9am.\n",
    "- Temp3pm: Temperature (degrees Celsius) at 3pm.\n",
    "- RainToday: Indicates if it has rained. Yes if precipitation (mm) in the 24 hours to 9am exceeds 1mm, otherwise No.\n",
    "- RainTomorrow: The target variable. Indicates if it will rain tomorrow. Yes or No.\n",
    "\n",
    "These columns provide comprehensive information about daily weather conditions, useful for various analyses including weather forecasting, climate studies, and understanding local weather patterns. \n",
    "\n",
    "\n",
    "\n",
    "\n",
    "\n",
    "\n",
    "\n",
    "\n",
    "\n",
    "\n",
    "\n",
    "There is a date variable. It is denoted by Date column.\n",
    "There are 6 categorical variables. These are given by Location, WindGustDir, WindDir9am, WindDir3pm, RainToday and RainTomorrow.\n",
    "There are two binary categorical variables - RainToday and RainTomorrow.\n",
    "RainTomorrow is the target variable.\n"
   ]
  },
  {
   "cell_type": "markdown",
   "id": "6ff6652b",
   "metadata": {
    "deletable": false,
    "editable": false,
    "nbgrader": {
     "cell_type": "markdown",
     "checksum": "a727d8e370356ae16a3e06679278b5fc",
     "grade": false,
     "grade_id": "cell-70add9ddbf8dce46",
     "locked": true,
     "schema_version": 3,
     "solution": false,
     "task": false
    }
   },
   "source": [
    "## ------------------------------------------------------------------------------------"
   ]
  },
  {
   "cell_type": "markdown",
   "id": "3553f467",
   "metadata": {
    "deletable": false,
    "editable": false,
    "nbgrader": {
     "cell_type": "markdown",
     "checksum": "909874d6a78f9254aa406f180c8f9ed5",
     "grade": false,
     "grade_id": "cell-224313fde5da2d11",
     "locked": true,
     "schema_version": 3,
     "solution": false,
     "task": false
    }
   },
   "source": [
    "## Guidelines to follow in this notebook \n",
    "- The name of the main dataframe should be df \n",
    "- Keep the seed value 42\n",
    "- Names of training and testing variables should be X_train, X_test, y_train, y_test\n",
    "- Keep the name of model instance as \"model\", e.g. model = DecisionTreeClassifer()\n",
    "- Keep the predictions on training and testing data in a variable named y_train_pred and y_test_pred respectively."
   ]
  },
  {
   "cell_type": "markdown",
   "id": "b9a001cb",
   "metadata": {
    "deletable": false,
    "editable": false,
    "nbgrader": {
     "cell_type": "markdown",
     "checksum": "2ed97d18bf42427ea11cba1feece0d59",
     "grade": false,
     "grade_id": "cell-cee2c4c7d03bb2b4",
     "locked": true,
     "schema_version": 3,
     "solution": false,
     "task": false
    }
   },
   "source": [
    "## ------------------------------------------------------------------------------------"
   ]
  },
  {
   "cell_type": "markdown",
   "id": "21140ca2",
   "metadata": {
    "deletable": false,
    "editable": false,
    "nbgrader": {
     "cell_type": "markdown",
     "checksum": "0e74698acd69a335ceefb56c52924dca",
     "grade": false,
     "grade_id": "cell-b95b174637a109cb",
     "locked": true,
     "schema_version": 3,
     "solution": false,
     "task": false
    }
   },
   "source": [
    "## Import Libraries \n",
    "#### Lets begin by importing necessary data libraries "
   ]
  },
  {
   "cell_type": "code",
   "execution_count": 1,
   "id": "ab523a76",
   "metadata": {
    "deletable": false,
    "editable": false,
    "nbgrader": {
     "cell_type": "code",
     "checksum": "588b537efae3a1bdbfc34b11a1c7e444",
     "grade": false,
     "grade_id": "cell-2f26a2e40a148bd6",
     "locked": true,
     "schema_version": 3,
     "solution": false,
     "task": false
    }
   },
   "outputs": [],
   "source": [
    "#import the relevant libraries\n",
    "import pandas as pd\n",
    "import numpy as np\n",
    "import matplotlib.pyplot as plt\n",
    "import seaborn as sns\n",
    "from pandas.api.types import is_numeric_dtype\n",
    "from sklearn.metrics import f1_score\n",
    "from pandas.api.types import is_string_dtype\n",
    "from pandas.api.types import is_numeric_dtype"
   ]
  },
  {
   "cell_type": "markdown",
   "id": "a9a09a8e",
   "metadata": {
    "deletable": false,
    "editable": false,
    "nbgrader": {
     "cell_type": "markdown",
     "checksum": "a8d30cc2215bf197dba4641a2ed0af15",
     "grade": false,
     "grade_id": "cell-02ca473b61b4a17e",
     "locked": true,
     "schema_version": 3,
     "solution": false,
     "task": false
    }
   },
   "source": [
    "## Load the dataset"
   ]
  },
  {
   "cell_type": "code",
   "execution_count": 2,
   "id": "a6dc34f1",
   "metadata": {
    "deletable": false,
    "editable": false,
    "nbgrader": {
     "cell_type": "code",
     "checksum": "d469b2b079ae12e08bd85f3a6bb205c5",
     "grade": false,
     "grade_id": "cell-43019a3b65b7422b",
     "locked": true,
     "schema_version": 3,
     "solution": false,
     "task": false
    }
   },
   "outputs": [],
   "source": [
    "### load the dataset and print no. of rows and columns \n",
    "df = pd.read_csv(\"Rain_inaus_feature_engineering_final.csv\")"
   ]
  },
  {
   "cell_type": "code",
   "execution_count": 3,
   "id": "4a725132",
   "metadata": {
    "deletable": false,
    "editable": false,
    "nbgrader": {
     "cell_type": "code",
     "checksum": "6d3b7644b23a2ceea89a0c42757d56d4",
     "grade": false,
     "grade_id": "cell-e84967593891886c",
     "locked": true,
     "schema_version": 3,
     "solution": false,
     "task": false
    }
   },
   "outputs": [
    {
     "data": {
      "text/html": [
       "<div>\n",
       "<style scoped>\n",
       "    .dataframe tbody tr th:only-of-type {\n",
       "        vertical-align: middle;\n",
       "    }\n",
       "\n",
       "    .dataframe tbody tr th {\n",
       "        vertical-align: top;\n",
       "    }\n",
       "\n",
       "    .dataframe thead th {\n",
       "        text-align: right;\n",
       "    }\n",
       "</style>\n",
       "<table border=\"1\" class=\"dataframe\">\n",
       "  <thead>\n",
       "    <tr style=\"text-align: right;\">\n",
       "      <th></th>\n",
       "      <th>Date</th>\n",
       "      <th>Location</th>\n",
       "      <th>MinTemp</th>\n",
       "      <th>MaxTemp</th>\n",
       "      <th>Rainfall</th>\n",
       "      <th>Evaporation</th>\n",
       "      <th>Sunshine</th>\n",
       "      <th>WindGustDir</th>\n",
       "      <th>WindGustSpeed</th>\n",
       "      <th>WindDir9am</th>\n",
       "      <th>...</th>\n",
       "      <th>Humidity9am</th>\n",
       "      <th>Humidity3pm</th>\n",
       "      <th>Pressure9am</th>\n",
       "      <th>Pressure3pm</th>\n",
       "      <th>Cloud9am</th>\n",
       "      <th>Cloud3pm</th>\n",
       "      <th>Temp9am</th>\n",
       "      <th>Temp3pm</th>\n",
       "      <th>RainToday</th>\n",
       "      <th>RainTomorrow</th>\n",
       "    </tr>\n",
       "  </thead>\n",
       "  <tbody>\n",
       "    <tr>\n",
       "      <th>0</th>\n",
       "      <td>2017-02-11</td>\n",
       "      <td>MountGambier</td>\n",
       "      <td>15.2</td>\n",
       "      <td>24.3</td>\n",
       "      <td>0.0</td>\n",
       "      <td>4.4</td>\n",
       "      <td>6.8</td>\n",
       "      <td>SW</td>\n",
       "      <td>39.0</td>\n",
       "      <td>SSE</td>\n",
       "      <td>...</td>\n",
       "      <td>70.0</td>\n",
       "      <td>58.0</td>\n",
       "      <td>1010.8</td>\n",
       "      <td>1010.1</td>\n",
       "      <td>8.0</td>\n",
       "      <td>8.0</td>\n",
       "      <td>18.2</td>\n",
       "      <td>20.9</td>\n",
       "      <td>No</td>\n",
       "      <td>Yes</td>\n",
       "    </tr>\n",
       "    <tr>\n",
       "      <th>1</th>\n",
       "      <td>2011-08-23</td>\n",
       "      <td>Brisbane</td>\n",
       "      <td>13.9</td>\n",
       "      <td>21.6</td>\n",
       "      <td>8.8</td>\n",
       "      <td>3.2</td>\n",
       "      <td>6.6</td>\n",
       "      <td>ESE</td>\n",
       "      <td>44.0</td>\n",
       "      <td>SW</td>\n",
       "      <td>...</td>\n",
       "      <td>88.0</td>\n",
       "      <td>74.0</td>\n",
       "      <td>1026.9</td>\n",
       "      <td>1024.2</td>\n",
       "      <td>3.0</td>\n",
       "      <td>5.0</td>\n",
       "      <td>17.0</td>\n",
       "      <td>20.0</td>\n",
       "      <td>Yes</td>\n",
       "      <td>Yes</td>\n",
       "    </tr>\n",
       "    <tr>\n",
       "      <th>2</th>\n",
       "      <td>2014-09-11</td>\n",
       "      <td>Newcastle</td>\n",
       "      <td>9.5</td>\n",
       "      <td>24.2</td>\n",
       "      <td>0.0</td>\n",
       "      <td>4.4</td>\n",
       "      <td>6.8</td>\n",
       "      <td>W</td>\n",
       "      <td>41.0</td>\n",
       "      <td>NW</td>\n",
       "      <td>...</td>\n",
       "      <td>56.0</td>\n",
       "      <td>33.0</td>\n",
       "      <td>1016.5</td>\n",
       "      <td>1014.2</td>\n",
       "      <td>0.0</td>\n",
       "      <td>0.0</td>\n",
       "      <td>17.0</td>\n",
       "      <td>24.0</td>\n",
       "      <td>No</td>\n",
       "      <td>Yes</td>\n",
       "    </tr>\n",
       "    <tr>\n",
       "      <th>3</th>\n",
       "      <td>2015-05-31</td>\n",
       "      <td>CoffsHarbour</td>\n",
       "      <td>16.3</td>\n",
       "      <td>20.7</td>\n",
       "      <td>4.4</td>\n",
       "      <td>4.4</td>\n",
       "      <td>6.8</td>\n",
       "      <td>WSW</td>\n",
       "      <td>41.0</td>\n",
       "      <td>WSW</td>\n",
       "      <td>...</td>\n",
       "      <td>96.0</td>\n",
       "      <td>82.0</td>\n",
       "      <td>1016.9</td>\n",
       "      <td>1012.0</td>\n",
       "      <td>8.0</td>\n",
       "      <td>5.0</td>\n",
       "      <td>16.8</td>\n",
       "      <td>20.0</td>\n",
       "      <td>Yes</td>\n",
       "      <td>Yes</td>\n",
       "    </tr>\n",
       "    <tr>\n",
       "      <th>4</th>\n",
       "      <td>2015-04-07</td>\n",
       "      <td>NorahHead</td>\n",
       "      <td>15.2</td>\n",
       "      <td>25.1</td>\n",
       "      <td>3.8</td>\n",
       "      <td>4.4</td>\n",
       "      <td>6.8</td>\n",
       "      <td>W</td>\n",
       "      <td>46.0</td>\n",
       "      <td>NNW</td>\n",
       "      <td>...</td>\n",
       "      <td>79.0</td>\n",
       "      <td>58.0</td>\n",
       "      <td>1007.9</td>\n",
       "      <td>1007.3</td>\n",
       "      <td>6.0</td>\n",
       "      <td>6.0</td>\n",
       "      <td>20.4</td>\n",
       "      <td>20.5</td>\n",
       "      <td>Yes</td>\n",
       "      <td>Yes</td>\n",
       "    </tr>\n",
       "  </tbody>\n",
       "</table>\n",
       "<p>5 rows × 23 columns</p>\n",
       "</div>"
      ],
      "text/plain": [
       "         Date      Location  MinTemp  MaxTemp  Rainfall  Evaporation  \\\n",
       "0  2017-02-11  MountGambier     15.2     24.3       0.0          4.4   \n",
       "1  2011-08-23      Brisbane     13.9     21.6       8.8          3.2   \n",
       "2  2014-09-11     Newcastle      9.5     24.2       0.0          4.4   \n",
       "3  2015-05-31  CoffsHarbour     16.3     20.7       4.4          4.4   \n",
       "4  2015-04-07     NorahHead     15.2     25.1       3.8          4.4   \n",
       "\n",
       "   Sunshine WindGustDir  WindGustSpeed WindDir9am  ... Humidity9am  \\\n",
       "0       6.8          SW           39.0        SSE  ...        70.0   \n",
       "1       6.6         ESE           44.0         SW  ...        88.0   \n",
       "2       6.8           W           41.0         NW  ...        56.0   \n",
       "3       6.8         WSW           41.0        WSW  ...        96.0   \n",
       "4       6.8           W           46.0        NNW  ...        79.0   \n",
       "\n",
       "   Humidity3pm  Pressure9am  Pressure3pm  Cloud9am  Cloud3pm  Temp9am  \\\n",
       "0         58.0       1010.8       1010.1       8.0       8.0     18.2   \n",
       "1         74.0       1026.9       1024.2       3.0       5.0     17.0   \n",
       "2         33.0       1016.5       1014.2       0.0       0.0     17.0   \n",
       "3         82.0       1016.9       1012.0       8.0       5.0     16.8   \n",
       "4         58.0       1007.9       1007.3       6.0       6.0     20.4   \n",
       "\n",
       "   Temp3pm  RainToday  RainTomorrow  \n",
       "0     20.9         No           Yes  \n",
       "1     20.0        Yes           Yes  \n",
       "2     24.0         No           Yes  \n",
       "3     20.0        Yes           Yes  \n",
       "4     20.5        Yes           Yes  \n",
       "\n",
       "[5 rows x 23 columns]"
      ]
     },
     "execution_count": 3,
     "metadata": {},
     "output_type": "execute_result"
    }
   ],
   "source": [
    "# Display the first few rows of the dataset \n",
    "df.head()"
   ]
  },
  {
   "cell_type": "code",
   "execution_count": 4,
   "id": "17feeb60",
   "metadata": {
    "deletable": false,
    "editable": false,
    "nbgrader": {
     "cell_type": "code",
     "checksum": "ee00463cf74cc2f917e1737c84d12497",
     "grade": false,
     "grade_id": "cell-633ab191146ba030",
     "locked": true,
     "schema_version": 3,
     "solution": false,
     "task": false
    }
   },
   "outputs": [
    {
     "data": {
      "text/plain": [
       "Date             0\n",
       "Location         0\n",
       "MinTemp          0\n",
       "MaxTemp          0\n",
       "Rainfall         0\n",
       "Evaporation      0\n",
       "Sunshine         0\n",
       "WindGustDir      0\n",
       "WindGustSpeed    0\n",
       "WindDir9am       0\n",
       "WindDir3pm       0\n",
       "WindSpeed9am     0\n",
       "WindSpeed3pm     0\n",
       "Humidity9am      0\n",
       "Humidity3pm      0\n",
       "Pressure9am      0\n",
       "Pressure3pm      0\n",
       "Cloud9am         0\n",
       "Cloud3pm         0\n",
       "Temp9am          0\n",
       "Temp3pm          0\n",
       "RainToday        0\n",
       "RainTomorrow     0\n",
       "dtype: int64"
      ]
     },
     "execution_count": 4,
     "metadata": {},
     "output_type": "execute_result"
    }
   ],
   "source": [
    "# Checking the null values in the dataset\n",
    "df.isna().sum()"
   ]
  },
  {
   "cell_type": "code",
   "execution_count": 5,
   "id": "52fdf31a",
   "metadata": {
    "deletable": false,
    "editable": false,
    "nbgrader": {
     "cell_type": "code",
     "checksum": "0fbedc7cf354da0a04ee1ee4a8b7c03e",
     "grade": false,
     "grade_id": "cell-1f1ccffa75649741",
     "locked": true,
     "schema_version": 3,
     "solution": false,
     "task": false
    }
   },
   "outputs": [
    {
     "name": "stdout",
     "output_type": "stream",
     "text": [
      "There are 16 numerical variables\n",
      "\n",
      "The numerical variables are : ['MinTemp', 'MaxTemp', 'Rainfall', 'Evaporation', 'Sunshine', 'WindGustSpeed', 'WindSpeed9am', 'WindSpeed3pm', 'Humidity9am', 'Humidity3pm', 'Pressure9am', 'Pressure3pm', 'Cloud9am', 'Cloud3pm', 'Temp9am', 'Temp3pm']\n"
     ]
    }
   ],
   "source": [
    "# Storing the  numerical columns in a list which will be used later while training the model\n",
    "numerical = [var for var in df.columns if df[var].dtype!='O']\n",
    "print('There are {} numerical variables\\n'.format(len(numerical)))\n",
    "print('The numerical variables are :', numerical)"
   ]
  },
  {
   "cell_type": "markdown",
   "id": "68d296c5",
   "metadata": {
    "deletable": false,
    "editable": false,
    "nbgrader": {
     "cell_type": "markdown",
     "checksum": "f753b584f47ce8949235c576b95c083b",
     "grade": false,
     "grade_id": "cell-24ea781d007f1fc1",
     "locked": true,
     "schema_version": 3,
     "solution": false,
     "task": false
    }
   },
   "source": [
    "# FEATURE GENERATION "
   ]
  },
  {
   "cell_type": "markdown",
   "id": "9934d893",
   "metadata": {
    "deletable": false,
    "editable": false,
    "nbgrader": {
     "cell_type": "markdown",
     "checksum": "d2815b9b39e74e2c175c5d58fddb024e",
     "grade": false,
     "grade_id": "cell-77a6609024581d6f",
     "locked": true,
     "schema_version": 3,
     "solution": false,
     "task": false
    }
   },
   "source": [
    "- Now we will create new features using the features available to us in the dataset "
   ]
  },
  {
   "cell_type": "markdown",
   "id": "d4133b7b",
   "metadata": {
    "deletable": false,
    "editable": false,
    "nbgrader": {
     "cell_type": "markdown",
     "checksum": "62617a0e50010d2b7d1854deb776abf8",
     "grade": false,
     "grade_id": "cell-b41843a5911e5f42",
     "locked": true,
     "schema_version": 3,
     "solution": false,
     "task": false
    }
   },
   "source": [
    "## First we will work on the column 'Date'"
   ]
  },
  {
   "cell_type": "code",
   "execution_count": 6,
   "id": "55cb91e2",
   "metadata": {
    "deletable": false,
    "nbgrader": {
     "cell_type": "code",
     "checksum": "1e6ddb9fda0a76d5a39b116d1e699650",
     "grade": false,
     "grade_id": "cell-26a57fabadeae8c6",
     "locked": false,
     "schema_version": 3,
     "solution": true,
     "task": false
    }
   },
   "outputs": [],
   "source": [
    "# change the datatype of Column \"Date\" from  object to datetime\n",
    "# your code here\n",
    "# raise NotImplementedError\n",
    "\n",
    "df['Date'] = pd.to_datetime(df['Date'])"
   ]
  },
  {
   "cell_type": "code",
   "execution_count": 7,
   "id": "6db32c16",
   "metadata": {},
   "outputs": [
    {
     "name": "stdout",
     "output_type": "stream",
     "text": [
      "<class 'pandas.core.frame.DataFrame'>\n",
      "RangeIndex: 40000 entries, 0 to 39999\n",
      "Data columns (total 23 columns):\n",
      " #   Column         Non-Null Count  Dtype         \n",
      "---  ------         --------------  -----         \n",
      " 0   Date           40000 non-null  datetime64[ns]\n",
      " 1   Location       40000 non-null  object        \n",
      " 2   MinTemp        40000 non-null  float64       \n",
      " 3   MaxTemp        40000 non-null  float64       \n",
      " 4   Rainfall       40000 non-null  float64       \n",
      " 5   Evaporation    40000 non-null  float64       \n",
      " 6   Sunshine       40000 non-null  float64       \n",
      " 7   WindGustDir    40000 non-null  object        \n",
      " 8   WindGustSpeed  40000 non-null  float64       \n",
      " 9   WindDir9am     40000 non-null  object        \n",
      " 10  WindDir3pm     40000 non-null  object        \n",
      " 11  WindSpeed9am   40000 non-null  float64       \n",
      " 12  WindSpeed3pm   40000 non-null  float64       \n",
      " 13  Humidity9am    40000 non-null  float64       \n",
      " 14  Humidity3pm    40000 non-null  float64       \n",
      " 15  Pressure9am    40000 non-null  float64       \n",
      " 16  Pressure3pm    40000 non-null  float64       \n",
      " 17  Cloud9am       40000 non-null  float64       \n",
      " 18  Cloud3pm       40000 non-null  float64       \n",
      " 19  Temp9am        40000 non-null  float64       \n",
      " 20  Temp3pm        40000 non-null  float64       \n",
      " 21  RainToday      40000 non-null  object        \n",
      " 22  RainTomorrow   40000 non-null  object        \n",
      "dtypes: datetime64[ns](1), float64(16), object(6)\n",
      "memory usage: 7.0+ MB\n"
     ]
    }
   ],
   "source": [
    "df.info()"
   ]
  },
  {
   "cell_type": "markdown",
   "id": "2d1908b0",
   "metadata": {
    "deletable": false,
    "editable": false,
    "nbgrader": {
     "cell_type": "markdown",
     "checksum": "7e37a481897a9f52ff947ca3197e4b48",
     "grade": false,
     "grade_id": "cell-0668012ea2e091ec",
     "locked": true,
     "schema_version": 3,
     "solution": false,
     "task": false
    }
   },
   "source": [
    "- Create three columns using the column 'Date' : day, month and year "
   ]
  },
  {
   "cell_type": "code",
   "execution_count": 8,
   "id": "206f2336",
   "metadata": {
    "deletable": false,
    "nbgrader": {
     "cell_type": "code",
     "checksum": "e987ec10cd11d6c32e125e106e84686c",
     "grade": false,
     "grade_id": "cell-340ca8434b759216",
     "locked": false,
     "schema_version": 3,
     "solution": true,
     "task": false
    }
   },
   "outputs": [],
   "source": [
    "# extract year from date\n",
    "# your code here\n",
    "# raise NotImplementedError\n",
    "df['year'] = df['Date'].dt.year"
   ]
  },
  {
   "cell_type": "code",
   "execution_count": null,
   "id": "b3940597",
   "metadata": {
    "deletable": false,
    "editable": false,
    "nbgrader": {
     "cell_type": "code",
     "checksum": "0ba79aaaccefba735414b243d1a9840b",
     "grade": true,
     "grade_id": "cell-5041d8260a23604e",
     "locked": true,
     "points": 2,
     "schema_version": 3,
     "solution": false,
     "task": false
    }
   },
   "outputs": [],
   "source": []
  },
  {
   "cell_type": "code",
   "execution_count": 9,
   "id": "30f62845",
   "metadata": {
    "deletable": false,
    "nbgrader": {
     "cell_type": "code",
     "checksum": "6f53ff6131155c3c47310b0fe926e52b",
     "grade": false,
     "grade_id": "cell-70042f0d925d18bf",
     "locked": false,
     "schema_version": 3,
     "solution": true,
     "task": false
    }
   },
   "outputs": [],
   "source": [
    "# extract month from date\n",
    "# your code here\n",
    "# raise NotImplementedError\n",
    "df['month'] = df['Date'].dt.month# Initialize the scaler"
   ]
  },
  {
   "cell_type": "code",
   "execution_count": null,
   "id": "17647b55",
   "metadata": {
    "deletable": false,
    "editable": false,
    "nbgrader": {
     "cell_type": "code",
     "checksum": "236695e2b598206d2d3ac71ae52234eb",
     "grade": true,
     "grade_id": "cell-2b3bd3e398271bf0",
     "locked": true,
     "points": 2,
     "schema_version": 3,
     "solution": false,
     "task": false
    }
   },
   "outputs": [],
   "source": []
  },
  {
   "cell_type": "code",
   "execution_count": 10,
   "id": "9ef2a5fc",
   "metadata": {
    "deletable": false,
    "editable": false,
    "nbgrader": {
     "cell_type": "code",
     "checksum": "840e2efaab38e1c115d4e8deb6651e86",
     "grade": false,
     "grade_id": "cell-35a8ec997df335bf",
     "locked": true,
     "schema_version": 3,
     "solution": false,
     "task": false
    }
   },
   "outputs": [
    {
     "data": {
      "text/plain": [
       "1"
      ]
     },
     "execution_count": 10,
     "metadata": {},
     "output_type": "execute_result"
    }
   ],
   "source": [
    "# extract day from date\n",
    "df['Day'] = df['Date'].dt.day\n",
    "df['Day'].min()"
   ]
  },
  {
   "cell_type": "code",
   "execution_count": null,
   "id": "042db670",
   "metadata": {
    "deletable": false,
    "editable": false,
    "nbgrader": {
     "cell_type": "code",
     "checksum": "162a6d19fd37a2438adec395289fae0b",
     "grade": true,
     "grade_id": "cell-fa096d2b9c01717a",
     "locked": true,
     "points": 0,
     "schema_version": 3,
     "solution": false,
     "task": false
    }
   },
   "outputs": [],
   "source": []
  },
  {
   "cell_type": "code",
   "execution_count": 11,
   "id": "0425d663",
   "metadata": {
    "deletable": false,
    "nbgrader": {
     "cell_type": "code",
     "checksum": "9f6e4832d02fa6ef6156fbecf1bef656",
     "grade": false,
     "grade_id": "cell-4e5d3be83c59e92d",
     "locked": false,
     "schema_version": 3,
     "solution": true,
     "task": false
    }
   },
   "outputs": [
    {
     "data": {
      "text/plain": [
       "Index(['Location', 'MinTemp', 'MaxTemp', 'Rainfall', 'Evaporation', 'Sunshine',\n",
       "       'WindGustDir', 'WindGustSpeed', 'WindDir9am', 'WindDir3pm',\n",
       "       'WindSpeed9am', 'WindSpeed3pm', 'Humidity9am', 'Humidity3pm',\n",
       "       'Pressure9am', 'Pressure3pm', 'Cloud9am', 'Cloud3pm', 'Temp9am',\n",
       "       'Temp3pm', 'RainToday', 'RainTomorrow', 'year', 'month', 'Day'],\n",
       "      dtype='object')"
      ]
     },
     "execution_count": 11,
     "metadata": {},
     "output_type": "execute_result"
    }
   ],
   "source": [
    "# Drop the column Date as we have already created 3 columns using the column Date\n",
    "# your code here\n",
    "# raise NotImplementedError\n",
    "df.drop(columns=['Date'],inplace=True)\n",
    "df.columns"
   ]
  },
  {
   "cell_type": "code",
   "execution_count": 12,
   "id": "94ecd549",
   "metadata": {},
   "outputs": [
    {
     "data": {
      "text/plain": [
       "(40000, 25)"
      ]
     },
     "execution_count": 12,
     "metadata": {},
     "output_type": "execute_result"
    }
   ],
   "source": [
    "df.shape"
   ]
  },
  {
   "cell_type": "markdown",
   "id": "74ef94b2",
   "metadata": {
    "deletable": false,
    "editable": false,
    "nbgrader": {
     "cell_type": "markdown",
     "checksum": "78a73502d8acd3112ed5983f8c621d81",
     "grade": false,
     "grade_id": "cell-677758b496c4d418",
     "locked": true,
     "schema_version": 3,
     "solution": false,
     "task": false
    }
   },
   "source": [
    "- Here Using the Column 'Date', we created three new features and will have to drop the parent column (DATE) as it may lead to collinearity in data"
   ]
  },
  {
   "cell_type": "code",
   "execution_count": null,
   "id": "3d50e4c5",
   "metadata": {
    "deletable": false,
    "editable": false,
    "nbgrader": {
     "cell_type": "code",
     "checksum": "f9d1cf2d3750e4b8381974ab7fae72d7",
     "grade": true,
     "grade_id": "cell-ce06b5c5636d3d33",
     "locked": true,
     "points": 2,
     "schema_version": 3,
     "solution": false,
     "task": false
    }
   },
   "outputs": [],
   "source": []
  },
  {
   "cell_type": "markdown",
   "id": "931babf6",
   "metadata": {
    "deletable": false,
    "editable": false,
    "nbgrader": {
     "cell_type": "markdown",
     "checksum": "526811f961626322871704cf02505b53",
     "grade": false,
     "grade_id": "cell-7dbd724c3a4e19cc",
     "locked": true,
     "schema_version": 3,
     "solution": false,
     "task": false
    }
   },
   "source": [
    "### We can look at the correlation matrix and see if we can create other features  "
   ]
  },
  {
   "cell_type": "code",
   "execution_count": 13,
   "id": "98c15147",
   "metadata": {},
   "outputs": [
    {
     "data": {
      "text/plain": [
       "['MinTemp',\n",
       " 'MaxTemp',\n",
       " 'Rainfall',\n",
       " 'Evaporation',\n",
       " 'Sunshine',\n",
       " 'WindGustSpeed',\n",
       " 'WindSpeed9am',\n",
       " 'WindSpeed3pm',\n",
       " 'Humidity9am',\n",
       " 'Humidity3pm',\n",
       " 'Pressure9am',\n",
       " 'Pressure3pm',\n",
       " 'Cloud9am',\n",
       " 'Cloud3pm',\n",
       " 'Temp9am',\n",
       " 'Temp3pm']"
      ]
     },
     "execution_count": 13,
     "metadata": {},
     "output_type": "execute_result"
    }
   ],
   "source": [
    "numerical"
   ]
  },
  {
   "cell_type": "code",
   "execution_count": 14,
   "id": "f40f4ce0",
   "metadata": {
    "deletable": false,
    "editable": false,
    "nbgrader": {
     "cell_type": "code",
     "checksum": "f92f3519ecc5b9d28a90df0dc2cb6330",
     "grade": false,
     "grade_id": "cell-4c9a44c08d3b8ab1",
     "locked": true,
     "schema_version": 3,
     "solution": false,
     "task": false
    }
   },
   "outputs": [
    {
     "data": {
      "text/html": [
       "<div>\n",
       "<style scoped>\n",
       "    .dataframe tbody tr th:only-of-type {\n",
       "        vertical-align: middle;\n",
       "    }\n",
       "\n",
       "    .dataframe tbody tr th {\n",
       "        vertical-align: top;\n",
       "    }\n",
       "\n",
       "    .dataframe thead th {\n",
       "        text-align: right;\n",
       "    }\n",
       "</style>\n",
       "<table border=\"1\" class=\"dataframe\">\n",
       "  <thead>\n",
       "    <tr style=\"text-align: right;\">\n",
       "      <th></th>\n",
       "      <th>MinTemp</th>\n",
       "      <th>MaxTemp</th>\n",
       "      <th>Rainfall</th>\n",
       "      <th>Evaporation</th>\n",
       "      <th>Sunshine</th>\n",
       "      <th>WindGustSpeed</th>\n",
       "      <th>WindSpeed9am</th>\n",
       "      <th>WindSpeed3pm</th>\n",
       "      <th>Humidity9am</th>\n",
       "      <th>Humidity3pm</th>\n",
       "      <th>Pressure9am</th>\n",
       "      <th>Pressure3pm</th>\n",
       "      <th>Cloud9am</th>\n",
       "      <th>Cloud3pm</th>\n",
       "      <th>Temp9am</th>\n",
       "      <th>Temp3pm</th>\n",
       "    </tr>\n",
       "  </thead>\n",
       "  <tbody>\n",
       "    <tr>\n",
       "      <th>MinTemp</th>\n",
       "      <td>1.000000</td>\n",
       "      <td>0.738167</td>\n",
       "      <td>0.088993</td>\n",
       "      <td>0.425236</td>\n",
       "      <td>0.018875</td>\n",
       "      <td>0.118289</td>\n",
       "      <td>0.126378</td>\n",
       "      <td>0.114690</td>\n",
       "      <td>-0.194706</td>\n",
       "      <td>0.024682</td>\n",
       "      <td>-0.342039</td>\n",
       "      <td>-0.350375</td>\n",
       "      <td>0.028620</td>\n",
       "      <td>-0.014037</td>\n",
       "      <td>0.902188</td>\n",
       "      <td>0.698847</td>\n",
       "    </tr>\n",
       "    <tr>\n",
       "      <th>MaxTemp</th>\n",
       "      <td>0.738167</td>\n",
       "      <td>1.000000</td>\n",
       "      <td>-0.203555</td>\n",
       "      <td>0.504883</td>\n",
       "      <td>0.310638</td>\n",
       "      <td>0.012157</td>\n",
       "      <td>-0.036053</td>\n",
       "      <td>0.010518</td>\n",
       "      <td>-0.484964</td>\n",
       "      <td>-0.483223</td>\n",
       "      <td>-0.211770</td>\n",
       "      <td>-0.296823</td>\n",
       "      <td>-0.244086</td>\n",
       "      <td>-0.237977</td>\n",
       "      <td>0.882273</td>\n",
       "      <td>0.963638</td>\n",
       "    </tr>\n",
       "    <tr>\n",
       "      <th>Rainfall</th>\n",
       "      <td>0.088993</td>\n",
       "      <td>-0.203555</td>\n",
       "      <td>1.000000</td>\n",
       "      <td>-0.144796</td>\n",
       "      <td>-0.239205</td>\n",
       "      <td>0.171846</td>\n",
       "      <td>0.123753</td>\n",
       "      <td>0.081482</td>\n",
       "      <td>0.391318</td>\n",
       "      <td>0.391765</td>\n",
       "      <td>-0.217144</td>\n",
       "      <td>-0.141204</td>\n",
       "      <td>0.245268</td>\n",
       "      <td>0.202764</td>\n",
       "      <td>-0.068312</td>\n",
       "      <td>-0.205536</td>\n",
       "    </tr>\n",
       "    <tr>\n",
       "      <th>Evaporation</th>\n",
       "      <td>0.425236</td>\n",
       "      <td>0.504883</td>\n",
       "      <td>-0.144796</td>\n",
       "      <td>1.000000</td>\n",
       "      <td>0.323542</td>\n",
       "      <td>0.122791</td>\n",
       "      <td>0.116889</td>\n",
       "      <td>0.104602</td>\n",
       "      <td>-0.399177</td>\n",
       "      <td>-0.285545</td>\n",
       "      <td>-0.204183</td>\n",
       "      <td>-0.225830</td>\n",
       "      <td>-0.184046</td>\n",
       "      <td>-0.191317</td>\n",
       "      <td>0.495531</td>\n",
       "      <td>0.484873</td>\n",
       "    </tr>\n",
       "    <tr>\n",
       "      <th>Sunshine</th>\n",
       "      <td>0.018875</td>\n",
       "      <td>0.310638</td>\n",
       "      <td>-0.239205</td>\n",
       "      <td>0.323542</td>\n",
       "      <td>1.000000</td>\n",
       "      <td>-0.047324</td>\n",
       "      <td>-0.017596</td>\n",
       "      <td>0.035724</td>\n",
       "      <td>-0.359475</td>\n",
       "      <td>-0.471784</td>\n",
       "      <td>0.075752</td>\n",
       "      <td>0.035053</td>\n",
       "      <td>-0.537514</td>\n",
       "      <td>-0.558105</td>\n",
       "      <td>0.176163</td>\n",
       "      <td>0.331925</td>\n",
       "    </tr>\n",
       "    <tr>\n",
       "      <th>WindGustSpeed</th>\n",
       "      <td>0.118289</td>\n",
       "      <td>0.012157</td>\n",
       "      <td>0.171846</td>\n",
       "      <td>0.122791</td>\n",
       "      <td>-0.047324</td>\n",
       "      <td>1.000000</td>\n",
       "      <td>0.573284</td>\n",
       "      <td>0.643178</td>\n",
       "      <td>-0.153297</td>\n",
       "      <td>0.019955</td>\n",
       "      <td>-0.417229</td>\n",
       "      <td>-0.377271</td>\n",
       "      <td>0.043015</td>\n",
       "      <td>0.079469</td>\n",
       "      <td>0.088836</td>\n",
       "      <td>-0.028038</td>\n",
       "    </tr>\n",
       "    <tr>\n",
       "      <th>WindSpeed9am</th>\n",
       "      <td>0.126378</td>\n",
       "      <td>-0.036053</td>\n",
       "      <td>0.123753</td>\n",
       "      <td>0.116889</td>\n",
       "      <td>-0.017596</td>\n",
       "      <td>0.573284</td>\n",
       "      <td>1.000000</td>\n",
       "      <td>0.535061</td>\n",
       "      <td>-0.219537</td>\n",
       "      <td>0.012480</td>\n",
       "      <td>-0.202653</td>\n",
       "      <td>-0.148490</td>\n",
       "      <td>-0.001723</td>\n",
       "      <td>0.025506</td>\n",
       "      <td>0.079559</td>\n",
       "      <td>-0.045014</td>\n",
       "    </tr>\n",
       "    <tr>\n",
       "      <th>WindSpeed3pm</th>\n",
       "      <td>0.114690</td>\n",
       "      <td>0.010518</td>\n",
       "      <td>0.081482</td>\n",
       "      <td>0.104602</td>\n",
       "      <td>0.035724</td>\n",
       "      <td>0.643178</td>\n",
       "      <td>0.535061</td>\n",
       "      <td>1.000000</td>\n",
       "      <td>-0.122363</td>\n",
       "      <td>-0.001581</td>\n",
       "      <td>-0.244933</td>\n",
       "      <td>-0.207850</td>\n",
       "      <td>0.007212</td>\n",
       "      <td>-0.002496</td>\n",
       "      <td>0.101648</td>\n",
       "      <td>-0.008578</td>\n",
       "    </tr>\n",
       "    <tr>\n",
       "      <th>Humidity9am</th>\n",
       "      <td>-0.194706</td>\n",
       "      <td>-0.484964</td>\n",
       "      <td>0.391318</td>\n",
       "      <td>-0.399177</td>\n",
       "      <td>-0.359475</td>\n",
       "      <td>-0.153297</td>\n",
       "      <td>-0.219537</td>\n",
       "      <td>-0.122363</td>\n",
       "      <td>1.000000</td>\n",
       "      <td>0.653496</td>\n",
       "      <td>0.061543</td>\n",
       "      <td>0.103553</td>\n",
       "      <td>0.382095</td>\n",
       "      <td>0.299030</td>\n",
       "      <td>-0.437019</td>\n",
       "      <td>-0.472857</td>\n",
       "    </tr>\n",
       "    <tr>\n",
       "      <th>Humidity3pm</th>\n",
       "      <td>0.024682</td>\n",
       "      <td>-0.483223</td>\n",
       "      <td>0.391765</td>\n",
       "      <td>-0.285545</td>\n",
       "      <td>-0.471784</td>\n",
       "      <td>0.019955</td>\n",
       "      <td>0.012480</td>\n",
       "      <td>-0.001581</td>\n",
       "      <td>0.653496</td>\n",
       "      <td>1.000000</td>\n",
       "      <td>-0.085633</td>\n",
       "      <td>-0.014885</td>\n",
       "      <td>0.411800</td>\n",
       "      <td>0.437446</td>\n",
       "      <td>-0.196419</td>\n",
       "      <td>-0.550452</td>\n",
       "    </tr>\n",
       "    <tr>\n",
       "      <th>Pressure9am</th>\n",
       "      <td>-0.342039</td>\n",
       "      <td>-0.211770</td>\n",
       "      <td>-0.217144</td>\n",
       "      <td>-0.204183</td>\n",
       "      <td>0.075752</td>\n",
       "      <td>-0.417229</td>\n",
       "      <td>-0.202653</td>\n",
       "      <td>-0.244933</td>\n",
       "      <td>0.061543</td>\n",
       "      <td>-0.085633</td>\n",
       "      <td>1.000000</td>\n",
       "      <td>0.956510</td>\n",
       "      <td>-0.103643</td>\n",
       "      <td>-0.119288</td>\n",
       "      <td>-0.304075</td>\n",
       "      <td>-0.162650</td>\n",
       "    </tr>\n",
       "    <tr>\n",
       "      <th>Pressure3pm</th>\n",
       "      <td>-0.350375</td>\n",
       "      <td>-0.296823</td>\n",
       "      <td>-0.141204</td>\n",
       "      <td>-0.225830</td>\n",
       "      <td>0.035053</td>\n",
       "      <td>-0.377271</td>\n",
       "      <td>-0.148490</td>\n",
       "      <td>-0.207850</td>\n",
       "      <td>0.103553</td>\n",
       "      <td>-0.014885</td>\n",
       "      <td>0.956510</td>\n",
       "      <td>1.000000</td>\n",
       "      <td>-0.057109</td>\n",
       "      <td>-0.078250</td>\n",
       "      <td>-0.345396</td>\n",
       "      <td>-0.256097</td>\n",
       "    </tr>\n",
       "    <tr>\n",
       "      <th>Cloud9am</th>\n",
       "      <td>0.028620</td>\n",
       "      <td>-0.244086</td>\n",
       "      <td>0.245268</td>\n",
       "      <td>-0.184046</td>\n",
       "      <td>-0.537514</td>\n",
       "      <td>0.043015</td>\n",
       "      <td>-0.001723</td>\n",
       "      <td>0.007212</td>\n",
       "      <td>0.382095</td>\n",
       "      <td>0.411800</td>\n",
       "      <td>-0.103643</td>\n",
       "      <td>-0.057109</td>\n",
       "      <td>1.000000</td>\n",
       "      <td>0.563097</td>\n",
       "      <td>-0.133254</td>\n",
       "      <td>-0.251464</td>\n",
       "    </tr>\n",
       "    <tr>\n",
       "      <th>Cloud3pm</th>\n",
       "      <td>-0.014037</td>\n",
       "      <td>-0.237977</td>\n",
       "      <td>0.202764</td>\n",
       "      <td>-0.191317</td>\n",
       "      <td>-0.558105</td>\n",
       "      <td>0.079469</td>\n",
       "      <td>0.025506</td>\n",
       "      <td>-0.002496</td>\n",
       "      <td>0.299030</td>\n",
       "      <td>0.437446</td>\n",
       "      <td>-0.119288</td>\n",
       "      <td>-0.078250</td>\n",
       "      <td>0.563097</td>\n",
       "      <td>1.000000</td>\n",
       "      <td>-0.122836</td>\n",
       "      <td>-0.279924</td>\n",
       "    </tr>\n",
       "    <tr>\n",
       "      <th>Temp9am</th>\n",
       "      <td>0.902188</td>\n",
       "      <td>0.882273</td>\n",
       "      <td>-0.068312</td>\n",
       "      <td>0.495531</td>\n",
       "      <td>0.176163</td>\n",
       "      <td>0.088836</td>\n",
       "      <td>0.079559</td>\n",
       "      <td>0.101648</td>\n",
       "      <td>-0.437019</td>\n",
       "      <td>-0.196419</td>\n",
       "      <td>-0.304075</td>\n",
       "      <td>-0.345396</td>\n",
       "      <td>-0.133254</td>\n",
       "      <td>-0.122836</td>\n",
       "      <td>1.000000</td>\n",
       "      <td>0.843874</td>\n",
       "    </tr>\n",
       "    <tr>\n",
       "      <th>Temp3pm</th>\n",
       "      <td>0.698847</td>\n",
       "      <td>0.963638</td>\n",
       "      <td>-0.205536</td>\n",
       "      <td>0.484873</td>\n",
       "      <td>0.331925</td>\n",
       "      <td>-0.028038</td>\n",
       "      <td>-0.045014</td>\n",
       "      <td>-0.008578</td>\n",
       "      <td>-0.472857</td>\n",
       "      <td>-0.550452</td>\n",
       "      <td>-0.162650</td>\n",
       "      <td>-0.256097</td>\n",
       "      <td>-0.251464</td>\n",
       "      <td>-0.279924</td>\n",
       "      <td>0.843874</td>\n",
       "      <td>1.000000</td>\n",
       "    </tr>\n",
       "  </tbody>\n",
       "</table>\n",
       "</div>"
      ],
      "text/plain": [
       "                MinTemp   MaxTemp  Rainfall  Evaporation  Sunshine  \\\n",
       "MinTemp        1.000000  0.738167  0.088993     0.425236  0.018875   \n",
       "MaxTemp        0.738167  1.000000 -0.203555     0.504883  0.310638   \n",
       "Rainfall       0.088993 -0.203555  1.000000    -0.144796 -0.239205   \n",
       "Evaporation    0.425236  0.504883 -0.144796     1.000000  0.323542   \n",
       "Sunshine       0.018875  0.310638 -0.239205     0.323542  1.000000   \n",
       "WindGustSpeed  0.118289  0.012157  0.171846     0.122791 -0.047324   \n",
       "WindSpeed9am   0.126378 -0.036053  0.123753     0.116889 -0.017596   \n",
       "WindSpeed3pm   0.114690  0.010518  0.081482     0.104602  0.035724   \n",
       "Humidity9am   -0.194706 -0.484964  0.391318    -0.399177 -0.359475   \n",
       "Humidity3pm    0.024682 -0.483223  0.391765    -0.285545 -0.471784   \n",
       "Pressure9am   -0.342039 -0.211770 -0.217144    -0.204183  0.075752   \n",
       "Pressure3pm   -0.350375 -0.296823 -0.141204    -0.225830  0.035053   \n",
       "Cloud9am       0.028620 -0.244086  0.245268    -0.184046 -0.537514   \n",
       "Cloud3pm      -0.014037 -0.237977  0.202764    -0.191317 -0.558105   \n",
       "Temp9am        0.902188  0.882273 -0.068312     0.495531  0.176163   \n",
       "Temp3pm        0.698847  0.963638 -0.205536     0.484873  0.331925   \n",
       "\n",
       "               WindGustSpeed  WindSpeed9am  WindSpeed3pm  Humidity9am  \\\n",
       "MinTemp             0.118289      0.126378      0.114690    -0.194706   \n",
       "MaxTemp             0.012157     -0.036053      0.010518    -0.484964   \n",
       "Rainfall            0.171846      0.123753      0.081482     0.391318   \n",
       "Evaporation         0.122791      0.116889      0.104602    -0.399177   \n",
       "Sunshine           -0.047324     -0.017596      0.035724    -0.359475   \n",
       "WindGustSpeed       1.000000      0.573284      0.643178    -0.153297   \n",
       "WindSpeed9am        0.573284      1.000000      0.535061    -0.219537   \n",
       "WindSpeed3pm        0.643178      0.535061      1.000000    -0.122363   \n",
       "Humidity9am        -0.153297     -0.219537     -0.122363     1.000000   \n",
       "Humidity3pm         0.019955      0.012480     -0.001581     0.653496   \n",
       "Pressure9am        -0.417229     -0.202653     -0.244933     0.061543   \n",
       "Pressure3pm        -0.377271     -0.148490     -0.207850     0.103553   \n",
       "Cloud9am            0.043015     -0.001723      0.007212     0.382095   \n",
       "Cloud3pm            0.079469      0.025506     -0.002496     0.299030   \n",
       "Temp9am             0.088836      0.079559      0.101648    -0.437019   \n",
       "Temp3pm            -0.028038     -0.045014     -0.008578    -0.472857   \n",
       "\n",
       "               Humidity3pm  Pressure9am  Pressure3pm  Cloud9am  Cloud3pm  \\\n",
       "MinTemp           0.024682    -0.342039    -0.350375  0.028620 -0.014037   \n",
       "MaxTemp          -0.483223    -0.211770    -0.296823 -0.244086 -0.237977   \n",
       "Rainfall          0.391765    -0.217144    -0.141204  0.245268  0.202764   \n",
       "Evaporation      -0.285545    -0.204183    -0.225830 -0.184046 -0.191317   \n",
       "Sunshine         -0.471784     0.075752     0.035053 -0.537514 -0.558105   \n",
       "WindGustSpeed     0.019955    -0.417229    -0.377271  0.043015  0.079469   \n",
       "WindSpeed9am      0.012480    -0.202653    -0.148490 -0.001723  0.025506   \n",
       "WindSpeed3pm     -0.001581    -0.244933    -0.207850  0.007212 -0.002496   \n",
       "Humidity9am       0.653496     0.061543     0.103553  0.382095  0.299030   \n",
       "Humidity3pm       1.000000    -0.085633    -0.014885  0.411800  0.437446   \n",
       "Pressure9am      -0.085633     1.000000     0.956510 -0.103643 -0.119288   \n",
       "Pressure3pm      -0.014885     0.956510     1.000000 -0.057109 -0.078250   \n",
       "Cloud9am          0.411800    -0.103643    -0.057109  1.000000  0.563097   \n",
       "Cloud3pm          0.437446    -0.119288    -0.078250  0.563097  1.000000   \n",
       "Temp9am          -0.196419    -0.304075    -0.345396 -0.133254 -0.122836   \n",
       "Temp3pm          -0.550452    -0.162650    -0.256097 -0.251464 -0.279924   \n",
       "\n",
       "                Temp9am   Temp3pm  \n",
       "MinTemp        0.902188  0.698847  \n",
       "MaxTemp        0.882273  0.963638  \n",
       "Rainfall      -0.068312 -0.205536  \n",
       "Evaporation    0.495531  0.484873  \n",
       "Sunshine       0.176163  0.331925  \n",
       "WindGustSpeed  0.088836 -0.028038  \n",
       "WindSpeed9am   0.079559 -0.045014  \n",
       "WindSpeed3pm   0.101648 -0.008578  \n",
       "Humidity9am   -0.437019 -0.472857  \n",
       "Humidity3pm   -0.196419 -0.550452  \n",
       "Pressure9am   -0.304075 -0.162650  \n",
       "Pressure3pm   -0.345396 -0.256097  \n",
       "Cloud9am      -0.133254 -0.251464  \n",
       "Cloud3pm      -0.122836 -0.279924  \n",
       "Temp9am        1.000000  0.843874  \n",
       "Temp3pm        0.843874  1.000000  "
      ]
     },
     "execution_count": 14,
     "metadata": {},
     "output_type": "execute_result"
    }
   ],
   "source": [
    "# Using the corr function to check the correlation matrix\n",
    "df[numerical].corr()"
   ]
  },
  {
   "cell_type": "code",
   "execution_count": 15,
   "id": "193c245a",
   "metadata": {
    "deletable": false,
    "editable": false,
    "nbgrader": {
     "cell_type": "code",
     "checksum": "cb71a27be3374bc15432bfca8b59d5b5",
     "grade": false,
     "grade_id": "cell-c5e35cb8e569af5e",
     "locked": true,
     "schema_version": 3,
     "solution": false,
     "task": false
    }
   },
   "outputs": [
    {
     "data": {
      "image/png": "[encoded data removed]",
      "text/plain": [
       "<Figure size 1000x800 with 2 Axes>"
      ]
     },
     "metadata": {},
     "output_type": "display_data"
    }
   ],
   "source": [
    "# create a correlation heat map for numerical columns \n",
    "# Plotting the correlation matrix\n",
    "plt.figure(figsize=(10, 8))\n",
    "sns.heatmap(df[numerical].corr(), annot=True, fmt=\".2f\", cmap='coolwarm')\n",
    "plt.title(\"Correlation Matrix of Weather Features\")\n",
    "plt.show()"
   ]
  },
  {
   "cell_type": "markdown",
   "id": "a753f02a",
   "metadata": {
    "deletable": false,
    "editable": false,
    "nbgrader": {
     "cell_type": "markdown",
     "checksum": "c66e15bb750d82eee9f9949bb1786e8e",
     "grade": false,
     "grade_id": "cell-e114feebb32a8c99",
     "locked": true,
     "schema_version": 3,
     "solution": false,
     "task": false
    }
   },
   "source": [
    "As per the correlation plot and Based on its analysis, \n",
    "the creation of features like TempRange, PressureChange, AverageHumidity, and \n",
    "WindSpeedDiff seems justified, as they capture the variations and averages of these \n",
    "correlated measures throughout the day as per the dataset. \n"
   ]
  },
  {
   "cell_type": "code",
   "execution_count": 16,
   "id": "6be1c0a9",
   "metadata": {
    "deletable": false,
    "editable": false,
    "nbgrader": {
     "cell_type": "code",
     "checksum": "03da1da72fb79fba62abcb4e2ab778be",
     "grade": false,
     "grade_id": "cell-60f8cd09d86bf4f5",
     "locked": true,
     "schema_version": 3,
     "solution": false,
     "task": false
    }
   },
   "outputs": [],
   "source": [
    "df['TempRange'] = df['MaxTemp'] - df['MinTemp']\n",
    "df['PressureChange'] = df['Pressure9am'] - df['Pressure3pm']\n",
    "df['AverageHumidity'] = (df['Humidity9am'] + df['Humidity3pm']) / 2\n",
    "df['WindSpeedDiff'] = df['WindGustSpeed'] - ((df['WindSpeed9am'] + df['WindSpeed3pm']) / 2)"
   ]
  },
  {
   "cell_type": "code",
   "execution_count": 17,
   "id": "f690d9a2",
   "metadata": {},
   "outputs": [
    {
     "data": {
      "text/plain": [
       "(40000, 29)"
      ]
     },
     "execution_count": 17,
     "metadata": {},
     "output_type": "execute_result"
    }
   ],
   "source": [
    "df.shape"
   ]
  },
  {
   "cell_type": "code",
   "execution_count": 18,
   "id": "6ae259e9",
   "metadata": {
    "deletable": false,
    "editable": false,
    "nbgrader": {
     "cell_type": "code",
     "checksum": "d26a0b257a66a335ed6024a051adee63",
     "grade": false,
     "grade_id": "cell-c57a3a1142c58ff0",
     "locked": true,
     "schema_version": 3,
     "solution": false,
     "task": false
    }
   },
   "outputs": [],
   "source": [
    "# Find categorical variables \n",
    "# List the names of the features which are categorical(string) which needs to be processed -either encoding or mapping.\n",
    "\n",
    "categorical=[]\n",
    "cols_types = zip(list(df.columns), list(df.dtypes))\n",
    "\n",
    "for i in cols_types:\n",
    "    if is_string_dtype(df[i[0]].dtype):\n",
    "        categorical.append(i[0])"
   ]
  },
  {
   "cell_type": "code",
   "execution_count": 19,
   "id": "57ff6823",
   "metadata": {},
   "outputs": [
    {
     "data": {
      "text/plain": [
       "['Location',\n",
       " 'WindGustDir',\n",
       " 'WindDir9am',\n",
       " 'WindDir3pm',\n",
       " 'RainToday',\n",
       " 'RainTomorrow']"
      ]
     },
     "execution_count": 19,
     "metadata": {},
     "output_type": "execute_result"
    }
   ],
   "source": [
    "categorical"
   ]
  },
  {
   "cell_type": "markdown",
   "id": "51c9806f",
   "metadata": {
    "deletable": false,
    "editable": false,
    "nbgrader": {
     "cell_type": "markdown",
     "checksum": "09eae9e726396b4c68267d19a5e308b8",
     "grade": false,
     "grade_id": "cell-8e83f1d1ec7a154c",
     "locked": true,
     "schema_version": 3,
     "solution": false,
     "task": false
    }
   },
   "source": [
    "### ENCODING CATEGORICAL VARIABLES "
   ]
  },
  {
   "cell_type": "code",
   "execution_count": 20,
   "id": "5df8dc8d",
   "metadata": {
    "deletable": false,
    "editable": false,
    "nbgrader": {
     "cell_type": "code",
     "checksum": "958cb41f7f6feddd0364ca3c55eddaf7",
     "grade": false,
     "grade_id": "cell-8c5834cf12221c40",
     "locked": true,
     "schema_version": 3,
     "solution": false,
     "task": false
    }
   },
   "outputs": [
    {
     "name": "stdout",
     "output_type": "stream",
     "text": [
      "WindGustDir 16\n",
      "WindDir9am 16\n",
      "WindDir3pm 16\n",
      "RainToday 2\n",
      "RainTomorrow 2\n"
     ]
    }
   ],
   "source": [
    "#lets check the unique values counts in the categorical variables \n",
    "for i in categorical[1:]: \n",
    "    print(i , df[i].nunique())"
   ]
  },
  {
   "cell_type": "code",
   "execution_count": 21,
   "id": "bf90c4a5",
   "metadata": {},
   "outputs": [
    {
     "data": {
      "text/plain": [
       "49"
      ]
     },
     "execution_count": 21,
     "metadata": {},
     "output_type": "execute_result"
    }
   ],
   "source": [
    "df['Location'].nunique()"
   ]
  },
  {
   "cell_type": "markdown",
   "id": "1c377a87",
   "metadata": {
    "deletable": false,
    "editable": false,
    "nbgrader": {
     "cell_type": "markdown",
     "checksum": "42c145ec6ea9120c5a6644902ca53d38",
     "grade": false,
     "grade_id": "cell-d93f0139b32a7628",
     "locked": true,
     "schema_version": 3,
     "solution": false,
     "task": false
    }
   },
   "source": [
    "## Remove 'Date' from categorical columns if present."
   ]
  },
  {
   "cell_type": "code",
   "execution_count": 22,
   "id": "bac696f7",
   "metadata": {
    "deletable": false,
    "nbgrader": {
     "cell_type": "code",
     "checksum": "d1bedf0394bcecd7a526eecc5913cf19",
     "grade": false,
     "grade_id": "cell-bfbe440fbc584380",
     "locked": false,
     "schema_version": 3,
     "solution": true,
     "task": false
    }
   },
   "outputs": [
    {
     "data": {
      "text/html": [
       "<div>\n",
       "<style scoped>\n",
       "    .dataframe tbody tr th:only-of-type {\n",
       "        vertical-align: middle;\n",
       "    }\n",
       "\n",
       "    .dataframe tbody tr th {\n",
       "        vertical-align: top;\n",
       "    }\n",
       "\n",
       "    .dataframe thead th {\n",
       "        text-align: right;\n",
       "    }\n",
       "</style>\n",
       "<table border=\"1\" class=\"dataframe\">\n",
       "  <thead>\n",
       "    <tr style=\"text-align: right;\">\n",
       "      <th></th>\n",
       "      <th>Location</th>\n",
       "      <th>WindGustDir</th>\n",
       "      <th>WindDir9am</th>\n",
       "      <th>WindDir3pm</th>\n",
       "      <th>RainToday</th>\n",
       "      <th>RainTomorrow</th>\n",
       "    </tr>\n",
       "  </thead>\n",
       "  <tbody>\n",
       "    <tr>\n",
       "      <th>0</th>\n",
       "      <td>MountGambier</td>\n",
       "      <td>SW</td>\n",
       "      <td>SSE</td>\n",
       "      <td>SW</td>\n",
       "      <td>No</td>\n",
       "      <td>Yes</td>\n",
       "    </tr>\n",
       "    <tr>\n",
       "      <th>1</th>\n",
       "      <td>Brisbane</td>\n",
       "      <td>ESE</td>\n",
       "      <td>SW</td>\n",
       "      <td>ESE</td>\n",
       "      <td>Yes</td>\n",
       "      <td>Yes</td>\n",
       "    </tr>\n",
       "    <tr>\n",
       "      <th>2</th>\n",
       "      <td>Newcastle</td>\n",
       "      <td>W</td>\n",
       "      <td>NW</td>\n",
       "      <td>SW</td>\n",
       "      <td>No</td>\n",
       "      <td>Yes</td>\n",
       "    </tr>\n",
       "    <tr>\n",
       "      <th>3</th>\n",
       "      <td>CoffsHarbour</td>\n",
       "      <td>WSW</td>\n",
       "      <td>WSW</td>\n",
       "      <td>SE</td>\n",
       "      <td>Yes</td>\n",
       "      <td>Yes</td>\n",
       "    </tr>\n",
       "    <tr>\n",
       "      <th>4</th>\n",
       "      <td>NorahHead</td>\n",
       "      <td>W</td>\n",
       "      <td>NNW</td>\n",
       "      <td>WNW</td>\n",
       "      <td>Yes</td>\n",
       "      <td>Yes</td>\n",
       "    </tr>\n",
       "    <tr>\n",
       "      <th>...</th>\n",
       "      <td>...</td>\n",
       "      <td>...</td>\n",
       "      <td>...</td>\n",
       "      <td>...</td>\n",
       "      <td>...</td>\n",
       "      <td>...</td>\n",
       "    </tr>\n",
       "    <tr>\n",
       "      <th>39995</th>\n",
       "      <td>GoldCoast</td>\n",
       "      <td>WNW</td>\n",
       "      <td>WNW</td>\n",
       "      <td>WNW</td>\n",
       "      <td>No</td>\n",
       "      <td>No</td>\n",
       "    </tr>\n",
       "    <tr>\n",
       "      <th>39996</th>\n",
       "      <td>CoffsHarbour</td>\n",
       "      <td>NNE</td>\n",
       "      <td>NNE</td>\n",
       "      <td>NNE</td>\n",
       "      <td>No</td>\n",
       "      <td>No</td>\n",
       "    </tr>\n",
       "    <tr>\n",
       "      <th>39997</th>\n",
       "      <td>Newcastle</td>\n",
       "      <td>W</td>\n",
       "      <td>N</td>\n",
       "      <td>SE</td>\n",
       "      <td>No</td>\n",
       "      <td>No</td>\n",
       "    </tr>\n",
       "    <tr>\n",
       "      <th>39998</th>\n",
       "      <td>Launceston</td>\n",
       "      <td>NNW</td>\n",
       "      <td>E</td>\n",
       "      <td>NNW</td>\n",
       "      <td>No</td>\n",
       "      <td>No</td>\n",
       "    </tr>\n",
       "    <tr>\n",
       "      <th>39999</th>\n",
       "      <td>Katherine</td>\n",
       "      <td>ESE</td>\n",
       "      <td>SE</td>\n",
       "      <td>ENE</td>\n",
       "      <td>No</td>\n",
       "      <td>No</td>\n",
       "    </tr>\n",
       "  </tbody>\n",
       "</table>\n",
       "<p>40000 rows × 6 columns</p>\n",
       "</div>"
      ],
      "text/plain": [
       "           Location WindGustDir WindDir9am WindDir3pm RainToday RainTomorrow\n",
       "0      MountGambier          SW        SSE         SW        No          Yes\n",
       "1          Brisbane         ESE         SW        ESE       Yes          Yes\n",
       "2         Newcastle           W         NW         SW        No          Yes\n",
       "3      CoffsHarbour         WSW        WSW         SE       Yes          Yes\n",
       "4         NorahHead           W        NNW        WNW       Yes          Yes\n",
       "...             ...         ...        ...        ...       ...          ...\n",
       "39995     GoldCoast         WNW        WNW        WNW        No           No\n",
       "39996  CoffsHarbour         NNE        NNE        NNE        No           No\n",
       "39997     Newcastle           W          N         SE        No           No\n",
       "39998    Launceston         NNW          E        NNW        No           No\n",
       "39999     Katherine         ESE         SE        ENE        No           No\n",
       "\n",
       "[40000 rows x 6 columns]"
      ]
     },
     "execution_count": 22,
     "metadata": {},
     "output_type": "execute_result"
    }
   ],
   "source": [
    "# Remove the 'Date' columns from the dataset\n",
    "# your code here\n",
    "# raise NotImplementedError\n",
    "df[categorical]\n"
   ]
  },
  {
   "cell_type": "code",
   "execution_count": 23,
   "id": "5c64b19b",
   "metadata": {},
   "outputs": [
    {
     "data": {
      "text/plain": [
       "(40000, 29)"
      ]
     },
     "execution_count": 23,
     "metadata": {},
     "output_type": "execute_result"
    }
   ],
   "source": [
    "df.shape"
   ]
  },
  {
   "cell_type": "code",
   "execution_count": 24,
   "id": "362e566f",
   "metadata": {
    "deletable": false,
    "editable": false,
    "nbgrader": {
     "cell_type": "code",
     "checksum": "3a3f941de8c09c61228f0ace6c8defde",
     "grade": false,
     "grade_id": "cell-0c2f5b45245f0dd0",
     "locked": true,
     "schema_version": 3,
     "solution": false,
     "task": false
    }
   },
   "outputs": [
    {
     "data": {
      "text/plain": [
       "['Location',\n",
       " 'WindGustDir',\n",
       " 'WindDir9am',\n",
       " 'WindDir3pm',\n",
       " 'RainToday',\n",
       " 'RainTomorrow']"
      ]
     },
     "execution_count": 24,
     "metadata": {},
     "output_type": "execute_result"
    }
   ],
   "source": [
    "categorical"
   ]
  },
  {
   "cell_type": "code",
   "execution_count": 25,
   "id": "2df25025",
   "metadata": {},
   "outputs": [
    {
     "data": {
      "text/plain": [
       "Index(['Location', 'MinTemp', 'MaxTemp', 'Rainfall', 'Evaporation', 'Sunshine',\n",
       "       'WindGustDir', 'WindGustSpeed', 'WindDir9am', 'WindDir3pm',\n",
       "       'WindSpeed9am', 'WindSpeed3pm', 'Humidity9am', 'Humidity3pm',\n",
       "       'Pressure9am', 'Pressure3pm', 'Cloud9am', 'Cloud3pm', 'Temp9am',\n",
       "       'Temp3pm', 'RainToday', 'RainTomorrow', 'year', 'month', 'Day',\n",
       "       'TempRange', 'PressureChange', 'AverageHumidity', 'WindSpeedDiff'],\n",
       "      dtype='object')"
      ]
     },
     "execution_count": 25,
     "metadata": {},
     "output_type": "execute_result"
    }
   ],
   "source": [
    "df.columns"
   ]
  },
  {
   "cell_type": "code",
   "execution_count": 26,
   "id": "21e03be7",
   "metadata": {
    "deletable": false,
    "nbgrader": {
     "cell_type": "code",
     "checksum": "b675ecef6cd30b58b3297b3795f7acd6",
     "grade": false,
     "grade_id": "cell-34593cfeebec10c6",
     "locked": false,
     "schema_version": 3,
     "solution": true,
     "task": false
    }
   },
   "outputs": [
    {
     "data": {
      "text/plain": [
       "(40000, 123)"
      ]
     },
     "execution_count": 26,
     "metadata": {},
     "output_type": "execute_result"
    }
   ],
   "source": [
    "#Encode the categorical variables except for RainTomorrow\n",
    "# your code here\n",
    "# raise NotImplementedError\n",
    "df_encoded = pd.get_dummies(df,\n",
    "                            columns=['Location',\n",
    "                                     'WindGustDir',\n",
    "                                     'WindDir9am',\n",
    "                                     'WindDir3pm',\n",
    "                                     'RainToday'],\n",
    "                            drop_first=False)\n",
    "df_encoded.shape"
   ]
  },
  {
   "cell_type": "code",
   "execution_count": 27,
   "id": "8dc1b463",
   "metadata": {},
   "outputs": [
    {
     "data": {
      "text/plain": [
       "Index(['MinTemp', 'MaxTemp', 'Rainfall', 'Evaporation', 'Sunshine',\n",
       "       'WindGustSpeed', 'WindSpeed9am', 'WindSpeed3pm', 'Humidity9am',\n",
       "       'Humidity3pm',\n",
       "       ...\n",
       "       'WindDir3pm_S', 'WindDir3pm_SE', 'WindDir3pm_SSE', 'WindDir3pm_SSW',\n",
       "       'WindDir3pm_SW', 'WindDir3pm_W', 'WindDir3pm_WNW', 'WindDir3pm_WSW',\n",
       "       'RainToday_No', 'RainToday_Yes'],\n",
       "      dtype='object', length=123)"
      ]
     },
     "execution_count": 27,
     "metadata": {},
     "output_type": "execute_result"
    }
   ],
   "source": [
    "df_encoded.columns"
   ]
  },
  {
   "cell_type": "code",
   "execution_count": 28,
   "id": "e72b7703",
   "metadata": {
    "deletable": false,
    "editable": false,
    "nbgrader": {
     "cell_type": "code",
     "checksum": "d47868b30b23e92090f95128ae48583c",
     "grade": true,
     "grade_id": "cell-d955129a3bd33ef9",
     "locked": true,
     "points": 2,
     "schema_version": 3,
     "solution": false,
     "task": false
    }
   },
   "outputs": [],
   "source": [
    "assert df_encoded.shape[1] == 123, \"After encoding there will be 123 columns. \""
   ]
  },
  {
   "cell_type": "markdown",
   "id": "3fd88ed5",
   "metadata": {
    "deletable": false,
    "editable": false,
    "nbgrader": {
     "cell_type": "markdown",
     "checksum": "8daf5b43a5c0962905ffd75d1447dc11",
     "grade": false,
     "grade_id": "cell-10380faefc719976",
     "locked": true,
     "schema_version": 3,
     "solution": false,
     "task": false
    }
   },
   "source": [
    "### Feature Scaling "
   ]
  },
  {
   "cell_type": "markdown",
   "id": "c422b957",
   "metadata": {
    "deletable": false,
    "editable": false,
    "nbgrader": {
     "cell_type": "markdown",
     "checksum": "36321c43781c6aed0b47d3322e2c7810",
     "grade": false,
     "grade_id": "cell-128ecd4664dae397",
     "locked": true,
     "schema_version": 3,
     "solution": false,
     "task": false
    }
   },
   "source": [
    "In the next step, we will scale the numerical columns"
   ]
  },
  {
   "cell_type": "code",
   "execution_count": 29,
   "id": "e8e37843",
   "metadata": {},
   "outputs": [
    {
     "data": {
      "text/plain": [
       "Index(['MinTemp', 'MaxTemp', 'Rainfall', 'Evaporation', 'Sunshine',\n",
       "       'WindGustSpeed', 'WindSpeed9am', 'WindSpeed3pm', 'Humidity9am',\n",
       "       'Humidity3pm', 'Pressure9am', 'Pressure3pm', 'Cloud9am', 'Cloud3pm',\n",
       "       'Temp9am', 'Temp3pm', 'year', 'month', 'Day', 'TempRange',\n",
       "       'PressureChange', 'AverageHumidity', 'WindSpeedDiff'],\n",
       "      dtype='object')"
      ]
     },
     "execution_count": 29,
     "metadata": {},
     "output_type": "execute_result"
    }
   ],
   "source": [
    "# Select only numerical columns\n",
    "numerical = df.select_dtypes(include=['number']).columns\n",
    "numerical"
   ]
  },
  {
   "cell_type": "code",
   "execution_count": 30,
   "id": "f4740039",
   "metadata": {
    "deletable": false,
    "nbgrader": {
     "cell_type": "code",
     "checksum": "449031ab75f02851d6620a088ff36d6c",
     "grade": false,
     "grade_id": "cell-9e4d8c21d45614bb",
     "locked": false,
     "schema_version": 3,
     "solution": true,
     "task": false
    }
   },
   "outputs": [],
   "source": [
    "#Scaling the Numerical variables \n",
    "# your code here\n",
    "# raise NotImplementedError\n",
    "from sklearn.preprocessing import MinMaxScaler\n",
    "\n",
    "# Initialize the scaler\n",
    "scaler = MinMaxScaler(feature_range=(0, 1))\n",
    "\n",
    "\n",
    "# Fit and transform the data\n",
    "df_scaled_array = scaler.fit_transform(df[numerical])"
   ]
  },
  {
   "cell_type": "code",
   "execution_count": 31,
   "id": "4d0e7cf4",
   "metadata": {},
   "outputs": [
    {
     "data": {
      "text/plain": [
       "array([[0.55581948, 0.55009452, 0.        , ..., 0.44742729, 0.63636364,\n",
       "        0.33070866],\n",
       "       [0.52494062, 0.49905482, 1.        , ..., 0.49217002, 0.80808081,\n",
       "        0.42125984],\n",
       "       [0.42042755, 0.54820416, 0.        , ..., 0.48322148, 0.43939394,\n",
       "        0.42519685],\n",
       "       ...,\n",
       "       [0.67933492, 0.77882798, 0.        , ..., 0.48322148, 0.58585859,\n",
       "        0.42125984],\n",
       "       [0.23752969, 0.43289225, 0.        , ..., 0.48322148, 0.64141414,\n",
       "        0.31102362],\n",
       "       [0.58194774, 0.75236295, 0.        , ..., 0.53243848, 0.48484848,\n",
       "        0.3976378 ]])"
      ]
     },
     "execution_count": 31,
     "metadata": {},
     "output_type": "execute_result"
    }
   ],
   "source": [
    "df_scaled_array"
   ]
  },
  {
   "cell_type": "code",
   "execution_count": 32,
   "id": "4d99e395",
   "metadata": {
    "deletable": false,
    "editable": false,
    "nbgrader": {
     "cell_type": "code",
     "checksum": "4da06e2c3ef319e35cb8118fc79846ef",
     "grade": false,
     "grade_id": "cell-a17ca678a4b99baf",
     "locked": true,
     "schema_version": 3,
     "solution": false,
     "task": false
    }
   },
   "outputs": [],
   "source": [
    "# Storing the scaled datapoints in the dataframe nsame df_Scaled\n",
    "df_scaled = pd.DataFrame(df_scaled_array, columns=[numerical])"
   ]
  },
  {
   "cell_type": "code",
   "execution_count": 33,
   "id": "0e483c6b",
   "metadata": {},
   "outputs": [
    {
     "data": {
      "text/html": [
       "<div>\n",
       "<style scoped>\n",
       "    .dataframe tbody tr th:only-of-type {\n",
       "        vertical-align: middle;\n",
       "    }\n",
       "\n",
       "    .dataframe tbody tr th {\n",
       "        vertical-align: top;\n",
       "    }\n",
       "\n",
       "    .dataframe thead tr th {\n",
       "        text-align: left;\n",
       "    }\n",
       "</style>\n",
       "<table border=\"1\" class=\"dataframe\">\n",
       "  <thead>\n",
       "    <tr>\n",
       "      <th></th>\n",
       "      <th>MinTemp</th>\n",
       "      <th>MaxTemp</th>\n",
       "      <th>Rainfall</th>\n",
       "      <th>Evaporation</th>\n",
       "      <th>Sunshine</th>\n",
       "      <th>WindGustSpeed</th>\n",
       "      <th>WindSpeed9am</th>\n",
       "      <th>WindSpeed3pm</th>\n",
       "      <th>Humidity9am</th>\n",
       "      <th>Humidity3pm</th>\n",
       "      <th>...</th>\n",
       "      <th>Cloud3pm</th>\n",
       "      <th>Temp9am</th>\n",
       "      <th>Temp3pm</th>\n",
       "      <th>year</th>\n",
       "      <th>month</th>\n",
       "      <th>Day</th>\n",
       "      <th>TempRange</th>\n",
       "      <th>PressureChange</th>\n",
       "      <th>AverageHumidity</th>\n",
       "      <th>WindSpeedDiff</th>\n",
       "    </tr>\n",
       "  </thead>\n",
       "  <tbody>\n",
       "    <tr>\n",
       "      <th>0</th>\n",
       "      <td>0.555819</td>\n",
       "      <td>0.550095</td>\n",
       "      <td>0.000000</td>\n",
       "      <td>0.55</td>\n",
       "      <td>0.475524</td>\n",
       "      <td>0.250000</td>\n",
       "      <td>0.152542</td>\n",
       "      <td>0.333333</td>\n",
       "      <td>0.693878</td>\n",
       "      <td>0.58</td>\n",
       "      <td>...</td>\n",
       "      <td>0.888889</td>\n",
       "      <td>0.549784</td>\n",
       "      <td>0.510680</td>\n",
       "      <td>1.0</td>\n",
       "      <td>0.090909</td>\n",
       "      <td>0.333333</td>\n",
       "      <td>0.526201</td>\n",
       "      <td>0.447427</td>\n",
       "      <td>0.636364</td>\n",
       "      <td>0.330709</td>\n",
       "    </tr>\n",
       "    <tr>\n",
       "      <th>1</th>\n",
       "      <td>0.524941</td>\n",
       "      <td>0.499055</td>\n",
       "      <td>1.000000</td>\n",
       "      <td>0.40</td>\n",
       "      <td>0.461538</td>\n",
       "      <td>0.289062</td>\n",
       "      <td>0.067797</td>\n",
       "      <td>0.192982</td>\n",
       "      <td>0.877551</td>\n",
       "      <td>0.74</td>\n",
       "      <td>...</td>\n",
       "      <td>0.555556</td>\n",
       "      <td>0.523810</td>\n",
       "      <td>0.493204</td>\n",
       "      <td>0.4</td>\n",
       "      <td>0.636364</td>\n",
       "      <td>0.733333</td>\n",
       "      <td>0.495633</td>\n",
       "      <td>0.492170</td>\n",
       "      <td>0.808081</td>\n",
       "      <td>0.421260</td>\n",
       "    </tr>\n",
       "    <tr>\n",
       "      <th>2</th>\n",
       "      <td>0.420428</td>\n",
       "      <td>0.548204</td>\n",
       "      <td>0.000000</td>\n",
       "      <td>0.55</td>\n",
       "      <td>0.475524</td>\n",
       "      <td>0.265625</td>\n",
       "      <td>0.067797</td>\n",
       "      <td>0.070175</td>\n",
       "      <td>0.551020</td>\n",
       "      <td>0.33</td>\n",
       "      <td>...</td>\n",
       "      <td>0.000000</td>\n",
       "      <td>0.523810</td>\n",
       "      <td>0.570874</td>\n",
       "      <td>0.7</td>\n",
       "      <td>0.727273</td>\n",
       "      <td>0.333333</td>\n",
       "      <td>0.648472</td>\n",
       "      <td>0.483221</td>\n",
       "      <td>0.439394</td>\n",
       "      <td>0.425197</td>\n",
       "    </tr>\n",
       "    <tr>\n",
       "      <th>3</th>\n",
       "      <td>0.581948</td>\n",
       "      <td>0.482042</td>\n",
       "      <td>0.500000</td>\n",
       "      <td>0.55</td>\n",
       "      <td>0.475524</td>\n",
       "      <td>0.265625</td>\n",
       "      <td>0.118644</td>\n",
       "      <td>0.122807</td>\n",
       "      <td>0.959184</td>\n",
       "      <td>0.82</td>\n",
       "      <td>...</td>\n",
       "      <td>0.555556</td>\n",
       "      <td>0.519481</td>\n",
       "      <td>0.493204</td>\n",
       "      <td>0.8</td>\n",
       "      <td>0.363636</td>\n",
       "      <td>1.000000</td>\n",
       "      <td>0.423581</td>\n",
       "      <td>0.541387</td>\n",
       "      <td>0.888889</td>\n",
       "      <td>0.401575</td>\n",
       "    </tr>\n",
       "    <tr>\n",
       "      <th>4</th>\n",
       "      <td>0.555819</td>\n",
       "      <td>0.565217</td>\n",
       "      <td>0.431818</td>\n",
       "      <td>0.55</td>\n",
       "      <td>0.475524</td>\n",
       "      <td>0.304688</td>\n",
       "      <td>0.067797</td>\n",
       "      <td>0.263158</td>\n",
       "      <td>0.785714</td>\n",
       "      <td>0.58</td>\n",
       "      <td>...</td>\n",
       "      <td>0.666667</td>\n",
       "      <td>0.597403</td>\n",
       "      <td>0.502913</td>\n",
       "      <td>0.8</td>\n",
       "      <td>0.272727</td>\n",
       "      <td>0.200000</td>\n",
       "      <td>0.543668</td>\n",
       "      <td>0.445190</td>\n",
       "      <td>0.681818</td>\n",
       "      <td>0.421260</td>\n",
       "    </tr>\n",
       "  </tbody>\n",
       "</table>\n",
       "<p>5 rows × 23 columns</p>\n",
       "</div>"
      ],
      "text/plain": [
       "    MinTemp   MaxTemp  Rainfall Evaporation  Sunshine WindGustSpeed  \\\n",
       "0  0.555819  0.550095  0.000000        0.55  0.475524      0.250000   \n",
       "1  0.524941  0.499055  1.000000        0.40  0.461538      0.289062   \n",
       "2  0.420428  0.548204  0.000000        0.55  0.475524      0.265625   \n",
       "3  0.581948  0.482042  0.500000        0.55  0.475524      0.265625   \n",
       "4  0.555819  0.565217  0.431818        0.55  0.475524      0.304688   \n",
       "\n",
       "  WindSpeed9am WindSpeed3pm Humidity9am Humidity3pm  ...  Cloud3pm   Temp9am  \\\n",
       "0     0.152542     0.333333    0.693878        0.58  ...  0.888889  0.549784   \n",
       "1     0.067797     0.192982    0.877551        0.74  ...  0.555556  0.523810   \n",
       "2     0.067797     0.070175    0.551020        0.33  ...  0.000000  0.523810   \n",
       "3     0.118644     0.122807    0.959184        0.82  ...  0.555556  0.519481   \n",
       "4     0.067797     0.263158    0.785714        0.58  ...  0.666667  0.597403   \n",
       "\n",
       "    Temp3pm year     month       Day TempRange PressureChange AverageHumidity  \\\n",
       "0  0.510680  1.0  0.090909  0.333333  0.526201       0.447427        0.636364   \n",
       "1  0.493204  0.4  0.636364  0.733333  0.495633       0.492170        0.808081   \n",
       "2  0.570874  0.7  0.727273  0.333333  0.648472       0.483221        0.439394   \n",
       "3  0.493204  0.8  0.363636  1.000000  0.423581       0.541387        0.888889   \n",
       "4  0.502913  0.8  0.272727  0.200000  0.543668       0.445190        0.681818   \n",
       "\n",
       "  WindSpeedDiff  \n",
       "0      0.330709  \n",
       "1      0.421260  \n",
       "2      0.425197  \n",
       "3      0.401575  \n",
       "4      0.421260  \n",
       "\n",
       "[5 rows x 23 columns]"
      ]
     },
     "execution_count": 33,
     "metadata": {},
     "output_type": "execute_result"
    }
   ],
   "source": [
    "df_scaled.head()"
   ]
  },
  {
   "cell_type": "code",
   "execution_count": null,
   "id": "d17f7346",
   "metadata": {
    "deletable": false,
    "editable": false,
    "nbgrader": {
     "cell_type": "code",
     "checksum": "f67314725a2246c8fd1a06532a7f4971",
     "grade": true,
     "grade_id": "cell-55a2759f821bd90b",
     "locked": true,
     "points": 2,
     "schema_version": 3,
     "solution": false,
     "task": false
    }
   },
   "outputs": [],
   "source": []
  },
  {
   "cell_type": "markdown",
   "id": "49814eb5",
   "metadata": {
    "deletable": false,
    "editable": false,
    "nbgrader": {
     "cell_type": "markdown",
     "checksum": "1fa864a7748a99bea41f1729fe29fb73",
     "grade": false,
     "grade_id": "cell-80b2dca2b62510bf",
     "locked": true,
     "schema_version": 3,
     "solution": false,
     "task": false
    }
   },
   "source": [
    "Create a combined dataframe with all the encoded , scaled and target column "
   ]
  },
  {
   "cell_type": "code",
   "execution_count": 34,
   "id": "d3d052e5",
   "metadata": {},
   "outputs": [],
   "source": [
    "df_encoded.drop(columns=numerical,inplace=True)"
   ]
  },
  {
   "cell_type": "code",
   "execution_count": 35,
   "id": "84f4f407",
   "metadata": {
    "deletable": false,
    "editable": false,
    "nbgrader": {
     "cell_type": "code",
     "checksum": "eb3f896d41d40132271193228c91553c",
     "grade": false,
     "grade_id": "cell-848498820a6287f7",
     "locked": true,
     "schema_version": 3,
     "solution": false,
     "task": false
    }
   },
   "outputs": [],
   "source": [
    "final_df= pd.concat([df_scaled,df_encoded] , axis =1 )"
   ]
  },
  {
   "cell_type": "code",
   "execution_count": 36,
   "id": "daca076c",
   "metadata": {},
   "outputs": [
    {
     "data": {
      "text/plain": [
       "MultiIndex([(        'MinTemp',),\n",
       "            (        'MaxTemp',),\n",
       "            (       'Rainfall',),\n",
       "            (    'Evaporation',),\n",
       "            (       'Sunshine',),\n",
       "            (  'WindGustSpeed',),\n",
       "            (   'WindSpeed9am',),\n",
       "            (   'WindSpeed3pm',),\n",
       "            (    'Humidity9am',),\n",
       "            (    'Humidity3pm',),\n",
       "            (    'Pressure9am',),\n",
       "            (    'Pressure3pm',),\n",
       "            (       'Cloud9am',),\n",
       "            (       'Cloud3pm',),\n",
       "            (        'Temp9am',),\n",
       "            (        'Temp3pm',),\n",
       "            (           'year',),\n",
       "            (          'month',),\n",
       "            (            'Day',),\n",
       "            (      'TempRange',),\n",
       "            ( 'PressureChange',),\n",
       "            ('AverageHumidity',),\n",
       "            (  'WindSpeedDiff',)],\n",
       "           )"
      ]
     },
     "execution_count": 36,
     "metadata": {},
     "output_type": "execute_result"
    }
   ],
   "source": [
    "df_scaled.columns"
   ]
  },
  {
   "cell_type": "code",
   "execution_count": 37,
   "id": "30c584ff",
   "metadata": {},
   "outputs": [
    {
     "data": {
      "text/plain": [
       "Index(['RainTomorrow', 'Location_Adelaide', 'Location_Albany',\n",
       "       'Location_Albury', 'Location_AliceSprings', 'Location_BadgerysCreek',\n",
       "       'Location_Ballarat', 'Location_Bendigo', 'Location_Brisbane',\n",
       "       'Location_Cairns', 'Location_Canberra', 'Location_Cobar',\n",
       "       'Location_CoffsHarbour', 'Location_Dartmoor', 'Location_Darwin',\n",
       "       'Location_GoldCoast', 'Location_Hobart', 'Location_Katherine',\n",
       "       'Location_Launceston', 'Location_Melbourne',\n",
       "       'Location_MelbourneAirport', 'Location_Mildura', 'Location_Moree',\n",
       "       'Location_MountGambier', 'Location_MountGinini', 'Location_Newcastle',\n",
       "       'Location_Nhil', 'Location_NorahHead', 'Location_NorfolkIsland',\n",
       "       'Location_Nuriootpa', 'Location_PearceRAAF', 'Location_Penrith',\n",
       "       'Location_Perth', 'Location_PerthAirport', 'Location_Portland',\n",
       "       'Location_Richmond', 'Location_Sale', 'Location_SalmonGums',\n",
       "       'Location_Sydney', 'Location_SydneyAirport', 'Location_Townsville',\n",
       "       'Location_Tuggeranong', 'Location_Uluru', 'Location_WaggaWagga',\n",
       "       'Location_Walpole', 'Location_Watsonia', 'Location_Williamtown',\n",
       "       'Location_Witchcliffe', 'Location_Wollongong', 'Location_Woomera',\n",
       "       'WindGustDir_E', 'WindGustDir_ENE', 'WindGustDir_ESE', 'WindGustDir_N',\n",
       "       'WindGustDir_NE', 'WindGustDir_NNE', 'WindGustDir_NNW',\n",
       "       'WindGustDir_NW', 'WindGustDir_S', 'WindGustDir_SE', 'WindGustDir_SSE',\n",
       "       'WindGustDir_SSW', 'WindGustDir_SW', 'WindGustDir_W', 'WindGustDir_WNW',\n",
       "       'WindGustDir_WSW', 'WindDir9am_E', 'WindDir9am_ENE', 'WindDir9am_ESE',\n",
       "       'WindDir9am_N', 'WindDir9am_NE', 'WindDir9am_NNE', 'WindDir9am_NNW',\n",
       "       'WindDir9am_NW', 'WindDir9am_S', 'WindDir9am_SE', 'WindDir9am_SSE',\n",
       "       'WindDir9am_SSW', 'WindDir9am_SW', 'WindDir9am_W', 'WindDir9am_WNW',\n",
       "       'WindDir9am_WSW', 'WindDir3pm_E', 'WindDir3pm_ENE', 'WindDir3pm_ESE',\n",
       "       'WindDir3pm_N', 'WindDir3pm_NE', 'WindDir3pm_NNE', 'WindDir3pm_NNW',\n",
       "       'WindDir3pm_NW', 'WindDir3pm_S', 'WindDir3pm_SE', 'WindDir3pm_SSE',\n",
       "       'WindDir3pm_SSW', 'WindDir3pm_SW', 'WindDir3pm_W', 'WindDir3pm_WNW',\n",
       "       'WindDir3pm_WSW', 'RainToday_No', 'RainToday_Yes'],\n",
       "      dtype='object')"
      ]
     },
     "execution_count": 37,
     "metadata": {},
     "output_type": "execute_result"
    }
   ],
   "source": [
    "df_encoded.columns"
   ]
  },
  {
   "cell_type": "code",
   "execution_count": 38,
   "id": "0be7f114",
   "metadata": {},
   "outputs": [
    {
     "data": {
      "text/plain": [
       "Index([      ('MinTemp',),       ('MaxTemp',),      ('Rainfall',),\n",
       "         ('Evaporation',),      ('Sunshine',), ('WindGustSpeed',),\n",
       "        ('WindSpeed9am',),  ('WindSpeed3pm',),   ('Humidity9am',),\n",
       "         ('Humidity3pm',),\n",
       "       ...\n",
       "           'WindDir3pm_S',    'WindDir3pm_SE',   'WindDir3pm_SSE',\n",
       "         'WindDir3pm_SSW',    'WindDir3pm_SW',     'WindDir3pm_W',\n",
       "         'WindDir3pm_WNW',   'WindDir3pm_WSW',     'RainToday_No',\n",
       "          'RainToday_Yes'],\n",
       "      dtype='object', length=123)"
      ]
     },
     "execution_count": 38,
     "metadata": {},
     "output_type": "execute_result"
    }
   ],
   "source": [
    "final_df.columns"
   ]
  },
  {
   "cell_type": "code",
   "execution_count": 39,
   "id": "98a38b30",
   "metadata": {
    "deletable": false,
    "editable": false,
    "nbgrader": {
     "cell_type": "code",
     "checksum": "612681989c47c5459bc34b90e5a14977",
     "grade": false,
     "grade_id": "cell-7e5f97a3b71f68f1",
     "locked": true,
     "schema_version": 3,
     "solution": false,
     "task": false
    }
   },
   "outputs": [],
   "source": [
    "# Modify only the tuple column names\n",
    "new_column_names = [('_'.join(col) if isinstance(col, tuple) else col) for col in final_df.columns]\n",
    "final_df.columns = new_column_names"
   ]
  },
  {
   "cell_type": "code",
   "execution_count": 40,
   "id": "a52024ee",
   "metadata": {},
   "outputs": [
    {
     "data": {
      "text/plain": [
       "(40000, 123)"
      ]
     },
     "execution_count": 40,
     "metadata": {},
     "output_type": "execute_result"
    }
   ],
   "source": [
    "final_df.shape"
   ]
  },
  {
   "cell_type": "code",
   "execution_count": 41,
   "id": "8a98ebc2",
   "metadata": {},
   "outputs": [
    {
     "data": {
      "text/plain": [
       "MinTemp           0\n",
       "MaxTemp           0\n",
       "Rainfall          0\n",
       "Evaporation       0\n",
       "Sunshine          0\n",
       "                 ..\n",
       "WindDir3pm_W      0\n",
       "WindDir3pm_WNW    0\n",
       "WindDir3pm_WSW    0\n",
       "RainToday_No      0\n",
       "RainToday_Yes     0\n",
       "Length: 123, dtype: int64"
      ]
     },
     "execution_count": 41,
     "metadata": {},
     "output_type": "execute_result"
    }
   ],
   "source": [
    "final_df.isna().sum()"
   ]
  },
  {
   "cell_type": "code",
   "execution_count": 42,
   "id": "1eef6a10",
   "metadata": {},
   "outputs": [
    {
     "name": "stdout",
     "output_type": "stream",
     "text": [
      "MinTemp\n",
      "MaxTemp\n",
      "Rainfall\n",
      "Evaporation\n",
      "Sunshine\n",
      "WindGustSpeed\n",
      "WindSpeed9am\n",
      "WindSpeed3pm\n",
      "Humidity9am\n",
      "Humidity3pm\n",
      "Pressure9am\n",
      "Pressure3pm\n",
      "Cloud9am\n",
      "Cloud3pm\n",
      "Temp9am\n",
      "Temp3pm\n",
      "year\n",
      "month\n",
      "Day\n",
      "TempRange\n",
      "PressureChange\n",
      "AverageHumidity\n",
      "WindSpeedDiff\n",
      "RainTomorrow\n",
      "Location_Adelaide\n",
      "Location_Albany\n",
      "Location_Albury\n",
      "Location_AliceSprings\n",
      "Location_BadgerysCreek\n",
      "Location_Ballarat\n",
      "Location_Bendigo\n",
      "Location_Brisbane\n",
      "Location_Cairns\n",
      "Location_Canberra\n",
      "Location_Cobar\n",
      "Location_CoffsHarbour\n",
      "Location_Dartmoor\n",
      "Location_Darwin\n",
      "Location_GoldCoast\n",
      "Location_Hobart\n",
      "Location_Katherine\n",
      "Location_Launceston\n",
      "Location_Melbourne\n",
      "Location_MelbourneAirport\n",
      "Location_Mildura\n",
      "Location_Moree\n",
      "Location_MountGambier\n",
      "Location_MountGinini\n",
      "Location_Newcastle\n",
      "Location_Nhil\n",
      "Location_NorahHead\n",
      "Location_NorfolkIsland\n",
      "Location_Nuriootpa\n",
      "Location_PearceRAAF\n",
      "Location_Penrith\n",
      "Location_Perth\n",
      "Location_PerthAirport\n",
      "Location_Portland\n",
      "Location_Richmond\n",
      "Location_Sale\n",
      "Location_SalmonGums\n",
      "Location_Sydney\n",
      "Location_SydneyAirport\n",
      "Location_Townsville\n",
      "Location_Tuggeranong\n",
      "Location_Uluru\n",
      "Location_WaggaWagga\n",
      "Location_Walpole\n",
      "Location_Watsonia\n",
      "Location_Williamtown\n",
      "Location_Witchcliffe\n",
      "Location_Wollongong\n",
      "Location_Woomera\n",
      "WindGustDir_E\n",
      "WindGustDir_ENE\n",
      "WindGustDir_ESE\n",
      "WindGustDir_N\n",
      "WindGustDir_NE\n",
      "WindGustDir_NNE\n",
      "WindGustDir_NNW\n",
      "WindGustDir_NW\n",
      "WindGustDir_S\n",
      "WindGustDir_SE\n",
      "WindGustDir_SSE\n",
      "WindGustDir_SSW\n",
      "WindGustDir_SW\n",
      "WindGustDir_W\n",
      "WindGustDir_WNW\n",
      "WindGustDir_WSW\n",
      "WindDir9am_E\n",
      "WindDir9am_ENE\n",
      "WindDir9am_ESE\n",
      "WindDir9am_N\n",
      "WindDir9am_NE\n",
      "WindDir9am_NNE\n",
      "WindDir9am_NNW\n",
      "WindDir9am_NW\n",
      "WindDir9am_S\n",
      "WindDir9am_SE\n",
      "WindDir9am_SSE\n",
      "WindDir9am_SSW\n",
      "WindDir9am_SW\n",
      "WindDir9am_W\n",
      "WindDir9am_WNW\n",
      "WindDir9am_WSW\n",
      "WindDir3pm_E\n",
      "WindDir3pm_ENE\n",
      "WindDir3pm_ESE\n",
      "WindDir3pm_N\n",
      "WindDir3pm_NE\n",
      "WindDir3pm_NNE\n",
      "WindDir3pm_NNW\n",
      "WindDir3pm_NW\n",
      "WindDir3pm_S\n",
      "WindDir3pm_SE\n",
      "WindDir3pm_SSE\n",
      "WindDir3pm_SSW\n",
      "WindDir3pm_SW\n",
      "WindDir3pm_W\n",
      "WindDir3pm_WNW\n",
      "WindDir3pm_WSW\n",
      "RainToday_No\n",
      "RainToday_Yes\n"
     ]
    }
   ],
   "source": [
    "for col in final_df.columns:\n",
    "    print(col)"
   ]
  },
  {
   "cell_type": "code",
   "execution_count": 43,
   "id": "43be5f2c",
   "metadata": {
    "deletable": false,
    "editable": false,
    "nbgrader": {
     "cell_type": "code",
     "checksum": "40d8fcfc144f6af6a5f6f3d35e2ef271",
     "grade": false,
     "grade_id": "cell-3ef443e0a098120b",
     "locked": true,
     "schema_version": 3,
     "solution": false,
     "task": false
    }
   },
   "outputs": [],
   "source": [
    "# Finally dropping all the null values from our dataset\n",
    "final_df.dropna(axis=0, inplace=True)"
   ]
  },
  {
   "cell_type": "markdown",
   "id": "42cb38ef",
   "metadata": {
    "deletable": false,
    "editable": false,
    "nbgrader": {
     "cell_type": "markdown",
     "checksum": "288d2cbbec4086a38760b54e37336b0f",
     "grade": false,
     "grade_id": "cell-f0eec08589b9c81e",
     "locked": true,
     "schema_version": 3,
     "solution": false,
     "task": false
    }
   },
   "source": [
    "After the null value treatement, we will build the model on the rest of the data"
   ]
  },
  {
   "cell_type": "code",
   "execution_count": null,
   "id": "691a40e6",
   "metadata": {},
   "outputs": [],
   "source": []
  },
  {
   "cell_type": "code",
   "execution_count": 44,
   "id": "71ba4f23",
   "metadata": {
    "deletable": false,
    "nbgrader": {
     "cell_type": "code",
     "checksum": "dd9c61a6dd5afcc3b0b34244d880ca8b",
     "grade": false,
     "grade_id": "cell-a66a72b15c36f986",
     "locked": false,
     "schema_version": 3,
     "solution": true,
     "task": false
    }
   },
   "outputs": [],
   "source": [
    "#splitting of df to training and testing with 0.25 as Test size \n",
    "# your code here\n",
    "# raise NotImplementedError\n",
    "from sklearn.model_selection import train_test_split\n",
    "X = final_df.drop('RainTomorrow',axis=1)\n",
    "y = final_df['RainTomorrow']\n",
    "X_train, X_test, y_train,y_test = train_test_split(X,y, test_size=0.25, random_state=42)"
   ]
  },
  {
   "cell_type": "code",
   "execution_count": 45,
   "id": "55f92683",
   "metadata": {},
   "outputs": [
    {
     "name": "stdout",
     "output_type": "stream",
     "text": [
      "MinTemp\n",
      "MaxTemp\n",
      "Rainfall\n",
      "Evaporation\n",
      "Sunshine\n",
      "WindGustSpeed\n",
      "WindSpeed9am\n",
      "WindSpeed3pm\n",
      "Humidity9am\n",
      "Humidity3pm\n",
      "Pressure9am\n",
      "Pressure3pm\n",
      "Cloud9am\n",
      "Cloud3pm\n",
      "Temp9am\n",
      "Temp3pm\n",
      "year\n",
      "month\n",
      "Day\n",
      "TempRange\n",
      "PressureChange\n",
      "AverageHumidity\n",
      "WindSpeedDiff\n",
      "Location_Adelaide\n",
      "Location_Albany\n",
      "Location_Albury\n",
      "Location_AliceSprings\n",
      "Location_BadgerysCreek\n",
      "Location_Ballarat\n",
      "Location_Bendigo\n",
      "Location_Brisbane\n",
      "Location_Cairns\n",
      "Location_Canberra\n",
      "Location_Cobar\n",
      "Location_CoffsHarbour\n",
      "Location_Dartmoor\n",
      "Location_Darwin\n",
      "Location_GoldCoast\n",
      "Location_Hobart\n",
      "Location_Katherine\n",
      "Location_Launceston\n",
      "Location_Melbourne\n",
      "Location_MelbourneAirport\n",
      "Location_Mildura\n",
      "Location_Moree\n",
      "Location_MountGambier\n",
      "Location_MountGinini\n",
      "Location_Newcastle\n",
      "Location_Nhil\n",
      "Location_NorahHead\n",
      "Location_NorfolkIsland\n",
      "Location_Nuriootpa\n",
      "Location_PearceRAAF\n",
      "Location_Penrith\n",
      "Location_Perth\n",
      "Location_PerthAirport\n",
      "Location_Portland\n",
      "Location_Richmond\n",
      "Location_Sale\n",
      "Location_SalmonGums\n",
      "Location_Sydney\n",
      "Location_SydneyAirport\n",
      "Location_Townsville\n",
      "Location_Tuggeranong\n",
      "Location_Uluru\n",
      "Location_WaggaWagga\n",
      "Location_Walpole\n",
      "Location_Watsonia\n",
      "Location_Williamtown\n",
      "Location_Witchcliffe\n",
      "Location_Wollongong\n",
      "Location_Woomera\n",
      "WindGustDir_E\n",
      "WindGustDir_ENE\n",
      "WindGustDir_ESE\n",
      "WindGustDir_N\n",
      "WindGustDir_NE\n",
      "WindGustDir_NNE\n",
      "WindGustDir_NNW\n",
      "WindGustDir_NW\n",
      "WindGustDir_S\n",
      "WindGustDir_SE\n",
      "WindGustDir_SSE\n",
      "WindGustDir_SSW\n",
      "WindGustDir_SW\n",
      "WindGustDir_W\n",
      "WindGustDir_WNW\n",
      "WindGustDir_WSW\n",
      "WindDir9am_E\n",
      "WindDir9am_ENE\n",
      "WindDir9am_ESE\n",
      "WindDir9am_N\n",
      "WindDir9am_NE\n",
      "WindDir9am_NNE\n",
      "WindDir9am_NNW\n",
      "WindDir9am_NW\n",
      "WindDir9am_S\n",
      "WindDir9am_SE\n",
      "WindDir9am_SSE\n",
      "WindDir9am_SSW\n",
      "WindDir9am_SW\n",
      "WindDir9am_W\n",
      "WindDir9am_WNW\n",
      "WindDir9am_WSW\n",
      "WindDir3pm_E\n",
      "WindDir3pm_ENE\n",
      "WindDir3pm_ESE\n",
      "WindDir3pm_N\n",
      "WindDir3pm_NE\n",
      "WindDir3pm_NNE\n",
      "WindDir3pm_NNW\n",
      "WindDir3pm_NW\n",
      "WindDir3pm_S\n",
      "WindDir3pm_SE\n",
      "WindDir3pm_SSE\n",
      "WindDir3pm_SSW\n",
      "WindDir3pm_SW\n",
      "WindDir3pm_W\n",
      "WindDir3pm_WNW\n",
      "WindDir3pm_WSW\n",
      "RainToday_No\n",
      "RainToday_Yes\n"
     ]
    }
   ],
   "source": [
    "for col in X_train.columns:\n",
    "    print(col)"
   ]
  },
  {
   "cell_type": "code",
   "execution_count": 46,
   "id": "505cf179",
   "metadata": {
    "deletable": false,
    "editable": false,
    "nbgrader": {
     "cell_type": "code",
     "checksum": "fa08d16cb46d3a5c57a2f1b86a04d3c2",
     "grade": false,
     "grade_id": "cell-2217e2b216393723",
     "locked": true,
     "schema_version": 3,
     "solution": false,
     "task": false
    }
   },
   "outputs": [
    {
     "data": {
      "text/plain": [
       "((30000, 122), (10000, 122), (30000,), (10000,))"
      ]
     },
     "execution_count": 46,
     "metadata": {},
     "output_type": "execute_result"
    }
   ],
   "source": [
    "X_train.shape, X_test.shape, y_train.shape,y_test.shape"
   ]
  },
  {
   "cell_type": "code",
   "execution_count": null,
   "id": "6defe202",
   "metadata": {
    "deletable": false,
    "editable": false,
    "nbgrader": {
     "cell_type": "code",
     "checksum": "54e71a4ad7b0c3f3b1567bbdbb23cae0",
     "grade": true,
     "grade_id": "cell-a613499f914e68fe",
     "locked": true,
     "points": 2,
     "schema_version": 3,
     "solution": false,
     "task": false
    }
   },
   "outputs": [],
   "source": []
  },
  {
   "cell_type": "code",
   "execution_count": 47,
   "id": "465efaf6",
   "metadata": {
    "deletable": false,
    "editable": false,
    "nbgrader": {
     "cell_type": "code",
     "checksum": "d7ccc1fed6c02b98f5cdf8bd7824835b",
     "grade": false,
     "grade_id": "cell-c2c78004d19c412e",
     "locked": true,
     "schema_version": 3,
     "solution": false,
     "task": false
    }
   },
   "outputs": [
    {
     "data": {
      "text/html": [
       "<style>#sk-container-id-1 {color: black;background-color: white;}#sk-container-id-1 pre{padding: 0;}#sk-container-id-1 div.sk-toggleable {background-color: white;}#sk-container-id-1 label.sk-toggleable__label {cursor: pointer;display: block;width: 100%;margin-bottom: 0;padding: 0.3em;box-sizing: border-box;text-align: center;}#sk-container-id-1 label.sk-toggleable__label-arrow:before {content: \"▸\";float: left;margin-right: 0.25em;color: #696969;}#sk-container-id-1 label.sk-toggleable__label-arrow:hover:before {color: black;}#sk-container-id-1 div.sk-estimator:hover label.sk-toggleable__label-arrow:before {color: black;}#sk-container-id-1 div.sk-toggleable__content {max-height: 0;max-width: 0;overflow: hidden;text-align: left;background-color: #f0f8ff;}#sk-container-id-1 div.sk-toggleable__content pre {margin: 0.2em;color: black;border-radius: 0.25em;background-color: #f0f8ff;}#sk-container-id-1 input.sk-toggleable__control:checked~div.sk-toggleable__content {max-height: 200px;max-width: 100%;overflow: auto;}#sk-container-id-1 input.sk-toggleable__control:checked~label.sk-toggleable__label-arrow:before {content: \"▾\";}#sk-container-id-1 div.sk-estimator input.sk-toggleable__control:checked~label.sk-toggleable__label {background-color: #d4ebff;}#sk-container-id-1 div.sk-label input.sk-toggleable__control:checked~label.sk-toggleable__label {background-color: #d4ebff;}#sk-container-id-1 input.sk-hidden--visually {border: 0;clip: rect(1px 1px 1px 1px);clip: rect(1px, 1px, 1px, 1px);height: 1px;margin: -1px;overflow: hidden;padding: 0;position: absolute;width: 1px;}#sk-container-id-1 div.sk-estimator {font-family: monospace;background-color: #f0f8ff;border: 1px dotted black;border-radius: 0.25em;box-sizing: border-box;margin-bottom: 0.5em;}#sk-container-id-1 div.sk-estimator:hover {background-color: #d4ebff;}#sk-container-id-1 div.sk-parallel-item::after {content: \"\";width: 100%;border-bottom: 1px solid gray;flex-grow: 1;}#sk-container-id-1 div.sk-label:hover label.sk-toggleable__label {background-color: #d4ebff;}#sk-container-id-1 div.sk-serial::before {content: \"\";position: absolute;border-left: 1px solid gray;box-sizing: border-box;top: 0;bottom: 0;left: 50%;z-index: 0;}#sk-container-id-1 div.sk-serial {display: flex;flex-direction: column;align-items: center;background-color: white;padding-right: 0.2em;padding-left: 0.2em;position: relative;}#sk-container-id-1 div.sk-item {position: relative;z-index: 1;}#sk-container-id-1 div.sk-parallel {display: flex;align-items: stretch;justify-content: center;background-color: white;position: relative;}#sk-container-id-1 div.sk-item::before, #sk-container-id-1 div.sk-parallel-item::before {content: \"\";position: absolute;border-left: 1px solid gray;box-sizing: border-box;top: 0;bottom: 0;left: 50%;z-index: -1;}#sk-container-id-1 div.sk-parallel-item {display: flex;flex-direction: column;z-index: 1;position: relative;background-color: white;}#sk-container-id-1 div.sk-parallel-item:first-child::after {align-self: flex-end;width: 50%;}#sk-container-id-1 div.sk-parallel-item:last-child::after {align-self: flex-start;width: 50%;}#sk-container-id-1 div.sk-parallel-item:only-child::after {width: 0;}#sk-container-id-1 div.sk-dashed-wrapped {border: 1px dashed gray;margin: 0 0.4em 0.5em 0.4em;box-sizing: border-box;padding-bottom: 0.4em;background-color: white;}#sk-container-id-1 div.sk-label label {font-family: monospace;font-weight: bold;display: inline-block;line-height: 1.2em;}#sk-container-id-1 div.sk-label-container {text-align: center;}#sk-container-id-1 div.sk-container {/* jupyter's `normalize.less` sets `[hidden] { display: none; }` but bootstrap.min.css set `[hidden] { display: none !important; }` so we also need the `!important` here to be able to override the default hidden behavior on the sphinx rendered scikit-learn.org. See: https://github.com/scikit-learn/scikit-learn/issues/21755 */display: inline-block !important;position: relative;}#sk-container-id-1 div.sk-text-repr-fallback {display: none;}</style><div id=\"sk-container-id-1\" class=\"sk-top-container\"><div class=\"sk-text-repr-fallback\"><pre>LogisticRegression(C=10, random_state=0, solver=&#x27;liblinear&#x27;)</pre><b>In a Jupyter environment, please rerun this cell to show the HTML representation or trust the notebook. <br />On GitHub, the HTML representation is unable to render, please try loading this page with nbviewer.org.</b></div><div class=\"sk-container\" hidden><div class=\"sk-item\"><div class=\"sk-estimator sk-toggleable\"><input class=\"sk-toggleable__control sk-hidden--visually\" id=\"sk-estimator-id-1\" type=\"checkbox\" checked><label for=\"sk-estimator-id-1\" class=\"sk-toggleable__label sk-toggleable__label-arrow\">LogisticRegression</label><div class=\"sk-toggleable__content\"><pre>LogisticRegression(C=10, random_state=0, solver=&#x27;liblinear&#x27;)</pre></div></div></div></div></div>"
      ],
      "text/plain": [
       "LogisticRegression(C=10, random_state=0, solver='liblinear')"
      ]
     },
     "execution_count": 47,
     "metadata": {},
     "output_type": "execute_result"
    }
   ],
   "source": [
    "# Train a logistic regression model on the training set\n",
    "from sklearn.linear_model import LogisticRegression\n",
    "\n",
    "# instantiate the model\n",
    "logreg = LogisticRegression(solver='liblinear', random_state=0, C=10)\n",
    "\n",
    "# fit the model\n",
    "logreg.fit(X_train, y_train)"
   ]
  },
  {
   "cell_type": "markdown",
   "id": "443ece9a",
   "metadata": {
    "deletable": false,
    "editable": false,
    "nbgrader": {
     "cell_type": "markdown",
     "checksum": "1ad9a99d212300b45beef013ed1ada8b",
     "grade": false,
     "grade_id": "cell-dbfeefb6cb370b5b",
     "locked": true,
     "schema_version": 3,
     "solution": false,
     "task": false
    }
   },
   "source": [
    "## Prediction"
   ]
  },
  {
   "cell_type": "code",
   "execution_count": 48,
   "id": "eee92149",
   "metadata": {
    "deletable": false,
    "editable": false,
    "nbgrader": {
     "cell_type": "code",
     "checksum": "76856221ccce51d32a22126603c328c7",
     "grade": false,
     "grade_id": "cell-5d0f2dbcf836fd0f",
     "locked": true,
     "schema_version": 3,
     "solution": false,
     "task": false
    }
   },
   "outputs": [
    {
     "data": {
      "text/plain": [
       "array(['No', 'No', 'No', ..., 'No', 'Yes', 'Yes'], dtype=object)"
      ]
     },
     "execution_count": 48,
     "metadata": {},
     "output_type": "execute_result"
    }
   ],
   "source": [
    "#prediction on training\n",
    "y_pred_train = logreg.predict(X_train)\n",
    "y_pred_train"
   ]
  },
  {
   "cell_type": "code",
   "execution_count": 49,
   "id": "65483cd1",
   "metadata": {
    "deletable": false,
    "editable": false,
    "nbgrader": {
     "cell_type": "code",
     "checksum": "aba14ccc8e55a59637620c41ae134314",
     "grade": false,
     "grade_id": "cell-f46ac7262f126799",
     "locked": true,
     "schema_version": 3,
     "solution": false,
     "task": false
    }
   },
   "outputs": [
    {
     "data": {
      "text/plain": [
       "array(['No', 'No', 'Yes', ..., 'Yes', 'Yes', 'Yes'], dtype=object)"
      ]
     },
     "execution_count": 49,
     "metadata": {},
     "output_type": "execute_result"
    }
   ],
   "source": [
    "#prediction on testing \n",
    "y_pred_test = logreg.predict(X_test)\n",
    "\n",
    "y_pred_test"
   ]
  },
  {
   "cell_type": "markdown",
   "id": "1c170280",
   "metadata": {
    "deletable": false,
    "editable": false,
    "nbgrader": {
     "cell_type": "markdown",
     "checksum": "9d1336f07121f81a08887791a3fb72b0",
     "grade": false,
     "grade_id": "cell-c6b2416a295eeda8",
     "locked": true,
     "schema_version": 3,
     "solution": false,
     "task": false
    }
   },
   "source": [
    "## Evaluation"
   ]
  },
  {
   "cell_type": "code",
   "execution_count": 50,
   "id": "b740ff7f",
   "metadata": {
    "deletable": false,
    "editable": false,
    "nbgrader": {
     "cell_type": "code",
     "checksum": "63b55960355b5c276abc7727de43dd6f",
     "grade": false,
     "grade_id": "cell-c154628ccf5ac3fd",
     "locked": true,
     "schema_version": 3,
     "solution": false,
     "task": false
    }
   },
   "outputs": [
    {
     "name": "stdout",
     "output_type": "stream",
     "text": [
      "Model accuracy score: 0.7928\n"
     ]
    }
   ],
   "source": [
    "# Training Accuracy\n",
    "from sklearn.metrics import accuracy_score\n",
    "print('Model accuracy score: {0:0.4f}'. format(accuracy_score(y_train, y_pred_train)))"
   ]
  },
  {
   "cell_type": "code",
   "execution_count": 51,
   "id": "6e52f216",
   "metadata": {
    "deletable": false,
    "editable": false,
    "nbgrader": {
     "cell_type": "code",
     "checksum": "f35bec03f521ec69276f6cac6e850b50",
     "grade": false,
     "grade_id": "cell-2b196108bf9a5fb7",
     "locked": true,
     "schema_version": 3,
     "solution": false,
     "task": false
    }
   },
   "outputs": [
    {
     "name": "stdout",
     "output_type": "stream",
     "text": [
      "Model accuracy score: 0.7824\n"
     ]
    }
   ],
   "source": [
    "# Testing Accuracy\n",
    "from sklearn.metrics import accuracy_score, f1_score\n",
    "print('Model accuracy score: {0:0.4f}'. format(accuracy_score(y_test, y_pred_test)))"
   ]
  },
  {
   "cell_type": "markdown",
   "id": "d41353dc",
   "metadata": {
    "deletable": false,
    "editable": false,
    "nbgrader": {
     "cell_type": "markdown",
     "checksum": "703e0433b94108b40d4e373c5d2073e7",
     "grade": false,
     "grade_id": "cell-a66467c511c25b0a",
     "locked": true,
     "schema_version": 3,
     "solution": false,
     "task": false
    }
   },
   "source": [
    "## Feature Selection\n",
    "### We can Try and reduce the number of variables and see how the model performs. "
   ]
  },
  {
   "cell_type": "markdown",
   "id": "ffa0dc5a",
   "metadata": {
    "deletable": false,
    "editable": false,
    "nbgrader": {
     "cell_type": "markdown",
     "checksum": "ff424188f739d065db41bd7fb984897c",
     "grade": false,
     "grade_id": "cell-a98538c31adbdcae",
     "locked": true,
     "schema_version": 3,
     "solution": false,
     "task": false
    }
   },
   "source": [
    "In the case of Logistic regression, we can find out the coefficients of the variables from the equation and \n",
    "then use selected top variables with higher values of coefficients and train the model on it. If the model retains the accuracy and performance, we can use those variables only, so that not much time and memory has been used.\n",
    "Also this method is not genralised since selecting independent factors depends on various other things like its relation with target variable, noise in the variable. etc. "
   ]
  },
  {
   "cell_type": "code",
   "execution_count": 60,
   "id": "d6c94079",
   "metadata": {},
   "outputs": [
    {
     "data": {
      "text/plain": [
       "(122,)"
      ]
     },
     "execution_count": 60,
     "metadata": {},
     "output_type": "execute_result"
    }
   ],
   "source": [
    "logreg.coef_[0].shape"
   ]
  },
  {
   "cell_type": "code",
   "execution_count": 61,
   "id": "c5f82cb8",
   "metadata": {},
   "outputs": [
    {
     "data": {
      "text/plain": [
       "(40000, 122)"
      ]
     },
     "execution_count": 61,
     "metadata": {},
     "output_type": "execute_result"
    }
   ],
   "source": [
    "X.shape"
   ]
  },
  {
   "cell_type": "code",
   "execution_count": 62,
   "id": "7eecf40e",
   "metadata": {},
   "outputs": [
    {
     "data": {
      "text/plain": [
       "(40000, 123)"
      ]
     },
     "execution_count": 62,
     "metadata": {},
     "output_type": "execute_result"
    }
   ],
   "source": [
    "final_df.shape"
   ]
  },
  {
   "cell_type": "code",
   "execution_count": 63,
   "id": "6387b1e1",
   "metadata": {
    "deletable": false,
    "editable": false,
    "nbgrader": {
     "cell_type": "code",
     "checksum": "eae45d40203f82dda8cc44628004ea86",
     "grade": false,
     "grade_id": "cell-089bc889fcc37357",
     "locked": true,
     "schema_version": 3,
     "solution": false,
     "task": false
    }
   },
   "outputs": [
    {
     "data": {
      "text/plain": [
       "[('PressureChange', 6.131977140832603),\n",
       " ('Humidity3pm', 4.797559973091748),\n",
       " ('WindGustSpeed', 3.77503703304784),\n",
       " ('WindSpeedDiff', 3.110422499587189),\n",
       " ('AverageHumidity', 2.121113773764855),\n",
       " ('Temp3pm', 1.396764705659656),\n",
       " ('Cloud3pm', 1.0601920759448613),\n",
       " ('Pressure9am', 0.9192439773556279),\n",
       " ('Rainfall', 0.6454329768326572),\n",
       " ('RainTomorrow', 0.6312553878262098),\n",
       " ('Location_Penrith', 0.5984468904591185),\n",
       " ('Location_Bendigo', 0.5902863417583314),\n",
       " ('Location_Perth', 0.5222778785330581),\n",
       " ('WindSpeed9am', 0.5116775469436177),\n",
       " ('Location_Watsonia', 0.4591493511101022),\n",
       " ('Temp9am', 0.3917555879454096),\n",
       " ('Location_Nuriootpa', 0.3754403780477497),\n",
       " ('Location_Albany', 0.3268843016864323),\n",
       " ('Location_Williamtown', 0.2296113005376957),\n",
       " ('Location_Uluru', 0.2222747076562804),\n",
       " ('Location_Sale', 0.21939204683141794),\n",
       " ('WindDir3pm_NNE', 0.20759958735184889),\n",
       " ('WindDir3pm_NNW', 0.1866462953114398),\n",
       " ('Location_PearceRAAF', 0.18508711250022722),\n",
       " ('WindDir9am_NE', 0.1713244099087783),\n",
       " ('Location_Launceston', 0.15980599727161143),\n",
       " ('month', 0.15448858441166088),\n",
       " ('year', 0.15211397607676141),\n",
       " ('Location_Moree', 0.14963837593311322),\n",
       " ('Location_Canberra', 0.11464062629193925),\n",
       " ('Location_Townsville', 0.10238199746039237),\n",
       " ('WindDir3pm_ESE', 0.10170399466160744),\n",
       " ('Location_Ballarat', 0.09302270311255259),\n",
       " ('Location_PerthAirport', 0.08611807197735205),\n",
       " ('Location_CoffsHarbour', 0.0709339844884633),\n",
       " ('Location_SalmonGums', 0.06972161574896546),\n",
       " ('Location_AliceSprings', 0.047294632576838164),\n",
       " ('Location_Brisbane', 0.030255436878660533),\n",
       " ('WindDir9am_E', 0.024725756849797834),\n",
       " ('Location_NorfolkIsland', 0.013602480835013364),\n",
       " ('Location_Mildura', 0.00606581965809936),\n",
       " ('Location_Walpole', -0.0013989281049068985),\n",
       " ('Cloud9am', -0.01615873389321768),\n",
       " ('Location_Adelaide', -0.02842817627829613),\n",
       " ('Location_Cobar', -0.039832230225976144),\n",
       " ('Location_Portland', -0.05011015839310635),\n",
       " ('Location_MelbourneAirport', -0.0643721167050763),\n",
       " ('WindDir9am_WNW', -0.0699533300352043),\n",
       " ('Location_Albury', -0.07402284302165352),\n",
       " ('Location_Cairns', -0.07989369442260204),\n",
       " ('WindGustDir_SSW', -0.08166462031153218),\n",
       " ('WindGustDir_NW', -0.08935378202964675),\n",
       " ('Evaporation', -0.10169544148425497),\n",
       " ('WindDir9am_NNW', -0.10243224979534846),\n",
       " ('WindDir9am_N', -0.10245188714619378),\n",
       " ('Location_WaggaWagga', -0.10591686648203973),\n",
       " ('WindDir3pm_W', -0.10866150245800438),\n",
       " ('WindGustDir_S', -0.11180269729312789),\n",
       " ('WindGustDir_SE', -0.11338069189141062),\n",
       " ('Day', -0.11497075251023589),\n",
       " ('Location_Sydney', -0.1227007840989301),\n",
       " ('WindDir9am_ESE', -0.12393725543129624),\n",
       " ('WindDir3pm_SSE', -0.13544836336055402),\n",
       " ('WindGustDir_WNW', -0.16267251908842273),\n",
       " ('Location_Tuggeranong', -0.16666438830916339),\n",
       " ('WindGustDir_ENE', -0.17342382838983458),\n",
       " ('WindDir3pm_NE', -0.18756494514919797),\n",
       " ('WindGustDir_NNE', -0.19061806347817614),\n",
       " ('Location_Woomera', -0.2044143674157429),\n",
       " ('WindGustDir_SW', -0.20465045433072207),\n",
       " ('WindGustDir_SSE', -0.21020382409281332),\n",
       " ('WindDir9am_SW', -0.2141519388744297),\n",
       " ('WindDir9am_NNE', -0.2146597602172983),\n",
       " ('Location_Wollongong', -0.21830310464496902),\n",
       " ('WindDir9am_W', -0.2331930303541492),\n",
       " ('WindDir9am_SSW', -0.2411455319013825),\n",
       " ('MinTemp', -0.2453207832094089),\n",
       " ('WindGustDir_ESE', -0.24597351236389473),\n",
       " ('WindGustDir_NNW', -0.25015985105455324),\n",
       " ('WindDir3pm_SW', -0.25448095276436955),\n",
       " ('Location_NorahHead', -0.25539336898603776),\n",
       " ('WindGustDir_E', -0.25543111517826733),\n",
       " ('WindDir3pm_NW', -0.2644563995386743),\n",
       " ('Location_Richmond', -0.2650127708833854),\n",
       " ('WindDir3pm_S', -0.2722560327960359),\n",
       " ('WindGustDir_WSW', -0.2773036815964253),\n",
       " ('WindSpeed3pm', -0.28477286150795084),\n",
       " ('WindDir3pm_E', -0.2947647432195823),\n",
       " ('Location_MountGinini', -0.30305982531432873),\n",
       " ('WindGustDir_W', -0.3077611326564594),\n",
       " ('WindGustDir_N', -0.3214849293107048),\n",
       " ('WindDir9am_S', -0.33736537216243223),\n",
       " ('Location_Newcastle', -0.3431803365393674),\n",
       " ('Location_Melbourne', -0.345393947476025),\n",
       " ('WindDir9am_SSE', -0.34540810279641176),\n",
       " ('WindDir9am_ENE', -0.355964605086455),\n",
       " ('WindDir3pm_WNW', -0.35791008318260553),\n",
       " ('Location_BadgerysCreek', -0.36760460881529294),\n",
       " ('WindDir3pm_ENE', -0.3958272666658345),\n",
       " ('WindDir3pm_N', -0.39832715392674745),\n",
       " ('WindDir3pm_SE', -0.3987395707991558),\n",
       " ('WindDir3pm_SSW', -0.400644058847949),\n",
       " ('WindDir9am_WSW', -0.41031137549290864),\n",
       " ('Location_Darwin', -0.44585746415327676),\n",
       " ('Location_Dartmoor', -0.44765540349307203),\n",
       " ('WindDir9am_NW', -0.4558747956717499),\n",
       " ('WindGustDir_NE', -0.4604471819904135),\n",
       " ('Location_Katherine', -0.4750474947048042),\n",
       " ('WindDir9am_SE', -0.5056511965681658),\n",
       " ('MaxTemp', -0.5510094994340733),\n",
       " ('Location_GoldCoast', -0.5583365970374994),\n",
       " ('Humidity9am', -0.6099537765261878),\n",
       " ('Location_Nhil', -0.6437538952707409),\n",
       " ('Location_SydneyAirport', -0.6826706947855576),\n",
       " ('Location_MountGambier', -0.8165514641129932),\n",
       " ('Location_Hobart', -0.851770009623303),\n",
       " ('Location_Witchcliffe', -0.9340988381742072),\n",
       " ('RainToday_No', -1.5930472030151954),\n",
       " ('TempRange', -1.7702126823427629),\n",
       " ('WindDir3pm_WSW', -1.7903953678589053),\n",
       " ('Sunshine', -1.8460300334972446),\n",
       " ('Pressure3pm', -4.875710319324625)]"
      ]
     },
     "execution_count": 63,
     "metadata": {},
     "output_type": "execute_result"
    }
   ],
   "source": [
    "# Get the coefficients of the model\n",
    "coefficients = logreg.coef_[0]\n",
    "\n",
    "# Mapping feature names with their coefficients\n",
    "coefficients_dict = dict(zip(final_df.columns, coefficients))\n",
    "\n",
    "# Sorting and displaying the feature importance\n",
    "\n",
    "coefficients_dict_logr = sorted(coefficients_dict.items(), key=lambda x: x[1], reverse=True)\n",
    "coefficients_dict_logr"
   ]
  },
  {
   "cell_type": "code",
   "execution_count": 75,
   "id": "a07dbaf4",
   "metadata": {},
   "outputs": [
    {
     "data": {
      "text/plain": [
       "[('MinTemp', 8.803184777773435),\n",
       " ('MaxTemp', 5.141033634624376),\n",
       " ('Evaporation', 3.442900405840143),\n",
       " ('Rainfall', 3.2351506977961084),\n",
       " ('WindSpeed9am', 1.7222243866277438),\n",
       " ('Sunshine', 1.061344089268568),\n",
       " ('Humidity9am', 0.9872257583770374),\n",
       " ('WindGustSpeed', -0.2167671783584352),\n",
       " ('WindSpeed3pm', -4.081642069046055)]"
      ]
     },
     "execution_count": 75,
     "metadata": {},
     "output_type": "execute_result"
    }
   ],
   "source": [
    "# Get the coefficients of the model\n",
    "coefficients = logreg.coef_[0]\n",
    "\n",
    "# Mapping feature names with their coefficients\n",
    "coefficients_dict = dict(zip(X.columns, coefficients))\n",
    "\n",
    "# Sorting and displaying the feature importance\n",
    "\n",
    "coefficients_dict_logr = sorted(coefficients_dict.items(), key=lambda x: x[1], reverse=True)\n",
    "coefficients_dict_logr"
   ]
  },
  {
   "cell_type": "code",
   "execution_count": 76,
   "id": "bf9133be",
   "metadata": {
    "deletable": false,
    "editable": false,
    "nbgrader": {
     "cell_type": "code",
     "checksum": "185d1ec05270351ea5df6723c50c0d2c",
     "grade": false,
     "grade_id": "cell-6bda00061bbdf798",
     "locked": true,
     "schema_version": 3,
     "solution": false,
     "task": false
    }
   },
   "outputs": [
    {
     "data": {
      "text/plain": [
       "['MinTemp',\n",
       " 'MaxTemp',\n",
       " 'Evaporation',\n",
       " 'Rainfall',\n",
       " 'WindSpeed9am',\n",
       " 'Sunshine',\n",
       " 'Humidity9am',\n",
       " 'WindGustSpeed',\n",
       " 'WindSpeed3pm']"
      ]
     },
     "execution_count": 76,
     "metadata": {},
     "output_type": "execute_result"
    }
   ],
   "source": [
    "#Lets pick the top 10 features with greater coeffecient values.\n",
    "\n",
    "coefficients_dict_logr = sorted(coefficients_dict.items(), key=lambda x: x[1], reverse=True)\n",
    "\n",
    "top_10_feature_names = [feature[0] for feature in coefficients_dict_logr[ :10]]\n",
    "\n",
    "# Displaying the top 3 feature names\n",
    "top_10_feature_names"
   ]
  },
  {
   "cell_type": "code",
   "execution_count": 77,
   "id": "45e5f8a6",
   "metadata": {
    "deletable": false,
    "editable": false,
    "nbgrader": {
     "cell_type": "code",
     "checksum": "ded2ac0cedbf46480c8bee6d5c94a49f",
     "grade": false,
     "grade_id": "cell-192f054e24a041b3",
     "locked": true,
     "schema_version": 3,
     "solution": false,
     "task": false
    }
   },
   "outputs": [],
   "source": [
    "top_10_feature_names.append(\"RainTomorrow\")"
   ]
  },
  {
   "cell_type": "code",
   "execution_count": 78,
   "id": "49deff9b",
   "metadata": {
    "deletable": false,
    "editable": false,
    "nbgrader": {
     "cell_type": "code",
     "checksum": "163a31273513038cb692accb75cfc255",
     "grade": false,
     "grade_id": "cell-ec50e2a9b0369a07",
     "locked": true,
     "schema_version": 3,
     "solution": false,
     "task": false
    }
   },
   "outputs": [
    {
     "data": {
      "text/html": [
       "<div>\n",
       "<style scoped>\n",
       "    .dataframe tbody tr th:only-of-type {\n",
       "        vertical-align: middle;\n",
       "    }\n",
       "\n",
       "    .dataframe tbody tr th {\n",
       "        vertical-align: top;\n",
       "    }\n",
       "\n",
       "    .dataframe thead th {\n",
       "        text-align: right;\n",
       "    }\n",
       "</style>\n",
       "<table border=\"1\" class=\"dataframe\">\n",
       "  <thead>\n",
       "    <tr style=\"text-align: right;\">\n",
       "      <th></th>\n",
       "      <th>MinTemp</th>\n",
       "      <th>MaxTemp</th>\n",
       "      <th>Evaporation</th>\n",
       "      <th>Rainfall</th>\n",
       "      <th>WindSpeed9am</th>\n",
       "      <th>Sunshine</th>\n",
       "      <th>Humidity9am</th>\n",
       "      <th>WindGustSpeed</th>\n",
       "      <th>WindSpeed3pm</th>\n",
       "      <th>RainTomorrow</th>\n",
       "    </tr>\n",
       "  </thead>\n",
       "  <tbody>\n",
       "    <tr>\n",
       "      <th>0</th>\n",
       "      <td>0.555819</td>\n",
       "      <td>0.550095</td>\n",
       "      <td>0.55</td>\n",
       "      <td>0.000000</td>\n",
       "      <td>0.152542</td>\n",
       "      <td>0.475524</td>\n",
       "      <td>0.693878</td>\n",
       "      <td>0.250000</td>\n",
       "      <td>0.333333</td>\n",
       "      <td>Yes</td>\n",
       "    </tr>\n",
       "    <tr>\n",
       "      <th>1</th>\n",
       "      <td>0.524941</td>\n",
       "      <td>0.499055</td>\n",
       "      <td>0.40</td>\n",
       "      <td>1.000000</td>\n",
       "      <td>0.067797</td>\n",
       "      <td>0.461538</td>\n",
       "      <td>0.877551</td>\n",
       "      <td>0.289062</td>\n",
       "      <td>0.192982</td>\n",
       "      <td>Yes</td>\n",
       "    </tr>\n",
       "    <tr>\n",
       "      <th>2</th>\n",
       "      <td>0.420428</td>\n",
       "      <td>0.548204</td>\n",
       "      <td>0.55</td>\n",
       "      <td>0.000000</td>\n",
       "      <td>0.067797</td>\n",
       "      <td>0.475524</td>\n",
       "      <td>0.551020</td>\n",
       "      <td>0.265625</td>\n",
       "      <td>0.070175</td>\n",
       "      <td>Yes</td>\n",
       "    </tr>\n",
       "    <tr>\n",
       "      <th>3</th>\n",
       "      <td>0.581948</td>\n",
       "      <td>0.482042</td>\n",
       "      <td>0.55</td>\n",
       "      <td>0.500000</td>\n",
       "      <td>0.118644</td>\n",
       "      <td>0.475524</td>\n",
       "      <td>0.959184</td>\n",
       "      <td>0.265625</td>\n",
       "      <td>0.122807</td>\n",
       "      <td>Yes</td>\n",
       "    </tr>\n",
       "    <tr>\n",
       "      <th>4</th>\n",
       "      <td>0.555819</td>\n",
       "      <td>0.565217</td>\n",
       "      <td>0.55</td>\n",
       "      <td>0.431818</td>\n",
       "      <td>0.067797</td>\n",
       "      <td>0.475524</td>\n",
       "      <td>0.785714</td>\n",
       "      <td>0.304688</td>\n",
       "      <td>0.263158</td>\n",
       "      <td>Yes</td>\n",
       "    </tr>\n",
       "  </tbody>\n",
       "</table>\n",
       "</div>"
      ],
      "text/plain": [
       "    MinTemp   MaxTemp  Evaporation  Rainfall  WindSpeed9am  Sunshine  \\\n",
       "0  0.555819  0.550095         0.55  0.000000      0.152542  0.475524   \n",
       "1  0.524941  0.499055         0.40  1.000000      0.067797  0.461538   \n",
       "2  0.420428  0.548204         0.55  0.000000      0.067797  0.475524   \n",
       "3  0.581948  0.482042         0.55  0.500000      0.118644  0.475524   \n",
       "4  0.555819  0.565217         0.55  0.431818      0.067797  0.475524   \n",
       "\n",
       "   Humidity9am  WindGustSpeed  WindSpeed3pm RainTomorrow  \n",
       "0     0.693878       0.250000      0.333333          Yes  \n",
       "1     0.877551       0.289062      0.192982          Yes  \n",
       "2     0.551020       0.265625      0.070175          Yes  \n",
       "3     0.959184       0.265625      0.122807          Yes  \n",
       "4     0.785714       0.304688      0.263158          Yes  "
      ]
     },
     "execution_count": 78,
     "metadata": {},
     "output_type": "execute_result"
    }
   ],
   "source": [
    "final_df[top_10_feature_names].head()"
   ]
  },
  {
   "cell_type": "code",
   "execution_count": 79,
   "id": "bc690601",
   "metadata": {
    "deletable": false,
    "editable": false,
    "nbgrader": {
     "cell_type": "code",
     "checksum": "e45e90ef64241857e29bd963245a7337",
     "grade": false,
     "grade_id": "cell-8b763521e7c00065",
     "locked": true,
     "schema_version": 3,
     "solution": false,
     "task": false
    }
   },
   "outputs": [],
   "source": [
    "df_new = final_df[top_10_feature_names]"
   ]
  },
  {
   "cell_type": "code",
   "execution_count": 80,
   "id": "88cc9ec9",
   "metadata": {
    "deletable": false,
    "editable": false,
    "nbgrader": {
     "cell_type": "code",
     "checksum": "7d1c331b0cfd18858a1e1f2c387cfe09",
     "grade": false,
     "grade_id": "cell-4d7a64904c9e44bb",
     "locked": true,
     "schema_version": 3,
     "solution": false,
     "task": false
    }
   },
   "outputs": [
    {
     "data": {
      "text/plain": [
       "MinTemp          0\n",
       "MaxTemp          0\n",
       "Evaporation      0\n",
       "Rainfall         0\n",
       "WindSpeed9am     0\n",
       "Sunshine         0\n",
       "Humidity9am      0\n",
       "WindGustSpeed    0\n",
       "WindSpeed3pm     0\n",
       "RainTomorrow     0\n",
       "dtype: int64"
      ]
     },
     "execution_count": 80,
     "metadata": {},
     "output_type": "execute_result"
    }
   ],
   "source": [
    "df_new.isna().sum()"
   ]
  },
  {
   "cell_type": "code",
   "execution_count": 81,
   "id": "6ba3c0a3",
   "metadata": {},
   "outputs": [
    {
     "data": {
      "text/html": [
       "<div>\n",
       "<style scoped>\n",
       "    .dataframe tbody tr th:only-of-type {\n",
       "        vertical-align: middle;\n",
       "    }\n",
       "\n",
       "    .dataframe tbody tr th {\n",
       "        vertical-align: top;\n",
       "    }\n",
       "\n",
       "    .dataframe thead th {\n",
       "        text-align: right;\n",
       "    }\n",
       "</style>\n",
       "<table border=\"1\" class=\"dataframe\">\n",
       "  <thead>\n",
       "    <tr style=\"text-align: right;\">\n",
       "      <th></th>\n",
       "      <th>MinTemp</th>\n",
       "      <th>MaxTemp</th>\n",
       "      <th>Evaporation</th>\n",
       "      <th>Rainfall</th>\n",
       "      <th>WindSpeed9am</th>\n",
       "      <th>Sunshine</th>\n",
       "      <th>Humidity9am</th>\n",
       "      <th>WindGustSpeed</th>\n",
       "      <th>WindSpeed3pm</th>\n",
       "      <th>RainTomorrow</th>\n",
       "    </tr>\n",
       "  </thead>\n",
       "  <tbody>\n",
       "    <tr>\n",
       "      <th>0</th>\n",
       "      <td>0.555819</td>\n",
       "      <td>0.550095</td>\n",
       "      <td>0.550</td>\n",
       "      <td>0.000000</td>\n",
       "      <td>0.152542</td>\n",
       "      <td>0.475524</td>\n",
       "      <td>0.693878</td>\n",
       "      <td>0.250000</td>\n",
       "      <td>0.333333</td>\n",
       "      <td>Yes</td>\n",
       "    </tr>\n",
       "    <tr>\n",
       "      <th>1</th>\n",
       "      <td>0.524941</td>\n",
       "      <td>0.499055</td>\n",
       "      <td>0.400</td>\n",
       "      <td>1.000000</td>\n",
       "      <td>0.067797</td>\n",
       "      <td>0.461538</td>\n",
       "      <td>0.877551</td>\n",
       "      <td>0.289062</td>\n",
       "      <td>0.192982</td>\n",
       "      <td>Yes</td>\n",
       "    </tr>\n",
       "    <tr>\n",
       "      <th>2</th>\n",
       "      <td>0.420428</td>\n",
       "      <td>0.548204</td>\n",
       "      <td>0.550</td>\n",
       "      <td>0.000000</td>\n",
       "      <td>0.067797</td>\n",
       "      <td>0.475524</td>\n",
       "      <td>0.551020</td>\n",
       "      <td>0.265625</td>\n",
       "      <td>0.070175</td>\n",
       "      <td>Yes</td>\n",
       "    </tr>\n",
       "    <tr>\n",
       "      <th>3</th>\n",
       "      <td>0.581948</td>\n",
       "      <td>0.482042</td>\n",
       "      <td>0.550</td>\n",
       "      <td>0.500000</td>\n",
       "      <td>0.118644</td>\n",
       "      <td>0.475524</td>\n",
       "      <td>0.959184</td>\n",
       "      <td>0.265625</td>\n",
       "      <td>0.122807</td>\n",
       "      <td>Yes</td>\n",
       "    </tr>\n",
       "    <tr>\n",
       "      <th>4</th>\n",
       "      <td>0.555819</td>\n",
       "      <td>0.565217</td>\n",
       "      <td>0.550</td>\n",
       "      <td>0.431818</td>\n",
       "      <td>0.067797</td>\n",
       "      <td>0.475524</td>\n",
       "      <td>0.785714</td>\n",
       "      <td>0.304688</td>\n",
       "      <td>0.263158</td>\n",
       "      <td>Yes</td>\n",
       "    </tr>\n",
       "    <tr>\n",
       "      <th>5</th>\n",
       "      <td>0.451306</td>\n",
       "      <td>0.491493</td>\n",
       "      <td>0.350</td>\n",
       "      <td>0.000000</td>\n",
       "      <td>0.254237</td>\n",
       "      <td>0.440559</td>\n",
       "      <td>0.734694</td>\n",
       "      <td>0.281250</td>\n",
       "      <td>0.350877</td>\n",
       "      <td>Yes</td>\n",
       "    </tr>\n",
       "    <tr>\n",
       "      <th>6</th>\n",
       "      <td>0.415677</td>\n",
       "      <td>0.359168</td>\n",
       "      <td>0.550</td>\n",
       "      <td>1.000000</td>\n",
       "      <td>0.000000</td>\n",
       "      <td>0.475524</td>\n",
       "      <td>0.918367</td>\n",
       "      <td>0.265625</td>\n",
       "      <td>0.070175</td>\n",
       "      <td>Yes</td>\n",
       "    </tr>\n",
       "    <tr>\n",
       "      <th>7</th>\n",
       "      <td>0.482185</td>\n",
       "      <td>0.330813</td>\n",
       "      <td>0.725</td>\n",
       "      <td>1.000000</td>\n",
       "      <td>0.474576</td>\n",
       "      <td>0.000000</td>\n",
       "      <td>0.918367</td>\n",
       "      <td>0.421875</td>\n",
       "      <td>0.649123</td>\n",
       "      <td>Yes</td>\n",
       "    </tr>\n",
       "    <tr>\n",
       "      <th>8</th>\n",
       "      <td>0.406176</td>\n",
       "      <td>0.510397</td>\n",
       "      <td>0.450</td>\n",
       "      <td>0.000000</td>\n",
       "      <td>0.593220</td>\n",
       "      <td>0.307692</td>\n",
       "      <td>0.428571</td>\n",
       "      <td>0.554688</td>\n",
       "      <td>0.771930</td>\n",
       "      <td>Yes</td>\n",
       "    </tr>\n",
       "    <tr>\n",
       "      <th>9</th>\n",
       "      <td>0.532067</td>\n",
       "      <td>0.391304</td>\n",
       "      <td>0.550</td>\n",
       "      <td>1.000000</td>\n",
       "      <td>0.288136</td>\n",
       "      <td>0.475524</td>\n",
       "      <td>0.734694</td>\n",
       "      <td>0.382812</td>\n",
       "      <td>0.350877</td>\n",
       "      <td>Yes</td>\n",
       "    </tr>\n",
       "    <tr>\n",
       "      <th>10</th>\n",
       "      <td>0.553444</td>\n",
       "      <td>0.474480</td>\n",
       "      <td>0.550</td>\n",
       "      <td>0.329545</td>\n",
       "      <td>0.406780</td>\n",
       "      <td>0.475524</td>\n",
       "      <td>0.908163</td>\n",
       "      <td>0.218750</td>\n",
       "      <td>0.192982</td>\n",
       "      <td>Yes</td>\n",
       "    </tr>\n",
       "    <tr>\n",
       "      <th>11</th>\n",
       "      <td>0.384798</td>\n",
       "      <td>0.527410</td>\n",
       "      <td>0.825</td>\n",
       "      <td>0.000000</td>\n",
       "      <td>0.254237</td>\n",
       "      <td>0.475524</td>\n",
       "      <td>0.612245</td>\n",
       "      <td>0.382812</td>\n",
       "      <td>0.614035</td>\n",
       "      <td>Yes</td>\n",
       "    </tr>\n",
       "    <tr>\n",
       "      <th>12</th>\n",
       "      <td>0.562945</td>\n",
       "      <td>0.542533</td>\n",
       "      <td>0.500</td>\n",
       "      <td>0.363636</td>\n",
       "      <td>0.254237</td>\n",
       "      <td>0.160839</td>\n",
       "      <td>0.816327</td>\n",
       "      <td>0.203125</td>\n",
       "      <td>0.157895</td>\n",
       "      <td>Yes</td>\n",
       "    </tr>\n",
       "    <tr>\n",
       "      <th>13</th>\n",
       "      <td>0.831354</td>\n",
       "      <td>0.805293</td>\n",
       "      <td>0.825</td>\n",
       "      <td>0.113636</td>\n",
       "      <td>0.000000</td>\n",
       "      <td>0.475524</td>\n",
       "      <td>0.551020</td>\n",
       "      <td>0.406250</td>\n",
       "      <td>0.157895</td>\n",
       "      <td>Yes</td>\n",
       "    </tr>\n",
       "    <tr>\n",
       "      <th>14</th>\n",
       "      <td>0.401425</td>\n",
       "      <td>0.427221</td>\n",
       "      <td>0.750</td>\n",
       "      <td>0.000000</td>\n",
       "      <td>0.220339</td>\n",
       "      <td>0.622378</td>\n",
       "      <td>0.612245</td>\n",
       "      <td>0.265625</td>\n",
       "      <td>0.333333</td>\n",
       "      <td>Yes</td>\n",
       "    </tr>\n",
       "    <tr>\n",
       "      <th>15</th>\n",
       "      <td>0.650831</td>\n",
       "      <td>0.654064</td>\n",
       "      <td>0.650</td>\n",
       "      <td>0.000000</td>\n",
       "      <td>0.152542</td>\n",
       "      <td>0.692308</td>\n",
       "      <td>0.602041</td>\n",
       "      <td>0.351562</td>\n",
       "      <td>0.421053</td>\n",
       "      <td>Yes</td>\n",
       "    </tr>\n",
       "    <tr>\n",
       "      <th>16</th>\n",
       "      <td>0.724466</td>\n",
       "      <td>0.551985</td>\n",
       "      <td>0.300</td>\n",
       "      <td>0.522727</td>\n",
       "      <td>0.186441</td>\n",
       "      <td>0.000000</td>\n",
       "      <td>0.908163</td>\n",
       "      <td>0.382812</td>\n",
       "      <td>0.526316</td>\n",
       "      <td>Yes</td>\n",
       "    </tr>\n",
       "    <tr>\n",
       "      <th>17</th>\n",
       "      <td>0.401425</td>\n",
       "      <td>0.376181</td>\n",
       "      <td>0.200</td>\n",
       "      <td>0.727273</td>\n",
       "      <td>0.288136</td>\n",
       "      <td>0.384615</td>\n",
       "      <td>0.663265</td>\n",
       "      <td>0.421875</td>\n",
       "      <td>0.456140</td>\n",
       "      <td>Yes</td>\n",
       "    </tr>\n",
       "    <tr>\n",
       "      <th>18</th>\n",
       "      <td>0.420428</td>\n",
       "      <td>0.395085</td>\n",
       "      <td>0.700</td>\n",
       "      <td>0.068182</td>\n",
       "      <td>0.152542</td>\n",
       "      <td>0.328671</td>\n",
       "      <td>0.795918</td>\n",
       "      <td>0.406250</td>\n",
       "      <td>0.298246</td>\n",
       "      <td>Yes</td>\n",
       "    </tr>\n",
       "    <tr>\n",
       "      <th>19</th>\n",
       "      <td>0.505938</td>\n",
       "      <td>0.412098</td>\n",
       "      <td>0.225</td>\n",
       "      <td>0.204545</td>\n",
       "      <td>0.474576</td>\n",
       "      <td>0.006993</td>\n",
       "      <td>0.969388</td>\n",
       "      <td>0.289062</td>\n",
       "      <td>0.456140</td>\n",
       "      <td>Yes</td>\n",
       "    </tr>\n",
       "  </tbody>\n",
       "</table>\n",
       "</div>"
      ],
      "text/plain": [
       "     MinTemp   MaxTemp  Evaporation  Rainfall  WindSpeed9am  Sunshine  \\\n",
       "0   0.555819  0.550095        0.550  0.000000      0.152542  0.475524   \n",
       "1   0.524941  0.499055        0.400  1.000000      0.067797  0.461538   \n",
       "2   0.420428  0.548204        0.550  0.000000      0.067797  0.475524   \n",
       "3   0.581948  0.482042        0.550  0.500000      0.118644  0.475524   \n",
       "4   0.555819  0.565217        0.550  0.431818      0.067797  0.475524   \n",
       "5   0.451306  0.491493        0.350  0.000000      0.254237  0.440559   \n",
       "6   0.415677  0.359168        0.550  1.000000      0.000000  0.475524   \n",
       "7   0.482185  0.330813        0.725  1.000000      0.474576  0.000000   \n",
       "8   0.406176  0.510397        0.450  0.000000      0.593220  0.307692   \n",
       "9   0.532067  0.391304        0.550  1.000000      0.288136  0.475524   \n",
       "10  0.553444  0.474480        0.550  0.329545      0.406780  0.475524   \n",
       "11  0.384798  0.527410        0.825  0.000000      0.254237  0.475524   \n",
       "12  0.562945  0.542533        0.500  0.363636      0.254237  0.160839   \n",
       "13  0.831354  0.805293        0.825  0.113636      0.000000  0.475524   \n",
       "14  0.401425  0.427221        0.750  0.000000      0.220339  0.622378   \n",
       "15  0.650831  0.654064        0.650  0.000000      0.152542  0.692308   \n",
       "16  0.724466  0.551985        0.300  0.522727      0.186441  0.000000   \n",
       "17  0.401425  0.376181        0.200  0.727273      0.288136  0.384615   \n",
       "18  0.420428  0.395085        0.700  0.068182      0.152542  0.328671   \n",
       "19  0.505938  0.412098        0.225  0.204545      0.474576  0.006993   \n",
       "\n",
       "    Humidity9am  WindGustSpeed  WindSpeed3pm RainTomorrow  \n",
       "0      0.693878       0.250000      0.333333          Yes  \n",
       "1      0.877551       0.289062      0.192982          Yes  \n",
       "2      0.551020       0.265625      0.070175          Yes  \n",
       "3      0.959184       0.265625      0.122807          Yes  \n",
       "4      0.785714       0.304688      0.263158          Yes  \n",
       "5      0.734694       0.281250      0.350877          Yes  \n",
       "6      0.918367       0.265625      0.070175          Yes  \n",
       "7      0.918367       0.421875      0.649123          Yes  \n",
       "8      0.428571       0.554688      0.771930          Yes  \n",
       "9      0.734694       0.382812      0.350877          Yes  \n",
       "10     0.908163       0.218750      0.192982          Yes  \n",
       "11     0.612245       0.382812      0.614035          Yes  \n",
       "12     0.816327       0.203125      0.157895          Yes  \n",
       "13     0.551020       0.406250      0.157895          Yes  \n",
       "14     0.612245       0.265625      0.333333          Yes  \n",
       "15     0.602041       0.351562      0.421053          Yes  \n",
       "16     0.908163       0.382812      0.526316          Yes  \n",
       "17     0.663265       0.421875      0.456140          Yes  \n",
       "18     0.795918       0.406250      0.298246          Yes  \n",
       "19     0.969388       0.289062      0.456140          Yes  "
      ]
     },
     "execution_count": 81,
     "metadata": {},
     "output_type": "execute_result"
    }
   ],
   "source": [
    "df_new.head(20)"
   ]
  },
  {
   "cell_type": "markdown",
   "id": "fa672cbb",
   "metadata": {
    "deletable": false,
    "editable": false,
    "nbgrader": {
     "cell_type": "markdown",
     "checksum": "8f590c99b4095faee19fe92d7b7876ed",
     "grade": false,
     "grade_id": "cell-7fd86819de749f27",
     "locked": true,
     "schema_version": 3,
     "solution": false,
     "task": false
    }
   },
   "source": [
    "## Evaluation"
   ]
  },
  {
   "cell_type": "code",
   "execution_count": 82,
   "id": "f634a2f1",
   "metadata": {},
   "outputs": [],
   "source": [
    "X_train, X_test, y_train, y_test= train_test_split(df_new.drop('RainTomorrow', axis = 1), df_new['RainTomorrow'] , test_size=0.25,shuffle=True, random_state=42)"
   ]
  },
  {
   "cell_type": "code",
   "execution_count": null,
   "id": "2a0e271a",
   "metadata": {},
   "outputs": [],
   "source": []
  },
  {
   "cell_type": "code",
   "execution_count": 83,
   "id": "53d9b7fe",
   "metadata": {
    "deletable": false,
    "editable": false,
    "nbgrader": {
     "cell_type": "code",
     "checksum": "8acb0ff42f92d0582a44228e8a07bdd1",
     "grade": false,
     "grade_id": "cell-6b762d4b8afd1626",
     "locked": true,
     "schema_version": 3,
     "solution": false,
     "task": false
    }
   },
   "outputs": [
    {
     "name": "stdout",
     "output_type": "stream",
     "text": [
      "Model accuracy score: 0.7824\n"
     ]
    }
   ],
   "source": [
    "# Testing the performance of the model on the final dataset with selected features\n",
    "X_train, X_test, y_train, y_test= train_test_split(df_new.drop('RainTomorrow', axis = 1), df_new['RainTomorrow'] , test_size=0.25,shuffle=True, random_state=42)\n",
    "\n",
    "\n",
    "# train a logistic regression model on the training set\n",
    "from sklearn.linear_model import LogisticRegression\n",
    "\n",
    "\n",
    "# instantiate the model\n",
    "logreg = LogisticRegression(solver='liblinear', random_state=42, C=5)\n",
    "\n",
    "# fit the model\n",
    "logreg.fit(X_train, y_train)\n",
    "\n",
    "from sklearn.metrics import accuracy_score\n",
    "y_pred_test11 = logreg.predict(X_test)\n",
    "print('Model accuracy score: {0:0.4f}'. format(accuracy_score(y_test, y_pred_test)))"
   ]
  },
  {
   "cell_type": "code",
   "execution_count": 84,
   "id": "e63327b9",
   "metadata": {},
   "outputs": [
    {
     "data": {
      "text/plain": [
       "(30000,)"
      ]
     },
     "execution_count": 84,
     "metadata": {},
     "output_type": "execute_result"
    }
   ],
   "source": [
    "y_train.shape"
   ]
  },
  {
   "cell_type": "markdown",
   "id": "c5cc58ab",
   "metadata": {
    "deletable": false,
    "editable": false,
    "nbgrader": {
     "cell_type": "markdown",
     "checksum": "fee63d0f6b538f6ed0de8de50bc7d777",
     "grade": false,
     "grade_id": "cell-01e150ec8e03b593",
     "locked": true,
     "schema_version": 3,
     "solution": false,
     "task": false
    }
   },
   "source": [
    "# Hyper Parameter Tuning"
   ]
  },
  {
   "cell_type": "markdown",
   "id": "80fd7b05",
   "metadata": {
    "deletable": false,
    "editable": false,
    "nbgrader": {
     "cell_type": "markdown",
     "checksum": "57afcd73ab365890d2a0e072d8d98771",
     "grade": false,
     "grade_id": "cell-16689f081da94c7b",
     "locked": true,
     "schema_version": 3,
     "solution": false,
     "task": false
    }
   },
   "source": [
    "Lets See what are best best paramters for training the data on logistic regression. This Process of tuning can take a lot of time, depending on number of fits and folds and data points and memory and GPU of your computer."
   ]
  },
  {
   "cell_type": "code",
   "execution_count": 85,
   "id": "c480e81a",
   "metadata": {
    "deletable": false,
    "editable": false,
    "nbgrader": {
     "cell_type": "code",
     "checksum": "6bb756b0e8db55ca6e0c17141fcce832",
     "grade": false,
     "grade_id": "cell-788f535f3d331d1e",
     "locked": true,
     "schema_version": 3,
     "solution": false,
     "task": false
    }
   },
   "outputs": [
    {
     "name": "stdout",
     "output_type": "stream",
     "text": [
      "Fitting 5 folds for each of 5 candidates, totalling 25 fits\n"
     ]
    },
    {
     "data": {
      "text/html": [
       "<style>#sk-container-id-2 {color: black;background-color: white;}#sk-container-id-2 pre{padding: 0;}#sk-container-id-2 div.sk-toggleable {background-color: white;}#sk-container-id-2 label.sk-toggleable__label {cursor: pointer;display: block;width: 100%;margin-bottom: 0;padding: 0.3em;box-sizing: border-box;text-align: center;}#sk-container-id-2 label.sk-toggleable__label-arrow:before {content: \"▸\";float: left;margin-right: 0.25em;color: #696969;}#sk-container-id-2 label.sk-toggleable__label-arrow:hover:before {color: black;}#sk-container-id-2 div.sk-estimator:hover label.sk-toggleable__label-arrow:before {color: black;}#sk-container-id-2 div.sk-toggleable__content {max-height: 0;max-width: 0;overflow: hidden;text-align: left;background-color: #f0f8ff;}#sk-container-id-2 div.sk-toggleable__content pre {margin: 0.2em;color: black;border-radius: 0.25em;background-color: #f0f8ff;}#sk-container-id-2 input.sk-toggleable__control:checked~div.sk-toggleable__content {max-height: 200px;max-width: 100%;overflow: auto;}#sk-container-id-2 input.sk-toggleable__control:checked~label.sk-toggleable__label-arrow:before {content: \"▾\";}#sk-container-id-2 div.sk-estimator input.sk-toggleable__control:checked~label.sk-toggleable__label {background-color: #d4ebff;}#sk-container-id-2 div.sk-label input.sk-toggleable__control:checked~label.sk-toggleable__label {background-color: #d4ebff;}#sk-container-id-2 input.sk-hidden--visually {border: 0;clip: rect(1px 1px 1px 1px);clip: rect(1px, 1px, 1px, 1px);height: 1px;margin: -1px;overflow: hidden;padding: 0;position: absolute;width: 1px;}#sk-container-id-2 div.sk-estimator {font-family: monospace;background-color: #f0f8ff;border: 1px dotted black;border-radius: 0.25em;box-sizing: border-box;margin-bottom: 0.5em;}#sk-container-id-2 div.sk-estimator:hover {background-color: #d4ebff;}#sk-container-id-2 div.sk-parallel-item::after {content: \"\";width: 100%;border-bottom: 1px solid gray;flex-grow: 1;}#sk-container-id-2 div.sk-label:hover label.sk-toggleable__label {background-color: #d4ebff;}#sk-container-id-2 div.sk-serial::before {content: \"\";position: absolute;border-left: 1px solid gray;box-sizing: border-box;top: 0;bottom: 0;left: 50%;z-index: 0;}#sk-container-id-2 div.sk-serial {display: flex;flex-direction: column;align-items: center;background-color: white;padding-right: 0.2em;padding-left: 0.2em;position: relative;}#sk-container-id-2 div.sk-item {position: relative;z-index: 1;}#sk-container-id-2 div.sk-parallel {display: flex;align-items: stretch;justify-content: center;background-color: white;position: relative;}#sk-container-id-2 div.sk-item::before, #sk-container-id-2 div.sk-parallel-item::before {content: \"\";position: absolute;border-left: 1px solid gray;box-sizing: border-box;top: 0;bottom: 0;left: 50%;z-index: -1;}#sk-container-id-2 div.sk-parallel-item {display: flex;flex-direction: column;z-index: 1;position: relative;background-color: white;}#sk-container-id-2 div.sk-parallel-item:first-child::after {align-self: flex-end;width: 50%;}#sk-container-id-2 div.sk-parallel-item:last-child::after {align-self: flex-start;width: 50%;}#sk-container-id-2 div.sk-parallel-item:only-child::after {width: 0;}#sk-container-id-2 div.sk-dashed-wrapped {border: 1px dashed gray;margin: 0 0.4em 0.5em 0.4em;box-sizing: border-box;padding-bottom: 0.4em;background-color: white;}#sk-container-id-2 div.sk-label label {font-family: monospace;font-weight: bold;display: inline-block;line-height: 1.2em;}#sk-container-id-2 div.sk-label-container {text-align: center;}#sk-container-id-2 div.sk-container {/* jupyter's `normalize.less` sets `[hidden] { display: none; }` but bootstrap.min.css set `[hidden] { display: none !important; }` so we also need the `!important` here to be able to override the default hidden behavior on the sphinx rendered scikit-learn.org. See: https://github.com/scikit-learn/scikit-learn/issues/21755 */display: inline-block !important;position: relative;}#sk-container-id-2 div.sk-text-repr-fallback {display: none;}</style><div id=\"sk-container-id-2\" class=\"sk-top-container\"><div class=\"sk-text-repr-fallback\"><pre>GridSearchCV(estimator=LogisticRegression(C=5, random_state=42,\n",
       "                                          solver=&#x27;liblinear&#x27;),\n",
       "             param_grid=[{&#x27;penalty&#x27;: [&#x27;l1&#x27;, &#x27;l2&#x27;]}, {&#x27;C&#x27;: [1, 10, 100]}],\n",
       "             scoring=&#x27;accuracy&#x27;, verbose=1)</pre><b>In a Jupyter environment, please rerun this cell to show the HTML representation or trust the notebook. <br />On GitHub, the HTML representation is unable to render, please try loading this page with nbviewer.org.</b></div><div class=\"sk-container\" hidden><div class=\"sk-item sk-dashed-wrapped\"><div class=\"sk-label-container\"><div class=\"sk-label sk-toggleable\"><input class=\"sk-toggleable__control sk-hidden--visually\" id=\"sk-estimator-id-2\" type=\"checkbox\" ><label for=\"sk-estimator-id-2\" class=\"sk-toggleable__label sk-toggleable__label-arrow\">GridSearchCV</label><div class=\"sk-toggleable__content\"><pre>GridSearchCV(estimator=LogisticRegression(C=5, random_state=42,\n",
       "                                          solver=&#x27;liblinear&#x27;),\n",
       "             param_grid=[{&#x27;penalty&#x27;: [&#x27;l1&#x27;, &#x27;l2&#x27;]}, {&#x27;C&#x27;: [1, 10, 100]}],\n",
       "             scoring=&#x27;accuracy&#x27;, verbose=1)</pre></div></div></div><div class=\"sk-parallel\"><div class=\"sk-parallel-item\"><div class=\"sk-item\"><div class=\"sk-label-container\"><div class=\"sk-label sk-toggleable\"><input class=\"sk-toggleable__control sk-hidden--visually\" id=\"sk-estimator-id-3\" type=\"checkbox\" ><label for=\"sk-estimator-id-3\" class=\"sk-toggleable__label sk-toggleable__label-arrow\">estimator: LogisticRegression</label><div class=\"sk-toggleable__content\"><pre>LogisticRegression(C=5, random_state=42, solver=&#x27;liblinear&#x27;)</pre></div></div></div><div class=\"sk-serial\"><div class=\"sk-item\"><div class=\"sk-estimator sk-toggleable\"><input class=\"sk-toggleable__control sk-hidden--visually\" id=\"sk-estimator-id-4\" type=\"checkbox\" ><label for=\"sk-estimator-id-4\" class=\"sk-toggleable__label sk-toggleable__label-arrow\">LogisticRegression</label><div class=\"sk-toggleable__content\"><pre>LogisticRegression(C=5, random_state=42, solver=&#x27;liblinear&#x27;)</pre></div></div></div></div></div></div></div></div></div></div>"
      ],
      "text/plain": [
       "GridSearchCV(estimator=LogisticRegression(C=5, random_state=42,\n",
       "                                          solver='liblinear'),\n",
       "             param_grid=[{'penalty': ['l1', 'l2']}, {'C': [1, 10, 100]}],\n",
       "             scoring='accuracy', verbose=1)"
      ]
     },
     "execution_count": 85,
     "metadata": {},
     "output_type": "execute_result"
    }
   ],
   "source": [
    "from sklearn.model_selection import GridSearchCV\n",
    "\n",
    "\n",
    "parameters = [{'penalty':['l1','l2']}, \n",
    "              {'C':[1, 10, 100]}]\n",
    "\n",
    "\n",
    "\n",
    "grid_search = GridSearchCV(estimator = logreg,  \n",
    "                           param_grid = parameters,\n",
    "                           scoring = 'accuracy',\n",
    "                           #cv = 5,\n",
    "                           verbose=1)\n",
    "\n",
    "\n",
    "grid_search.fit(X_train, y_train)"
   ]
  },
  {
   "cell_type": "code",
   "execution_count": 87,
   "id": "4c612b7d",
   "metadata": {
    "deletable": false,
    "editable": false,
    "nbgrader": {
     "cell_type": "code",
     "checksum": "7c025ed60a2b3b2e5500d3a807231848",
     "grade": false,
     "grade_id": "cell-18899eeb92b4439a",
     "locked": true,
     "schema_version": 3,
     "solution": false,
     "task": false
    }
   },
   "outputs": [
    {
     "name": "stdout",
     "output_type": "stream",
     "text": [
      "GridSearch CV best score : 0.7453\n",
      "\n",
      "\n",
      "Parameters that give the best results : \n",
      "\n",
      " {'C': 1}\n",
      "\n",
      "\n",
      "Estimator that was chosen by the search : \n",
      "\n",
      " LogisticRegression(C=1, random_state=42, solver='liblinear')\n"
     ]
    }
   ],
   "source": [
    "# examine the best model\n",
    "\n",
    "# best score achieved during the GridSearchCV\n",
    "print('GridSearch CV best score : {:.4f}\\n\\n'.format(grid_search.best_score_))\n",
    "\n",
    "# print parameters that give the best results\n",
    "print('Parameters that give the best results :','\\n\\n', (grid_search.best_params_))\n",
    "\n",
    "# print estimator that was chosen by the GridSearch\n",
    "print('\\n\\nEstimator that was chosen by the search :','\\n\\n', (grid_search.best_estimator_))"
   ]
  },
  {
   "cell_type": "markdown",
   "id": "3e20eb92",
   "metadata": {
    "deletable": false,
    "editable": false,
    "nbgrader": {
     "cell_type": "markdown",
     "checksum": "3790dfc437bad66c4e7eafda7451db0f",
     "grade": false,
     "grade_id": "cell-325431bf0281ffda",
     "locked": true,
     "schema_version": 3,
     "solution": false,
     "task": false
    }
   },
   "source": [
    "Now with the values given by paramter tuning, we can set these parameters to fine tune and also use other paramter tuning method to see if there is any improvement"
   ]
  },
  {
   "cell_type": "code",
   "execution_count": 88,
   "id": "e7892ba5",
   "metadata": {
    "deletable": false,
    "editable": false,
    "nbgrader": {
     "cell_type": "code",
     "checksum": "a99b5b35ce23a4a9a57ebb93d81396c4",
     "grade": false,
     "grade_id": "cell-1507bc5986dfe023",
     "locked": true,
     "schema_version": 3,
     "solution": false,
     "task": false
    }
   },
   "outputs": [],
   "source": [
    "# Try your Code using optimised paramters here "
   ]
  },
  {
   "cell_type": "code",
   "execution_count": 89,
   "id": "99583f9e",
   "metadata": {},
   "outputs": [
    {
     "name": "stdout",
     "output_type": "stream",
     "text": [
      "Model accuracy score: 0.7824\n"
     ]
    }
   ],
   "source": [
    "logreg = LogisticRegression(C=1, random_state=42, solver='liblinear')\n",
    "# fit the model\n",
    "logreg.fit(X_train, y_train)\n",
    "\n",
    "from sklearn.metrics import accuracy_score\n",
    "y_pred_test11 = logreg.predict(X_test)\n",
    "print('Model accuracy score: {0:0.4f}'. format(accuracy_score(y_test, y_pred_test)))"
   ]
  },
  {
   "cell_type": "markdown",
   "id": "2252b1c4",
   "metadata": {
    "deletable": false,
    "editable": false,
    "nbgrader": {
     "cell_type": "markdown",
     "checksum": "082b00344850af2231cd1f823b738b40",
     "grade": false,
     "grade_id": "cell-246eac6ae315fdad",
     "locked": true,
     "schema_version": 3,
     "solution": false,
     "task": false
    }
   },
   "source": [
    "As per the model accuracy, the results are almost same, so we can drop the variables and use less number of features, this way training time is reduced, memory used is less. \n",
    "Note : This is an example where our accuracy didn't go down or up much so you must remember feature selection depends on various factors.\n",
    "    \n",
    "It's important to approach the interpretation of feature importance in logistic regression with caution. This includes being mindful of the scale at which the features are measured and acknowledging the possibility of multicollinearity between them. Additionally, one should not draw conclusions about causality from logistic regression models without conducting further validation studies.\n",
    "    "
   ]
  }
 ],
 "metadata": {
  "kernelspec": {
   "display_name": "Python 3 (ipykernel)",
   "language": "python",
   "name": "python3"
  },
  "language_info": {
   "codemirror_mode": {
    "name": "ipython",
    "version": 3
   },
   "file_extension": ".py",
   "mimetype": "text/x-python",
   "name": "python",
   "nbconvert_exporter": "python",
   "pygments_lexer": "ipython3",
   "version": "3.10.6"
  }
 },
 "nbformat": 4,
 "nbformat_minor": 5
}
