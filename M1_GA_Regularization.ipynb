{
 "cells": [
  {
   "cell_type": "markdown",
   "id": "fde4348b",
   "metadata": {
    "deletable": false,
    "editable": false,
    "nbgrader": {
     "cell_type": "markdown",
     "checksum": "6977be866870dc17776619ace83c3118",
     "grade": false,
     "grade_id": "cell-41bc5cabfc30d8b2",
     "locked": true,
     "schema_version": 3,
     "solution": false,
     "task": false
    }
   },
   "source": [
    "## Problem Statement\n",
    "Develop a predictive model using employee data to classify individuals as likely to stay or leave the company. This classification will assist in making informed decisions about employee retention strategies and workplace improvements."
   ]
  },
  {
   "cell_type": "markdown",
   "id": "71b1895f",
   "metadata": {
    "deletable": false,
    "editable": false,
    "nbgrader": {
     "cell_type": "markdown",
     "checksum": "c86a2f89ec44f8b8356ecea917678def",
     "grade": false,
     "grade_id": "cell-b549f33acb03c8db",
     "locked": true,
     "schema_version": 3,
     "solution": false,
     "task": false
    }
   },
   "source": [
    "## Overview\n",
    "The dataset contains 900 rows and 15 columns, representing various employee metrics. The data aims to reflect realistic scenarios in a corporate setting, encompassing professional and personal employee metrics. Below is a brief overview of the dataset columns:\n",
    "\n",
    "1. JobSatisfaction: Employee's job satisfaction level.\n",
    "\n",
    "2. PerformanceRating: Performance rating given by the company.\n",
    "\n",
    "3. YearsAtCompany: Total number of years the employee has been with the company.\n",
    "\n",
    "4. WorkLifeBalance: Rating of how well the employee feels they balance work and personal life.\n",
    "\n",
    "5. DistanceFromHome: Distance from the employee's home to the workplace.\n",
    "\n",
    "6. MonthlyIncome: The monthly income of the employee.\n",
    "\n",
    "7. EducationLevel: The highest level of education attained by the employee.\n",
    "\n",
    "8. Age: The age of the employee.\n",
    "\n",
    "9. NumCompaniesWorked: The number of companies the employee has worked at before joining the current company.\n",
    "\n",
    "10. EmployeeRole: The role or position of the employee within the company.\n",
    "\n",
    "11. AnnualBonus: Annual bonus received by the employee.\n",
    "\n",
    "12. TrainingHours: Number of hours spent in training programs.\n",
    "\n",
    "13. Department: Department in which the employee works.\n",
    "\n",
    "14. AnnualBonus_Squared: Square of the annual bonus (a polynomial feature).\n",
    "\n",
    "15. AnnualBonus_TrainingHours_Interaction: Interaction term between annual bonus and training hours.\n"
   ]
  },
  {
   "cell_type": "markdown",
   "id": "3e42727a",
   "metadata": {
    "deletable": false,
    "editable": false,
    "nbgrader": {
     "cell_type": "markdown",
     "checksum": "889133a6a0e87810a106fb9b55fe9fdd",
     "grade": false,
     "grade_id": "cell-fb6dcae0ff082d42",
     "locked": true,
     "schema_version": 3,
     "solution": false,
     "task": false
    }
   },
   "source": [
    "It is clear from the above description that the EmployeeTurnover is the 'Target' column.\n",
    "\n",
    "Binary outcome variable, with '1' indicating the employee is likely to leave (turnover) and '0' indicating the employee is likely to stay. Understanding factors leading to turnover is crucial for the company to develop effective employee retention strategies and improve overall workplace satisfaction."
   ]
  },
  {
   "cell_type": "markdown",
   "id": "a57463bb",
   "metadata": {
    "deletable": false,
    "editable": false,
    "nbgrader": {
     "cell_type": "markdown",
     "checksum": "709f8231b19c55cffa91f866d90e95ba",
     "grade": false,
     "grade_id": "cell-69acc9b1b7228413",
     "locked": true,
     "schema_version": 3,
     "solution": false,
     "task": false
    }
   },
   "source": [
    "Let us begin with importing the necessary libraries. And read the data."
   ]
  },
  {
   "cell_type": "code",
   "execution_count": 1,
   "id": "101333fc",
   "metadata": {
    "deletable": false,
    "editable": false,
    "nbgrader": {
     "cell_type": "code",
     "checksum": "61a0b17a9d2f27e27324aef296031234",
     "grade": false,
     "grade_id": "cell-9284071f55a1e6e2",
     "locked": true,
     "schema_version": 3,
     "solution": false,
     "task": false
    }
   },
   "outputs": [],
   "source": [
    "# Necessary library imports for data processing\n",
    "import numpy as np\n",
    "import pandas as pd\n",
    "from sklearn.model_selection import train_test_split\n",
    "from sklearn.linear_model import LogisticRegression, LogisticRegressionCV\n",
    "from sklearn.metrics import classification_report, f1_score"
   ]
  },
  {
   "cell_type": "markdown",
   "id": "f7eaf471",
   "metadata": {
    "deletable": false,
    "editable": false,
    "nbgrader": {
     "cell_type": "markdown",
     "checksum": "3e3f026b89b2e48fbc70455ecaf9ea90",
     "grade": false,
     "grade_id": "cell-07e27da27d9d4236",
     "locked": true,
     "schema_version": 3,
     "solution": false,
     "task": false
    }
   },
   "source": [
    "Now load the data"
   ]
  },
  {
   "cell_type": "code",
   "execution_count": 2,
   "id": "1fd53ed5",
   "metadata": {
    "deletable": false,
    "editable": false,
    "nbgrader": {
     "cell_type": "code",
     "checksum": "ec451eb50b24139e4cdf9212a7dc55a0",
     "grade": false,
     "grade_id": "cell-2e4e918f95ec9231",
     "locked": true,
     "schema_version": 3,
     "solution": false,
     "task": false
    }
   },
   "outputs": [
    {
     "data": {
      "text/html": [
       "<div>\n",
       "<style scoped>\n",
       "    .dataframe tbody tr th:only-of-type {\n",
       "        vertical-align: middle;\n",
       "    }\n",
       "\n",
       "    .dataframe tbody tr th {\n",
       "        vertical-align: top;\n",
       "    }\n",
       "\n",
       "    .dataframe thead th {\n",
       "        text-align: right;\n",
       "    }\n",
       "</style>\n",
       "<table border=\"1\" class=\"dataframe\">\n",
       "  <thead>\n",
       "    <tr style=\"text-align: right;\">\n",
       "      <th></th>\n",
       "      <th>Job_Satisfaction</th>\n",
       "      <th>Performance_Rating</th>\n",
       "      <th>Years_At_Company</th>\n",
       "      <th>Work_Life_Balance</th>\n",
       "      <th>Distance_From_Home</th>\n",
       "      <th>Monthly_Income</th>\n",
       "      <th>Education_Level</th>\n",
       "      <th>Age</th>\n",
       "      <th>Num_Companies_Worked</th>\n",
       "      <th>Employee_Role</th>\n",
       "      <th>Annual_Bonus</th>\n",
       "      <th>Training_Hours</th>\n",
       "      <th>Department</th>\n",
       "      <th>Annual_Bonus_Squared</th>\n",
       "      <th>Annual_Bonus_Training_Hours_Interaction</th>\n",
       "      <th>Employee_Turnover</th>\n",
       "    </tr>\n",
       "  </thead>\n",
       "  <tbody>\n",
       "    <tr>\n",
       "      <th>0</th>\n",
       "      <td>0.562326</td>\n",
       "      <td>0.141129</td>\n",
       "      <td>0.123989</td>\n",
       "      <td>0.347583</td>\n",
       "      <td>0.330353</td>\n",
       "      <td>0.328853</td>\n",
       "      <td>0.600933</td>\n",
       "      <td>0.315990</td>\n",
       "      <td>0.768736</td>\n",
       "      <td>0.090671</td>\n",
       "      <td>0.324786</td>\n",
       "      <td>0.669193</td>\n",
       "      <td>0.602932</td>\n",
       "      <td>0.105486</td>\n",
       "      <td>0.217344</td>\n",
       "      <td>0</td>\n",
       "    </tr>\n",
       "    <tr>\n",
       "      <th>1</th>\n",
       "      <td>0.017041</td>\n",
       "      <td>0.559047</td>\n",
       "      <td>0.511203</td>\n",
       "      <td>0.793908</td>\n",
       "      <td>0.423550</td>\n",
       "      <td>0.553450</td>\n",
       "      <td>0.742009</td>\n",
       "      <td>0.897146</td>\n",
       "      <td>0.380035</td>\n",
       "      <td>0.601633</td>\n",
       "      <td>0.694611</td>\n",
       "      <td>0.043271</td>\n",
       "      <td>0.800761</td>\n",
       "      <td>0.482484</td>\n",
       "      <td>0.030056</td>\n",
       "      <td>0</td>\n",
       "    </tr>\n",
       "    <tr>\n",
       "      <th>2</th>\n",
       "      <td>0.774699</td>\n",
       "      <td>0.604371</td>\n",
       "      <td>0.798174</td>\n",
       "      <td>0.260500</td>\n",
       "      <td>0.804034</td>\n",
       "      <td>0.131800</td>\n",
       "      <td>0.775178</td>\n",
       "      <td>0.830947</td>\n",
       "      <td>0.218726</td>\n",
       "      <td>0.972936</td>\n",
       "      <td>0.153476</td>\n",
       "      <td>0.701336</td>\n",
       "      <td>0.705275</td>\n",
       "      <td>0.023555</td>\n",
       "      <td>0.107638</td>\n",
       "      <td>1</td>\n",
       "    </tr>\n",
       "    <tr>\n",
       "      <th>3</th>\n",
       "      <td>0.628174</td>\n",
       "      <td>0.385249</td>\n",
       "      <td>0.230104</td>\n",
       "      <td>0.516809</td>\n",
       "      <td>0.272248</td>\n",
       "      <td>0.589249</td>\n",
       "      <td>0.482409</td>\n",
       "      <td>0.090507</td>\n",
       "      <td>0.402746</td>\n",
       "      <td>0.132842</td>\n",
       "      <td>0.305973</td>\n",
       "      <td>0.549688</td>\n",
       "      <td>0.600531</td>\n",
       "      <td>0.093620</td>\n",
       "      <td>0.168190</td>\n",
       "      <td>0</td>\n",
       "    </tr>\n",
       "    <tr>\n",
       "      <th>4</th>\n",
       "      <td>0.799183</td>\n",
       "      <td>0.199967</td>\n",
       "      <td>0.839029</td>\n",
       "      <td>0.247927</td>\n",
       "      <td>0.341934</td>\n",
       "      <td>0.076818</td>\n",
       "      <td>0.055356</td>\n",
       "      <td>0.680860</td>\n",
       "      <td>0.923341</td>\n",
       "      <td>0.493017</td>\n",
       "      <td>0.844094</td>\n",
       "      <td>0.793751</td>\n",
       "      <td>0.664679</td>\n",
       "      <td>0.712494</td>\n",
       "      <td>0.670000</td>\n",
       "      <td>0</td>\n",
       "    </tr>\n",
       "  </tbody>\n",
       "</table>\n",
       "</div>"
      ],
      "text/plain": [
       "   Job_Satisfaction  Performance_Rating  Years_At_Company  Work_Life_Balance  \\\n",
       "0          0.562326            0.141129          0.123989           0.347583   \n",
       "1          0.017041            0.559047          0.511203           0.793908   \n",
       "2          0.774699            0.604371          0.798174           0.260500   \n",
       "3          0.628174            0.385249          0.230104           0.516809   \n",
       "4          0.799183            0.199967          0.839029           0.247927   \n",
       "\n",
       "   Distance_From_Home  Monthly_Income  Education_Level       Age  \\\n",
       "0            0.330353        0.328853         0.600933  0.315990   \n",
       "1            0.423550        0.553450         0.742009  0.897146   \n",
       "2            0.804034        0.131800         0.775178  0.830947   \n",
       "3            0.272248        0.589249         0.482409  0.090507   \n",
       "4            0.341934        0.076818         0.055356  0.680860   \n",
       "\n",
       "   Num_Companies_Worked  Employee_Role  Annual_Bonus  Training_Hours  \\\n",
       "0              0.768736       0.090671      0.324786        0.669193   \n",
       "1              0.380035       0.601633      0.694611        0.043271   \n",
       "2              0.218726       0.972936      0.153476        0.701336   \n",
       "3              0.402746       0.132842      0.305973        0.549688   \n",
       "4              0.923341       0.493017      0.844094        0.793751   \n",
       "\n",
       "   Department  Annual_Bonus_Squared  Annual_Bonus_Training_Hours_Interaction  \\\n",
       "0    0.602932              0.105486                                 0.217344   \n",
       "1    0.800761              0.482484                                 0.030056   \n",
       "2    0.705275              0.023555                                 0.107638   \n",
       "3    0.600531              0.093620                                 0.168190   \n",
       "4    0.664679              0.712494                                 0.670000   \n",
       "\n",
       "   Employee_Turnover  \n",
       "0                  0  \n",
       "1                  0  \n",
       "2                  1  \n",
       "3                  0  \n",
       "4                  0  "
      ]
     },
     "execution_count": 2,
     "metadata": {},
     "output_type": "execute_result"
    }
   ],
   "source": [
    "# Load the dataset\n",
    "df = pd.read_csv('modified_employee_turnover.csv')\n",
    "df.head()"
   ]
  },
  {
   "cell_type": "code",
   "execution_count": 3,
   "id": "add8f7df",
   "metadata": {
    "deletable": false,
    "editable": false,
    "nbgrader": {
     "cell_type": "code",
     "checksum": "815dda5cb08f2bc8504b263e6d34e2b2",
     "grade": false,
     "grade_id": "cell-dec25570e352f71a",
     "locked": true,
     "schema_version": 3,
     "solution": false,
     "task": false
    }
   },
   "outputs": [
    {
     "data": {
      "text/plain": [
       "(1350, 16)"
      ]
     },
     "execution_count": 3,
     "metadata": {},
     "output_type": "execute_result"
    }
   ],
   "source": [
    "df.shape"
   ]
  },
  {
   "cell_type": "markdown",
   "id": "f8028bff",
   "metadata": {
    "deletable": false,
    "editable": false,
    "nbgrader": {
     "cell_type": "markdown",
     "checksum": "42c2a84fbfdaf7c81207298fd2ffa949",
     "grade": false,
     "grade_id": "cell-e4e7d0054a6627da",
     "locked": true,
     "schema_version": 3,
     "solution": false,
     "task": false
    }
   },
   "source": [
    "This shows that the dataset has 16 features and 1350  number of observations. "
   ]
  },
  {
   "cell_type": "markdown",
   "id": "820784d7",
   "metadata": {
    "deletable": false,
    "editable": false,
    "nbgrader": {
     "cell_type": "markdown",
     "checksum": "a19730ea82ceca44231316b338ea6389",
     "grade": false,
     "grade_id": "cell-2047da07cd5a94b1",
     "locked": true,
     "schema_version": 3,
     "solution": false,
     "task": false
    }
   },
   "source": [
    "## Let's separate the features (X) and the target variable (y)\n",
    "\n",
    "The target variable 'Employee_Turnover' is what the model aims to predict, and it is separated from the input features to ensure the model is trained correctly."
   ]
  },
  {
   "cell_type": "code",
   "execution_count": 9,
   "id": "80c01cb9",
   "metadata": {
    "deletable": false,
    "nbgrader": {
     "cell_type": "code",
     "checksum": "c89ba0238bfc8d66705f2c84923a6a83",
     "grade": false,
     "grade_id": "cell-8cd584b5e53e8c5d",
     "locked": false,
     "schema_version": 3,
     "solution": true,
     "task": false
    }
   },
   "outputs": [],
   "source": [
    "# Dropping 'Target' column to avoid muticollinearity\n",
    "# Write your code below\n",
    "# your code here\n",
    "# raise NotImplementedError\n",
    "X = df.drop('Employee_Turnover',axis=1)\n",
    "y = df['Employee_Turnover']"
   ]
  },
  {
   "cell_type": "code",
   "execution_count": null,
   "id": "16ab73d9",
   "metadata": {
    "deletable": false,
    "editable": false,
    "nbgrader": {
     "cell_type": "code",
     "checksum": "03e35187cac06d2307eab59f644f6e32",
     "grade": true,
     "grade_id": "cell-893455a528960cc7",
     "locked": true,
     "points": 2,
     "schema_version": 3,
     "solution": false,
     "task": false
    }
   },
   "outputs": [],
   "source": []
  },
  {
   "cell_type": "markdown",
   "id": "2e659b7f",
   "metadata": {
    "deletable": false,
    "editable": false,
    "nbgrader": {
     "cell_type": "markdown",
     "checksum": "bd4cf1b8cbf067818eb86e6fcd5f659a",
     "grade": false,
     "grade_id": "cell-01d7603eb12a95cf",
     "locked": true,
     "schema_version": 3,
     "solution": false,
     "task": false
    }
   },
   "source": [
    "# Splitting Dataset into Train and Test Sets\n",
    "\n",
    "\n",
    "This step is a standard procedure in machine learning for preparing data before training a model. It ensures that there is a separate dataset for evaluating the model's performance, which helps in assessing how well the model will perform on unseen data. Split the data in 70:30 ratio. Name the variables as follows- X_train, X_test, y_train, y_test.\n",
    "\n",
    "And use the random_state as 42.\n"
   ]
  },
  {
   "cell_type": "code",
   "execution_count": 27,
   "id": "e9cc1e3e",
   "metadata": {
    "deletable": false,
    "nbgrader": {
     "cell_type": "code",
     "checksum": "60ddcfa89532c38fb9ec2e5a8757eb7c",
     "grade": false,
     "grade_id": "cell-b950ec849faa5cc8",
     "locked": false,
     "schema_version": 3,
     "solution": true,
     "task": false
    }
   },
   "outputs": [
    {
     "data": {
      "text/html": [
       "<style>#sk-container-id-1 {color: black;background-color: white;}#sk-container-id-1 pre{padding: 0;}#sk-container-id-1 div.sk-toggleable {background-color: white;}#sk-container-id-1 label.sk-toggleable__label {cursor: pointer;display: block;width: 100%;margin-bottom: 0;padding: 0.3em;box-sizing: border-box;text-align: center;}#sk-container-id-1 label.sk-toggleable__label-arrow:before {content: \"▸\";float: left;margin-right: 0.25em;color: #696969;}#sk-container-id-1 label.sk-toggleable__label-arrow:hover:before {color: black;}#sk-container-id-1 div.sk-estimator:hover label.sk-toggleable__label-arrow:before {color: black;}#sk-container-id-1 div.sk-toggleable__content {max-height: 0;max-width: 0;overflow: hidden;text-align: left;background-color: #f0f8ff;}#sk-container-id-1 div.sk-toggleable__content pre {margin: 0.2em;color: black;border-radius: 0.25em;background-color: #f0f8ff;}#sk-container-id-1 input.sk-toggleable__control:checked~div.sk-toggleable__content {max-height: 200px;max-width: 100%;overflow: auto;}#sk-container-id-1 input.sk-toggleable__control:checked~label.sk-toggleable__label-arrow:before {content: \"▾\";}#sk-container-id-1 div.sk-estimator input.sk-toggleable__control:checked~label.sk-toggleable__label {background-color: #d4ebff;}#sk-container-id-1 div.sk-label input.sk-toggleable__control:checked~label.sk-toggleable__label {background-color: #d4ebff;}#sk-container-id-1 input.sk-hidden--visually {border: 0;clip: rect(1px 1px 1px 1px);clip: rect(1px, 1px, 1px, 1px);height: 1px;margin: -1px;overflow: hidden;padding: 0;position: absolute;width: 1px;}#sk-container-id-1 div.sk-estimator {font-family: monospace;background-color: #f0f8ff;border: 1px dotted black;border-radius: 0.25em;box-sizing: border-box;margin-bottom: 0.5em;}#sk-container-id-1 div.sk-estimator:hover {background-color: #d4ebff;}#sk-container-id-1 div.sk-parallel-item::after {content: \"\";width: 100%;border-bottom: 1px solid gray;flex-grow: 1;}#sk-container-id-1 div.sk-label:hover label.sk-toggleable__label {background-color: #d4ebff;}#sk-container-id-1 div.sk-serial::before {content: \"\";position: absolute;border-left: 1px solid gray;box-sizing: border-box;top: 0;bottom: 0;left: 50%;z-index: 0;}#sk-container-id-1 div.sk-serial {display: flex;flex-direction: column;align-items: center;background-color: white;padding-right: 0.2em;padding-left: 0.2em;position: relative;}#sk-container-id-1 div.sk-item {position: relative;z-index: 1;}#sk-container-id-1 div.sk-parallel {display: flex;align-items: stretch;justify-content: center;background-color: white;position: relative;}#sk-container-id-1 div.sk-item::before, #sk-container-id-1 div.sk-parallel-item::before {content: \"\";position: absolute;border-left: 1px solid gray;box-sizing: border-box;top: 0;bottom: 0;left: 50%;z-index: -1;}#sk-container-id-1 div.sk-parallel-item {display: flex;flex-direction: column;z-index: 1;position: relative;background-color: white;}#sk-container-id-1 div.sk-parallel-item:first-child::after {align-self: flex-end;width: 50%;}#sk-container-id-1 div.sk-parallel-item:last-child::after {align-self: flex-start;width: 50%;}#sk-container-id-1 div.sk-parallel-item:only-child::after {width: 0;}#sk-container-id-1 div.sk-dashed-wrapped {border: 1px dashed gray;margin: 0 0.4em 0.5em 0.4em;box-sizing: border-box;padding-bottom: 0.4em;background-color: white;}#sk-container-id-1 div.sk-label label {font-family: monospace;font-weight: bold;display: inline-block;line-height: 1.2em;}#sk-container-id-1 div.sk-label-container {text-align: center;}#sk-container-id-1 div.sk-container {/* jupyter's `normalize.less` sets `[hidden] { display: none; }` but bootstrap.min.css set `[hidden] { display: none !important; }` so we also need the `!important` here to be able to override the default hidden behavior on the sphinx rendered scikit-learn.org. See: https://github.com/scikit-learn/scikit-learn/issues/21755 */display: inline-block !important;position: relative;}#sk-container-id-1 div.sk-text-repr-fallback {display: none;}</style><div id=\"sk-container-id-1\" class=\"sk-top-container\"><div class=\"sk-text-repr-fallback\"><pre>LogisticRegression(max_iter=10000, n_jobs=-1, penalty=&#x27;none&#x27;)</pre><b>In a Jupyter environment, please rerun this cell to show the HTML representation or trust the notebook. <br />On GitHub, the HTML representation is unable to render, please try loading this page with nbviewer.org.</b></div><div class=\"sk-container\" hidden><div class=\"sk-item\"><div class=\"sk-estimator sk-toggleable\"><input class=\"sk-toggleable__control sk-hidden--visually\" id=\"sk-estimator-id-1\" type=\"checkbox\" checked><label for=\"sk-estimator-id-1\" class=\"sk-toggleable__label sk-toggleable__label-arrow\">LogisticRegression</label><div class=\"sk-toggleable__content\"><pre>LogisticRegression(max_iter=10000, n_jobs=-1, penalty=&#x27;none&#x27;)</pre></div></div></div></div></div>"
      ],
      "text/plain": [
       "LogisticRegression(max_iter=10000, n_jobs=-1, penalty='none')"
      ]
     },
     "execution_count": 27,
     "metadata": {},
     "output_type": "execute_result"
    }
   ],
   "source": [
    "# Splitting the dataset into training and testing sets\n",
    "# your code here\n",
    "# raise NotImplementedError\n",
    "X_train, X_test, y_train, y_test = train_test_split(X,y,test_size=0.3,random_state=42)\n",
    "logistic_no_reg = LogisticRegression(penalty='none', \n",
    "                                     max_iter = 10000,\n",
    "                                     n_jobs=-1)\n",
    "logistic_no_reg.fit(X_train, y_train)"
   ]
  },
  {
   "cell_type": "code",
   "execution_count": 22,
   "id": "2fb5672f",
   "metadata": {},
   "outputs": [
    {
     "data": {
      "text/html": [
       "<div>\n",
       "<style scoped>\n",
       "    .dataframe tbody tr th:only-of-type {\n",
       "        vertical-align: middle;\n",
       "    }\n",
       "\n",
       "    .dataframe tbody tr th {\n",
       "        vertical-align: top;\n",
       "    }\n",
       "\n",
       "    .dataframe thead th {\n",
       "        text-align: right;\n",
       "    }\n",
       "</style>\n",
       "<table border=\"1\" class=\"dataframe\">\n",
       "  <thead>\n",
       "    <tr style=\"text-align: right;\">\n",
       "      <th></th>\n",
       "      <th>Job_Satisfaction</th>\n",
       "      <th>Performance_Rating</th>\n",
       "      <th>Years_At_Company</th>\n",
       "      <th>Work_Life_Balance</th>\n",
       "      <th>Distance_From_Home</th>\n",
       "      <th>Monthly_Income</th>\n",
       "      <th>Education_Level</th>\n",
       "      <th>Age</th>\n",
       "      <th>Num_Companies_Worked</th>\n",
       "      <th>Employee_Role</th>\n",
       "      <th>Annual_Bonus</th>\n",
       "      <th>Training_Hours</th>\n",
       "      <th>Department</th>\n",
       "      <th>Annual_Bonus_Squared</th>\n",
       "      <th>Annual_Bonus_Training_Hours_Interaction</th>\n",
       "    </tr>\n",
       "  </thead>\n",
       "  <tbody>\n",
       "    <tr>\n",
       "      <th>12</th>\n",
       "      <td>0.204878</td>\n",
       "      <td>0.810004</td>\n",
       "      <td>0.567821</td>\n",
       "      <td>0.139505</td>\n",
       "      <td>0.804894</td>\n",
       "      <td>0.958586</td>\n",
       "      <td>0.346164</td>\n",
       "      <td>0.293512</td>\n",
       "      <td>0.081775</td>\n",
       "      <td>0.664491</td>\n",
       "      <td>0.958962</td>\n",
       "      <td>0.135993</td>\n",
       "      <td>0.485160</td>\n",
       "      <td>0.919607</td>\n",
       "      <td>0.130412</td>\n",
       "    </tr>\n",
       "    <tr>\n",
       "      <th>538</th>\n",
       "      <td>0.774699</td>\n",
       "      <td>0.604371</td>\n",
       "      <td>0.798174</td>\n",
       "      <td>0.260500</td>\n",
       "      <td>0.804034</td>\n",
       "      <td>0.131800</td>\n",
       "      <td>0.775178</td>\n",
       "      <td>0.830947</td>\n",
       "      <td>0.218726</td>\n",
       "      <td>0.972936</td>\n",
       "      <td>0.153476</td>\n",
       "      <td>0.701336</td>\n",
       "      <td>0.705275</td>\n",
       "      <td>0.023555</td>\n",
       "      <td>0.107638</td>\n",
       "    </tr>\n",
       "    <tr>\n",
       "      <th>171</th>\n",
       "      <td>0.673458</td>\n",
       "      <td>0.952937</td>\n",
       "      <td>0.288349</td>\n",
       "      <td>0.291362</td>\n",
       "      <td>0.918004</td>\n",
       "      <td>0.799306</td>\n",
       "      <td>0.203357</td>\n",
       "      <td>0.570047</td>\n",
       "      <td>0.745764</td>\n",
       "      <td>0.353036</td>\n",
       "      <td>0.434382</td>\n",
       "      <td>0.575397</td>\n",
       "      <td>0.467109</td>\n",
       "      <td>0.188688</td>\n",
       "      <td>0.249942</td>\n",
       "    </tr>\n",
       "    <tr>\n",
       "      <th>596</th>\n",
       "      <td>0.044454</td>\n",
       "      <td>0.413166</td>\n",
       "      <td>0.356620</td>\n",
       "      <td>0.245890</td>\n",
       "      <td>0.528972</td>\n",
       "      <td>0.389623</td>\n",
       "      <td>0.949945</td>\n",
       "      <td>0.621229</td>\n",
       "      <td>0.358154</td>\n",
       "      <td>0.214337</td>\n",
       "      <td>0.665124</td>\n",
       "      <td>0.920129</td>\n",
       "      <td>0.627113</td>\n",
       "      <td>0.442390</td>\n",
       "      <td>0.612000</td>\n",
       "    </tr>\n",
       "    <tr>\n",
       "      <th>1237</th>\n",
       "      <td>0.967190</td>\n",
       "      <td>0.215866</td>\n",
       "      <td>0.678588</td>\n",
       "      <td>0.473890</td>\n",
       "      <td>0.723285</td>\n",
       "      <td>0.097759</td>\n",
       "      <td>0.952545</td>\n",
       "      <td>0.204489</td>\n",
       "      <td>0.220384</td>\n",
       "      <td>0.554029</td>\n",
       "      <td>0.349733</td>\n",
       "      <td>0.442130</td>\n",
       "      <td>0.037098</td>\n",
       "      <td>0.122313</td>\n",
       "      <td>0.154627</td>\n",
       "    </tr>\n",
       "  </tbody>\n",
       "</table>\n",
       "</div>"
      ],
      "text/plain": [
       "      Job_Satisfaction  Performance_Rating  Years_At_Company  \\\n",
       "12            0.204878            0.810004          0.567821   \n",
       "538           0.774699            0.604371          0.798174   \n",
       "171           0.673458            0.952937          0.288349   \n",
       "596           0.044454            0.413166          0.356620   \n",
       "1237          0.967190            0.215866          0.678588   \n",
       "\n",
       "      Work_Life_Balance  Distance_From_Home  Monthly_Income  Education_Level  \\\n",
       "12             0.139505            0.804894        0.958586         0.346164   \n",
       "538            0.260500            0.804034        0.131800         0.775178   \n",
       "171            0.291362            0.918004        0.799306         0.203357   \n",
       "596            0.245890            0.528972        0.389623         0.949945   \n",
       "1237           0.473890            0.723285        0.097759         0.952545   \n",
       "\n",
       "           Age  Num_Companies_Worked  Employee_Role  Annual_Bonus  \\\n",
       "12    0.293512              0.081775       0.664491      0.958962   \n",
       "538   0.830947              0.218726       0.972936      0.153476   \n",
       "171   0.570047              0.745764       0.353036      0.434382   \n",
       "596   0.621229              0.358154       0.214337      0.665124   \n",
       "1237  0.204489              0.220384       0.554029      0.349733   \n",
       "\n",
       "      Training_Hours  Department  Annual_Bonus_Squared  \\\n",
       "12          0.135993    0.485160              0.919607   \n",
       "538         0.701336    0.705275              0.023555   \n",
       "171         0.575397    0.467109              0.188688   \n",
       "596         0.920129    0.627113              0.442390   \n",
       "1237        0.442130    0.037098              0.122313   \n",
       "\n",
       "      Annual_Bonus_Training_Hours_Interaction  \n",
       "12                                   0.130412  \n",
       "538                                  0.107638  \n",
       "171                                  0.249942  \n",
       "596                                  0.612000  \n",
       "1237                                 0.154627  "
      ]
     },
     "execution_count": 22,
     "metadata": {},
     "output_type": "execute_result"
    }
   ],
   "source": [
    "X_train.head()"
   ]
  },
  {
   "cell_type": "code",
   "execution_count": 23,
   "id": "fd97ffc4",
   "metadata": {},
   "outputs": [
    {
     "data": {
      "text/plain": [
       "12      1\n",
       "538     1\n",
       "171     1\n",
       "596     0\n",
       "1237    1\n",
       "       ..\n",
       "1095    1\n",
       "1130    1\n",
       "1294    1\n",
       "860     1\n",
       "1126    1\n",
       "Name: Employee_Turnover, Length: 945, dtype: int64"
      ]
     },
     "execution_count": 23,
     "metadata": {},
     "output_type": "execute_result"
    }
   ],
   "source": [
    "y_train"
   ]
  },
  {
   "cell_type": "code",
   "execution_count": null,
   "id": "8991626d",
   "metadata": {
    "deletable": false,
    "editable": false,
    "nbgrader": {
     "cell_type": "code",
     "checksum": "7a43770f542e16ef5d4aaea487b3be2a",
     "grade": true,
     "grade_id": "cell-8c9cafaf142f65ef",
     "locked": true,
     "points": 2,
     "schema_version": 3,
     "solution": false,
     "task": false
    }
   },
   "outputs": [],
   "source": []
  },
  {
   "cell_type": "markdown",
   "id": "7fc797ce",
   "metadata": {
    "deletable": false,
    "editable": false,
    "nbgrader": {
     "cell_type": "markdown",
     "checksum": "94e99c9507f0982b3be4dab8c003cf4d",
     "grade": false,
     "grade_id": "cell-a51867a28122047f",
     "locked": true,
     "schema_version": 3,
     "solution": false,
     "task": false
    }
   },
   "source": [
    "# Apply Logistic Regression without Regularization \n"
   ]
  },
  {
   "cell_type": "markdown",
   "id": "f93c2113",
   "metadata": {
    "deletable": false,
    "editable": false,
    "nbgrader": {
     "cell_type": "markdown",
     "checksum": "56f4981a54a414515bcc7e07f21f4aa1",
     "grade": false,
     "grade_id": "cell-e8e2749eeb4a0abc",
     "locked": true,
     "schema_version": 3,
     "solution": false,
     "task": false
    }
   },
   "source": [
    "After training, it's time to fit our model in 'logistic_no_reg'. First we will be evaluating the base model. Meaning this model will have no regularization. Let the max_iterations be 10000 and n_jobs is -1."
   ]
  },
  {
   "cell_type": "code",
   "execution_count": 28,
   "id": "617a0cf2",
   "metadata": {
    "deletable": false,
    "nbgrader": {
     "cell_type": "code",
     "checksum": "b807582b48b3ecd67c47dc062e862ae2",
     "grade": false,
     "grade_id": "cell-81d2a60af1e476f9",
     "locked": false,
     "schema_version": 3,
     "solution": true,
     "task": false
    }
   },
   "outputs": [
    {
     "data": {
      "text/html": [
       "<style>#sk-container-id-2 {color: black;background-color: white;}#sk-container-id-2 pre{padding: 0;}#sk-container-id-2 div.sk-toggleable {background-color: white;}#sk-container-id-2 label.sk-toggleable__label {cursor: pointer;display: block;width: 100%;margin-bottom: 0;padding: 0.3em;box-sizing: border-box;text-align: center;}#sk-container-id-2 label.sk-toggleable__label-arrow:before {content: \"▸\";float: left;margin-right: 0.25em;color: #696969;}#sk-container-id-2 label.sk-toggleable__label-arrow:hover:before {color: black;}#sk-container-id-2 div.sk-estimator:hover label.sk-toggleable__label-arrow:before {color: black;}#sk-container-id-2 div.sk-toggleable__content {max-height: 0;max-width: 0;overflow: hidden;text-align: left;background-color: #f0f8ff;}#sk-container-id-2 div.sk-toggleable__content pre {margin: 0.2em;color: black;border-radius: 0.25em;background-color: #f0f8ff;}#sk-container-id-2 input.sk-toggleable__control:checked~div.sk-toggleable__content {max-height: 200px;max-width: 100%;overflow: auto;}#sk-container-id-2 input.sk-toggleable__control:checked~label.sk-toggleable__label-arrow:before {content: \"▾\";}#sk-container-id-2 div.sk-estimator input.sk-toggleable__control:checked~label.sk-toggleable__label {background-color: #d4ebff;}#sk-container-id-2 div.sk-label input.sk-toggleable__control:checked~label.sk-toggleable__label {background-color: #d4ebff;}#sk-container-id-2 input.sk-hidden--visually {border: 0;clip: rect(1px 1px 1px 1px);clip: rect(1px, 1px, 1px, 1px);height: 1px;margin: -1px;overflow: hidden;padding: 0;position: absolute;width: 1px;}#sk-container-id-2 div.sk-estimator {font-family: monospace;background-color: #f0f8ff;border: 1px dotted black;border-radius: 0.25em;box-sizing: border-box;margin-bottom: 0.5em;}#sk-container-id-2 div.sk-estimator:hover {background-color: #d4ebff;}#sk-container-id-2 div.sk-parallel-item::after {content: \"\";width: 100%;border-bottom: 1px solid gray;flex-grow: 1;}#sk-container-id-2 div.sk-label:hover label.sk-toggleable__label {background-color: #d4ebff;}#sk-container-id-2 div.sk-serial::before {content: \"\";position: absolute;border-left: 1px solid gray;box-sizing: border-box;top: 0;bottom: 0;left: 50%;z-index: 0;}#sk-container-id-2 div.sk-serial {display: flex;flex-direction: column;align-items: center;background-color: white;padding-right: 0.2em;padding-left: 0.2em;position: relative;}#sk-container-id-2 div.sk-item {position: relative;z-index: 1;}#sk-container-id-2 div.sk-parallel {display: flex;align-items: stretch;justify-content: center;background-color: white;position: relative;}#sk-container-id-2 div.sk-item::before, #sk-container-id-2 div.sk-parallel-item::before {content: \"\";position: absolute;border-left: 1px solid gray;box-sizing: border-box;top: 0;bottom: 0;left: 50%;z-index: -1;}#sk-container-id-2 div.sk-parallel-item {display: flex;flex-direction: column;z-index: 1;position: relative;background-color: white;}#sk-container-id-2 div.sk-parallel-item:first-child::after {align-self: flex-end;width: 50%;}#sk-container-id-2 div.sk-parallel-item:last-child::after {align-self: flex-start;width: 50%;}#sk-container-id-2 div.sk-parallel-item:only-child::after {width: 0;}#sk-container-id-2 div.sk-dashed-wrapped {border: 1px dashed gray;margin: 0 0.4em 0.5em 0.4em;box-sizing: border-box;padding-bottom: 0.4em;background-color: white;}#sk-container-id-2 div.sk-label label {font-family: monospace;font-weight: bold;display: inline-block;line-height: 1.2em;}#sk-container-id-2 div.sk-label-container {text-align: center;}#sk-container-id-2 div.sk-container {/* jupyter's `normalize.less` sets `[hidden] { display: none; }` but bootstrap.min.css set `[hidden] { display: none !important; }` so we also need the `!important` here to be able to override the default hidden behavior on the sphinx rendered scikit-learn.org. See: https://github.com/scikit-learn/scikit-learn/issues/21755 */display: inline-block !important;position: relative;}#sk-container-id-2 div.sk-text-repr-fallback {display: none;}</style><div id=\"sk-container-id-2\" class=\"sk-top-container\"><div class=\"sk-text-repr-fallback\"><pre>LogisticRegression(max_iter=10000, n_jobs=-1, penalty=&#x27;none&#x27;)</pre><b>In a Jupyter environment, please rerun this cell to show the HTML representation or trust the notebook. <br />On GitHub, the HTML representation is unable to render, please try loading this page with nbviewer.org.</b></div><div class=\"sk-container\" hidden><div class=\"sk-item\"><div class=\"sk-estimator sk-toggleable\"><input class=\"sk-toggleable__control sk-hidden--visually\" id=\"sk-estimator-id-2\" type=\"checkbox\" checked><label for=\"sk-estimator-id-2\" class=\"sk-toggleable__label sk-toggleable__label-arrow\">LogisticRegression</label><div class=\"sk-toggleable__content\"><pre>LogisticRegression(max_iter=10000, n_jobs=-1, penalty=&#x27;none&#x27;)</pre></div></div></div></div></div>"
      ],
      "text/plain": [
       "LogisticRegression(max_iter=10000, n_jobs=-1, penalty='none')"
      ]
     },
     "execution_count": 28,
     "metadata": {},
     "output_type": "execute_result"
    }
   ],
   "source": [
    "# Logistic regression without regularization\n",
    "# Write your code below\n",
    "# your code here\n",
    "# raise NotImplementedError\n",
    "\n",
    "logistic_no_reg.fit(X_train,y_train)"
   ]
  },
  {
   "cell_type": "code",
   "execution_count": 29,
   "id": "7c5cf5a6",
   "metadata": {
    "deletable": false,
    "editable": false,
    "nbgrader": {
     "cell_type": "code",
     "checksum": "ee943ebd0e63f01b00bbeca9b74878f3",
     "grade": false,
     "grade_id": "cell-9dae3a69e7162e4e",
     "locked": true,
     "schema_version": 3,
     "solution": false,
     "task": false
    }
   },
   "outputs": [
    {
     "name": "stdout",
     "output_type": "stream",
     "text": [
      "F1 Score without Regularization: 0.8667366211962225\n"
     ]
    }
   ],
   "source": [
    "# Evaluate the model without regularization for train data\n",
    "y_train_pred_no_reg = logistic_no_reg.predict(X_train)\n",
    "f1_no_reg_train = f1_score(y_train, y_train_pred_no_reg)\n",
    "print(\"F1 Score without Regularization:\", f1_no_reg_train)"
   ]
  },
  {
   "cell_type": "code",
   "execution_count": 30,
   "id": "677c6e3d",
   "metadata": {
    "deletable": false,
    "editable": false,
    "nbgrader": {
     "cell_type": "code",
     "checksum": "c3e72bf26f7fa3be9251afedb97808ce",
     "grade": false,
     "grade_id": "cell-b08c336649109f53",
     "locked": true,
     "schema_version": 3,
     "solution": false,
     "task": false
    }
   },
   "outputs": [
    {
     "name": "stdout",
     "output_type": "stream",
     "text": [
      "F1 Score without Regularization: 0.8541666666666667\n"
     ]
    }
   ],
   "source": [
    "# Evaluate the model without regularization for train data\n",
    "y_test_pred_no_reg = logistic_no_reg.predict(X_test)\n",
    "f1_no_reg_test = f1_score(y_test, y_test_pred_no_reg)\n",
    "print(\"F1 Score without Regularization:\", f1_no_reg_test)"
   ]
  },
  {
   "cell_type": "code",
   "execution_count": 31,
   "id": "d9b170f5",
   "metadata": {
    "deletable": false,
    "editable": false,
    "nbgrader": {
     "cell_type": "code",
     "checksum": "20154ab8fe7dce9fa95fdd243cc2482e",
     "grade": true,
     "grade_id": "cell-df0eb80164d3215e",
     "locked": true,
     "points": 2,
     "schema_version": 3,
     "solution": false,
     "task": false
    }
   },
   "outputs": [],
   "source": [
    "assert f1_no_reg_train > 0.86, \"F1 score for train data does not match the expected value\"\n",
    "assert f1_no_reg_test > 0.84, \"F1 score for test data does not match the expected value\""
   ]
  },
  {
   "cell_type": "markdown",
   "id": "458b360b",
   "metadata": {
    "deletable": false,
    "editable": false,
    "nbgrader": {
     "cell_type": "markdown",
     "checksum": "dcc88713a50f2cf87bfdb7fb467ca25b",
     "grade": false,
     "grade_id": "cell-296595a79d03091b",
     "locked": true,
     "schema_version": 3,
     "solution": false,
     "task": false
    }
   },
   "source": [
    "\n",
    "Lets move forward and apply L1 regularization for automatic feature selection"
   ]
  },
  {
   "cell_type": "markdown",
   "id": "17b516f9",
   "metadata": {
    "deletable": false,
    "editable": false,
    "nbgrader": {
     "cell_type": "markdown",
     "checksum": "46eb7ff3633e01a9db7144338c3ff108",
     "grade": false,
     "grade_id": "cell-09fcef5cc64f01e8",
     "locked": true,
     "schema_version": 3,
     "solution": false,
     "task": false
    }
   },
   "source": [
    "# Apply Logistic Regression with L1 Regularization \n",
    "\n",
    "It's time to fit our model in 'logistic_l1_cv'."
   ]
  },
  {
   "cell_type": "code",
   "execution_count": 34,
   "id": "bd0112ff",
   "metadata": {
    "deletable": false,
    "editable": false,
    "nbgrader": {
     "cell_type": "code",
     "checksum": "2c4a14d835250609ce97e54a15e6d32b",
     "grade": false,
     "grade_id": "cell-1b121a6dc2ad98bc",
     "locked": true,
     "schema_version": 3,
     "solution": false,
     "task": false
    }
   },
   "outputs": [],
   "source": [
    "# Definig a range for Cs\n",
    "Cs = np.linspace(0.001,10,20)"
   ]
  },
  {
   "cell_type": "code",
   "execution_count": 37,
   "id": "6541f98f",
   "metadata": {
    "deletable": false,
    "nbgrader": {
     "cell_type": "code",
     "checksum": "16d6b03cdda5fe8bddf429b35b36ce55",
     "grade": false,
     "grade_id": "cell-bec636a2e0fc537f",
     "locked": false,
     "schema_version": 3,
     "solution": true,
     "task": false
    }
   },
   "outputs": [
    {
     "data": {
      "text/html": [
       "<style>#sk-container-id-3 {color: black;background-color: white;}#sk-container-id-3 pre{padding: 0;}#sk-container-id-3 div.sk-toggleable {background-color: white;}#sk-container-id-3 label.sk-toggleable__label {cursor: pointer;display: block;width: 100%;margin-bottom: 0;padding: 0.3em;box-sizing: border-box;text-align: center;}#sk-container-id-3 label.sk-toggleable__label-arrow:before {content: \"▸\";float: left;margin-right: 0.25em;color: #696969;}#sk-container-id-3 label.sk-toggleable__label-arrow:hover:before {color: black;}#sk-container-id-3 div.sk-estimator:hover label.sk-toggleable__label-arrow:before {color: black;}#sk-container-id-3 div.sk-toggleable__content {max-height: 0;max-width: 0;overflow: hidden;text-align: left;background-color: #f0f8ff;}#sk-container-id-3 div.sk-toggleable__content pre {margin: 0.2em;color: black;border-radius: 0.25em;background-color: #f0f8ff;}#sk-container-id-3 input.sk-toggleable__control:checked~div.sk-toggleable__content {max-height: 200px;max-width: 100%;overflow: auto;}#sk-container-id-3 input.sk-toggleable__control:checked~label.sk-toggleable__label-arrow:before {content: \"▾\";}#sk-container-id-3 div.sk-estimator input.sk-toggleable__control:checked~label.sk-toggleable__label {background-color: #d4ebff;}#sk-container-id-3 div.sk-label input.sk-toggleable__control:checked~label.sk-toggleable__label {background-color: #d4ebff;}#sk-container-id-3 input.sk-hidden--visually {border: 0;clip: rect(1px 1px 1px 1px);clip: rect(1px, 1px, 1px, 1px);height: 1px;margin: -1px;overflow: hidden;padding: 0;position: absolute;width: 1px;}#sk-container-id-3 div.sk-estimator {font-family: monospace;background-color: #f0f8ff;border: 1px dotted black;border-radius: 0.25em;box-sizing: border-box;margin-bottom: 0.5em;}#sk-container-id-3 div.sk-estimator:hover {background-color: #d4ebff;}#sk-container-id-3 div.sk-parallel-item::after {content: \"\";width: 100%;border-bottom: 1px solid gray;flex-grow: 1;}#sk-container-id-3 div.sk-label:hover label.sk-toggleable__label {background-color: #d4ebff;}#sk-container-id-3 div.sk-serial::before {content: \"\";position: absolute;border-left: 1px solid gray;box-sizing: border-box;top: 0;bottom: 0;left: 50%;z-index: 0;}#sk-container-id-3 div.sk-serial {display: flex;flex-direction: column;align-items: center;background-color: white;padding-right: 0.2em;padding-left: 0.2em;position: relative;}#sk-container-id-3 div.sk-item {position: relative;z-index: 1;}#sk-container-id-3 div.sk-parallel {display: flex;align-items: stretch;justify-content: center;background-color: white;position: relative;}#sk-container-id-3 div.sk-item::before, #sk-container-id-3 div.sk-parallel-item::before {content: \"\";position: absolute;border-left: 1px solid gray;box-sizing: border-box;top: 0;bottom: 0;left: 50%;z-index: -1;}#sk-container-id-3 div.sk-parallel-item {display: flex;flex-direction: column;z-index: 1;position: relative;background-color: white;}#sk-container-id-3 div.sk-parallel-item:first-child::after {align-self: flex-end;width: 50%;}#sk-container-id-3 div.sk-parallel-item:last-child::after {align-self: flex-start;width: 50%;}#sk-container-id-3 div.sk-parallel-item:only-child::after {width: 0;}#sk-container-id-3 div.sk-dashed-wrapped {border: 1px dashed gray;margin: 0 0.4em 0.5em 0.4em;box-sizing: border-box;padding-bottom: 0.4em;background-color: white;}#sk-container-id-3 div.sk-label label {font-family: monospace;font-weight: bold;display: inline-block;line-height: 1.2em;}#sk-container-id-3 div.sk-label-container {text-align: center;}#sk-container-id-3 div.sk-container {/* jupyter's `normalize.less` sets `[hidden] { display: none; }` but bootstrap.min.css set `[hidden] { display: none !important; }` so we also need the `!important` here to be able to override the default hidden behavior on the sphinx rendered scikit-learn.org. See: https://github.com/scikit-learn/scikit-learn/issues/21755 */display: inline-block !important;position: relative;}#sk-container-id-3 div.sk-text-repr-fallback {display: none;}</style><div id=\"sk-container-id-3\" class=\"sk-top-container\"><div class=\"sk-text-repr-fallback\"><pre>LogisticRegressionCV(Cs=array([1.00000000e-03, 5.27263158e-01, 1.05352632e+00, 1.57978947e+00,\n",
       "       2.10605263e+00, 2.63231579e+00, 3.15857895e+00, 3.68484211e+00,\n",
       "       4.21110526e+00, 4.73736842e+00, 5.26363158e+00, 5.78989474e+00,\n",
       "       6.31615789e+00, 6.84242105e+00, 7.36868421e+00, 7.89494737e+00,\n",
       "       8.42121053e+00, 8.94747368e+00, 9.47373684e+00, 1.00000000e+01]),\n",
       "                     cv=5, max_iter=10000, n_jobs=-1, penalty=&#x27;l1&#x27;,\n",
       "                     scoring=&#x27;f1&#x27;, solver=&#x27;liblinear&#x27;)</pre><b>In a Jupyter environment, please rerun this cell to show the HTML representation or trust the notebook. <br />On GitHub, the HTML representation is unable to render, please try loading this page with nbviewer.org.</b></div><div class=\"sk-container\" hidden><div class=\"sk-item\"><div class=\"sk-estimator sk-toggleable\"><input class=\"sk-toggleable__control sk-hidden--visually\" id=\"sk-estimator-id-3\" type=\"checkbox\" checked><label for=\"sk-estimator-id-3\" class=\"sk-toggleable__label sk-toggleable__label-arrow\">LogisticRegressionCV</label><div class=\"sk-toggleable__content\"><pre>LogisticRegressionCV(Cs=array([1.00000000e-03, 5.27263158e-01, 1.05352632e+00, 1.57978947e+00,\n",
       "       2.10605263e+00, 2.63231579e+00, 3.15857895e+00, 3.68484211e+00,\n",
       "       4.21110526e+00, 4.73736842e+00, 5.26363158e+00, 5.78989474e+00,\n",
       "       6.31615789e+00, 6.84242105e+00, 7.36868421e+00, 7.89494737e+00,\n",
       "       8.42121053e+00, 8.94747368e+00, 9.47373684e+00, 1.00000000e+01]),\n",
       "                     cv=5, max_iter=10000, n_jobs=-1, penalty=&#x27;l1&#x27;,\n",
       "                     scoring=&#x27;f1&#x27;, solver=&#x27;liblinear&#x27;)</pre></div></div></div></div></div>"
      ],
      "text/plain": [
       "LogisticRegressionCV(Cs=array([1.00000000e-03, 5.27263158e-01, 1.05352632e+00, 1.57978947e+00,\n",
       "       2.10605263e+00, 2.63231579e+00, 3.15857895e+00, 3.68484211e+00,\n",
       "       4.21110526e+00, 4.73736842e+00, 5.26363158e+00, 5.78989474e+00,\n",
       "       6.31615789e+00, 6.84242105e+00, 7.36868421e+00, 7.89494737e+00,\n",
       "       8.42121053e+00, 8.94747368e+00, 9.47373684e+00, 1.00000000e+01]),\n",
       "                     cv=5, max_iter=10000, n_jobs=-1, penalty='l1',\n",
       "                     scoring='f1', solver='liblinear')"
      ]
     },
     "execution_count": 37,
     "metadata": {},
     "output_type": "execute_result"
    }
   ],
   "source": [
    "# Logistic regression with L1 regularization using cross-validation to find the best C\n",
    "# Write your code below\n",
    "# your code here\n",
    "# raise NotImplementedError\n",
    "logistic_l1_cv = LogisticRegressionCV(Cs=Cs,\n",
    "                                    penalty='l1',\n",
    "                                    solver='liblinear',\n",
    "                                    cv=5,\n",
    "                                    max_iter=10000,\n",
    "                                    scoring='f1',\n",
    "                                    n_jobs=-1)\n",
    "logistic_l1_cv.fit(X_train,y_train)"
   ]
  },
  {
   "cell_type": "markdown",
   "id": "820d23d9",
   "metadata": {
    "deletable": false,
    "editable": false,
    "nbgrader": {
     "cell_type": "markdown",
     "checksum": "8eaa5ebc301c8a123530a2b9f185b05c",
     "grade": false,
     "grade_id": "cell-fff2d8d813bc0523",
     "locked": true,
     "schema_version": 3,
     "solution": false,
     "task": false
    }
   },
   "source": [
    "### Lets now examine the Regularization Strengths"
   ]
  },
  {
   "cell_type": "code",
   "execution_count": 38,
   "id": "5acf1ca4",
   "metadata": {
    "deletable": false,
    "editable": false,
    "nbgrader": {
     "cell_type": "code",
     "checksum": "ed8641c3d9b4b81b2cfe730284847b1a",
     "grade": false,
     "grade_id": "cell-539835eef3f56444",
     "locked": true,
     "schema_version": 3,
     "solution": false,
     "task": false
    }
   },
   "outputs": [
    {
     "data": {
      "text/plain": [
       "array([1.00000000e-03, 5.27263158e-01, 1.05352632e+00, 1.57978947e+00,\n",
       "       2.10605263e+00, 2.63231579e+00, 3.15857895e+00, 3.68484211e+00,\n",
       "       4.21110526e+00, 4.73736842e+00, 5.26363158e+00, 5.78989474e+00,\n",
       "       6.31615789e+00, 6.84242105e+00, 7.36868421e+00, 7.89494737e+00,\n",
       "       8.42121053e+00, 8.94747368e+00, 9.47373684e+00, 1.00000000e+01])"
      ]
     },
     "execution_count": 38,
     "metadata": {},
     "output_type": "execute_result"
    }
   ],
   "source": [
    "logistic_l1_cv.Cs_"
   ]
  },
  {
   "cell_type": "code",
   "execution_count": 39,
   "id": "3929ac22",
   "metadata": {
    "deletable": false,
    "editable": false,
    "nbgrader": {
     "cell_type": "code",
     "checksum": "fef57b94c097274368a3d73d03bdbe92",
     "grade": false,
     "grade_id": "cell-b0a671c5e00816c2",
     "locked": true,
     "schema_version": 3,
     "solution": false,
     "task": false
    }
   },
   "outputs": [
    {
     "name": "stdout",
     "output_type": "stream",
     "text": [
      "The best Cs value is: [1.57978947]\n"
     ]
    }
   ],
   "source": [
    "best_C = logistic_l1_cv.C_\n",
    "print(f\"The best Cs value is: {best_C}\")"
   ]
  },
  {
   "cell_type": "markdown",
   "id": "a8db17ae",
   "metadata": {
    "deletable": false,
    "editable": false,
    "nbgrader": {
     "cell_type": "markdown",
     "checksum": "bd58bd1244fbc8f2d53bdf340de6a7bc",
     "grade": false,
     "grade_id": "cell-9f9563e3265f557c",
     "locked": true,
     "schema_version": 3,
     "solution": false,
     "task": false
    }
   },
   "source": [
    "## We can see that the peak comes at 1.57"
   ]
  },
  {
   "cell_type": "markdown",
   "id": "543d054d",
   "metadata": {
    "deletable": false,
    "editable": false,
    "nbgrader": {
     "cell_type": "markdown",
     "checksum": "276e962575521eac658aa05a55a9c9ee",
     "grade": false,
     "grade_id": "cell-1d44f3d73ba585a2",
     "locked": true,
     "schema_version": 3,
     "solution": false,
     "task": false
    }
   },
   "source": [
    "Next apply Logistic regression with L1 regularization in 'logistic_l1_cv' using cross-validation(cv=5), and peak value 0.35 for C value.\n",
    "Penalty would remain L1, solver would be liblinear and max_iter=10000"
   ]
  },
  {
   "cell_type": "code",
   "execution_count": 40,
   "id": "1d3ec1c8",
   "metadata": {},
   "outputs": [
    {
     "data": {
      "text/plain": [
       "array([1.00000000e-03, 5.27263158e-01, 1.05352632e+00, 1.57978947e+00,\n",
       "       2.10605263e+00, 2.63231579e+00, 3.15857895e+00, 3.68484211e+00,\n",
       "       4.21110526e+00, 4.73736842e+00, 5.26363158e+00, 5.78989474e+00,\n",
       "       6.31615789e+00, 6.84242105e+00, 7.36868421e+00, 7.89494737e+00,\n",
       "       8.42121053e+00, 8.94747368e+00, 9.47373684e+00, 1.00000000e+01])"
      ]
     },
     "execution_count": 40,
     "metadata": {},
     "output_type": "execute_result"
    }
   ],
   "source": [
    "Cs"
   ]
  },
  {
   "cell_type": "code",
   "execution_count": 42,
   "id": "7dbe1348",
   "metadata": {
    "deletable": false,
    "nbgrader": {
     "cell_type": "code",
     "checksum": "61d2c4b9613fcb795bcea47f392480f7",
     "grade": false,
     "grade_id": "cell-b4b742b5373ad0e2",
     "locked": false,
     "schema_version": 3,
     "solution": true,
     "task": false
    }
   },
   "outputs": [
    {
     "data": {
      "text/html": [
       "<style>#sk-container-id-4 {color: black;background-color: white;}#sk-container-id-4 pre{padding: 0;}#sk-container-id-4 div.sk-toggleable {background-color: white;}#sk-container-id-4 label.sk-toggleable__label {cursor: pointer;display: block;width: 100%;margin-bottom: 0;padding: 0.3em;box-sizing: border-box;text-align: center;}#sk-container-id-4 label.sk-toggleable__label-arrow:before {content: \"▸\";float: left;margin-right: 0.25em;color: #696969;}#sk-container-id-4 label.sk-toggleable__label-arrow:hover:before {color: black;}#sk-container-id-4 div.sk-estimator:hover label.sk-toggleable__label-arrow:before {color: black;}#sk-container-id-4 div.sk-toggleable__content {max-height: 0;max-width: 0;overflow: hidden;text-align: left;background-color: #f0f8ff;}#sk-container-id-4 div.sk-toggleable__content pre {margin: 0.2em;color: black;border-radius: 0.25em;background-color: #f0f8ff;}#sk-container-id-4 input.sk-toggleable__control:checked~div.sk-toggleable__content {max-height: 200px;max-width: 100%;overflow: auto;}#sk-container-id-4 input.sk-toggleable__control:checked~label.sk-toggleable__label-arrow:before {content: \"▾\";}#sk-container-id-4 div.sk-estimator input.sk-toggleable__control:checked~label.sk-toggleable__label {background-color: #d4ebff;}#sk-container-id-4 div.sk-label input.sk-toggleable__control:checked~label.sk-toggleable__label {background-color: #d4ebff;}#sk-container-id-4 input.sk-hidden--visually {border: 0;clip: rect(1px 1px 1px 1px);clip: rect(1px, 1px, 1px, 1px);height: 1px;margin: -1px;overflow: hidden;padding: 0;position: absolute;width: 1px;}#sk-container-id-4 div.sk-estimator {font-family: monospace;background-color: #f0f8ff;border: 1px dotted black;border-radius: 0.25em;box-sizing: border-box;margin-bottom: 0.5em;}#sk-container-id-4 div.sk-estimator:hover {background-color: #d4ebff;}#sk-container-id-4 div.sk-parallel-item::after {content: \"\";width: 100%;border-bottom: 1px solid gray;flex-grow: 1;}#sk-container-id-4 div.sk-label:hover label.sk-toggleable__label {background-color: #d4ebff;}#sk-container-id-4 div.sk-serial::before {content: \"\";position: absolute;border-left: 1px solid gray;box-sizing: border-box;top: 0;bottom: 0;left: 50%;z-index: 0;}#sk-container-id-4 div.sk-serial {display: flex;flex-direction: column;align-items: center;background-color: white;padding-right: 0.2em;padding-left: 0.2em;position: relative;}#sk-container-id-4 div.sk-item {position: relative;z-index: 1;}#sk-container-id-4 div.sk-parallel {display: flex;align-items: stretch;justify-content: center;background-color: white;position: relative;}#sk-container-id-4 div.sk-item::before, #sk-container-id-4 div.sk-parallel-item::before {content: \"\";position: absolute;border-left: 1px solid gray;box-sizing: border-box;top: 0;bottom: 0;left: 50%;z-index: -1;}#sk-container-id-4 div.sk-parallel-item {display: flex;flex-direction: column;z-index: 1;position: relative;background-color: white;}#sk-container-id-4 div.sk-parallel-item:first-child::after {align-self: flex-end;width: 50%;}#sk-container-id-4 div.sk-parallel-item:last-child::after {align-self: flex-start;width: 50%;}#sk-container-id-4 div.sk-parallel-item:only-child::after {width: 0;}#sk-container-id-4 div.sk-dashed-wrapped {border: 1px dashed gray;margin: 0 0.4em 0.5em 0.4em;box-sizing: border-box;padding-bottom: 0.4em;background-color: white;}#sk-container-id-4 div.sk-label label {font-family: monospace;font-weight: bold;display: inline-block;line-height: 1.2em;}#sk-container-id-4 div.sk-label-container {text-align: center;}#sk-container-id-4 div.sk-container {/* jupyter's `normalize.less` sets `[hidden] { display: none; }` but bootstrap.min.css set `[hidden] { display: none !important; }` so we also need the `!important` here to be able to override the default hidden behavior on the sphinx rendered scikit-learn.org. See: https://github.com/scikit-learn/scikit-learn/issues/21755 */display: inline-block !important;position: relative;}#sk-container-id-4 div.sk-text-repr-fallback {display: none;}</style><div id=\"sk-container-id-4\" class=\"sk-top-container\"><div class=\"sk-text-repr-fallback\"><pre>LogisticRegressionCV(Cs=[0.35], cv=5, max_iter=10000, n_jobs=-1, penalty=&#x27;l1&#x27;,\n",
       "                     scoring=&#x27;f1&#x27;, solver=&#x27;liblinear&#x27;)</pre><b>In a Jupyter environment, please rerun this cell to show the HTML representation or trust the notebook. <br />On GitHub, the HTML representation is unable to render, please try loading this page with nbviewer.org.</b></div><div class=\"sk-container\" hidden><div class=\"sk-item\"><div class=\"sk-estimator sk-toggleable\"><input class=\"sk-toggleable__control sk-hidden--visually\" id=\"sk-estimator-id-4\" type=\"checkbox\" checked><label for=\"sk-estimator-id-4\" class=\"sk-toggleable__label sk-toggleable__label-arrow\">LogisticRegressionCV</label><div class=\"sk-toggleable__content\"><pre>LogisticRegressionCV(Cs=[0.35], cv=5, max_iter=10000, n_jobs=-1, penalty=&#x27;l1&#x27;,\n",
       "                     scoring=&#x27;f1&#x27;, solver=&#x27;liblinear&#x27;)</pre></div></div></div></div></div>"
      ],
      "text/plain": [
       "LogisticRegressionCV(Cs=[0.35], cv=5, max_iter=10000, n_jobs=-1, penalty='l1',\n",
       "                     scoring='f1', solver='liblinear')"
      ]
     },
     "execution_count": 42,
     "metadata": {},
     "output_type": "execute_result"
    }
   ],
   "source": [
    "# Logistic regression with L1 regularization using cross-validation\n",
    "# Write your code below\n",
    "# your code here\n",
    "# raise NotImplementedError\n",
    "logistic_l1_cv = LogisticRegressionCV(Cs=[0.35],\n",
    "                                    penalty='l1',\n",
    "                                    solver='liblinear',\n",
    "                                    cv=5,\n",
    "                                    max_iter=10000,\n",
    "                                    scoring='f1',\n",
    "                                    n_jobs=-1)\n",
    "logistic_l1_cv.fit(X_train,y_train)"
   ]
  },
  {
   "cell_type": "code",
   "execution_count": 46,
   "id": "ed22ed88",
   "metadata": {
    "deletable": false,
    "editable": false,
    "nbgrader": {
     "cell_type": "code",
     "checksum": "f3e7241d9d2e6e9d6888a24e3c429bfa",
     "grade": false,
     "grade_id": "cell-12bc8bc8d4b78308",
     "locked": true,
     "schema_version": 3,
     "solution": false,
     "task": false
    }
   },
   "outputs": [
    {
     "name": "stdout",
     "output_type": "stream",
     "text": [
      "F1 Score with L1 Regularization on train data : 0.8709338929695698\n"
     ]
    }
   ],
   "source": [
    "# Evaluate the model with L1 regularization on train data\n",
    "y_train_pred_l1 = logistic_l1_cv.predict(X_train)\n",
    "f1_l1_train = f1_score(y_train, y_train_pred_l1)\n",
    "print(\"F1 Score with L1 Regularization on train data :\", f1_l1_train)"
   ]
  },
  {
   "cell_type": "code",
   "execution_count": 47,
   "id": "51d7fb5a",
   "metadata": {
    "deletable": false,
    "editable": false,
    "nbgrader": {
     "cell_type": "code",
     "checksum": "f5c4b405fc5461390bd04a2dfec2b148",
     "grade": false,
     "grade_id": "cell-03e387c1d377ab95",
     "locked": true,
     "schema_version": 3,
     "solution": false,
     "task": false
    }
   },
   "outputs": [
    {
     "name": "stdout",
     "output_type": "stream",
     "text": [
      "F1 Score with L1 Regularization on test data : 0.8398950131233597\n"
     ]
    }
   ],
   "source": [
    "# Evaluate the model with L1 regularization on train data\n",
    "y_test_pred_l1 = logistic_l1_cv.predict(X_test)\n",
    "f1_l1_test = f1_score(y_test, y_test_pred_l1)\n",
    "print(\"F1 Score with L1 Regularization on test data :\", f1_l1_test)"
   ]
  },
  {
   "cell_type": "code",
   "execution_count": 45,
   "id": "b4a79983",
   "metadata": {
    "deletable": false,
    "editable": false,
    "nbgrader": {
     "cell_type": "code",
     "checksum": "8c0c2047b6aa7872392d7d316704b5de",
     "grade": true,
     "grade_id": "cell-c563e282f9e0f1e7",
     "locked": true,
     "points": 3,
     "schema_version": 3,
     "solution": false,
     "task": false
    }
   },
   "outputs": [
    {
     "ename": "AssertionError",
     "evalue": "F1 score for test data does not match the expected value",
     "output_type": "error",
     "traceback": [
      "\u001b[0;31m---------------------------------------------------------------------------\u001b[0m",
      "\u001b[0;31mAssertionError\u001b[0m                            Traceback (most recent call last)",
      "Cell \u001b[0;32mIn[45], line 2\u001b[0m\n\u001b[1;32m      1\u001b[0m \u001b[38;5;28;01massert\u001b[39;00m f1_l1_train \u001b[38;5;241m>\u001b[39m \u001b[38;5;241m0.87\u001b[39m, \u001b[38;5;124m\"\u001b[39m\u001b[38;5;124mF1 score for train data does not match the expected value\u001b[39m\u001b[38;5;124m\"\u001b[39m\n\u001b[0;32m----> 2\u001b[0m \u001b[38;5;28;01massert\u001b[39;00m f1_l1_test \u001b[38;5;241m>\u001b[39m \u001b[38;5;241m0.85\u001b[39m, \u001b[38;5;124m\"\u001b[39m\u001b[38;5;124mF1 score for test data does not match the expected value\u001b[39m\u001b[38;5;124m\"\u001b[39m\n",
      "\u001b[0;31mAssertionError\u001b[0m: F1 score for test data does not match the expected value"
     ]
    }
   ],
   "source": [
    "assert f1_l1_train > 0.87, \"F1 score for train data does not match the expected value\"\n",
    "assert f1_l1_test > 0.85, \"F1 score for test data does not match the expected value\""
   ]
  },
  {
   "cell_type": "markdown",
   "id": "3b3f8a62",
   "metadata": {
    "deletable": false,
    "editable": false,
    "nbgrader": {
     "cell_type": "markdown",
     "checksum": "194a740253a51bdc0548c29d51dcf71a",
     "grade": false,
     "grade_id": "cell-ca7b99463637bba4",
     "locked": true,
     "schema_version": 3,
     "solution": false,
     "task": false
    }
   },
   "source": [
    "An F1 score of around 0.871 for the training set and 0.840 for the test set with L1 regularization suggests that your logistic regression model performs well.\n",
    "\n",
    "The model not only fits the training data well but also generalizes adequately to new, unseen data. The use of L1 regularization seems to have helped in maintaining this balance, potentially by eliminating irrelevant features and reducing overfitting."
   ]
  },
  {
   "cell_type": "markdown",
   "id": "82e1811a",
   "metadata": {
    "deletable": false,
    "editable": false,
    "nbgrader": {
     "cell_type": "markdown",
     "checksum": "82ae061c8e8a63a6148b89c816aab576",
     "grade": false,
     "grade_id": "cell-098972ed5b2a3361",
     "locked": true,
     "schema_version": 3,
     "solution": false,
     "task": false
    }
   },
   "source": [
    "# Apply Logistic Regression with L2 Regularization on train data\n",
    "\n",
    "Next apply Logistic regression with L2 regularization in 'logistic_l2_cv' using cross-validation(cv=5), default C value."
   ]
  },
  {
   "cell_type": "code",
   "execution_count": 48,
   "id": "1c9740f0",
   "metadata": {
    "deletable": false,
    "editable": false,
    "nbgrader": {
     "cell_type": "code",
     "checksum": "9d7703253c0c653e4d8a0b190293a75d",
     "grade": false,
     "grade_id": "cell-17a1d87dc8e7717a",
     "locked": true,
     "schema_version": 3,
     "solution": false,
     "task": false
    }
   },
   "outputs": [],
   "source": [
    "# Definig a range for Cs\n",
    "Cs = np.linspace(0.001,10,20)"
   ]
  },
  {
   "cell_type": "code",
   "execution_count": 49,
   "id": "0dffba0c",
   "metadata": {
    "deletable": false,
    "editable": false,
    "nbgrader": {
     "cell_type": "code",
     "checksum": "853c23928bf96adab78edb5c3b0ee7d2",
     "grade": false,
     "grade_id": "cell-fc73344e9230a62a",
     "locked": true,
     "schema_version": 3,
     "solution": false,
     "task": false
    }
   },
   "outputs": [
    {
     "data": {
      "text/html": [
       "<style>#sk-container-id-5 {color: black;background-color: white;}#sk-container-id-5 pre{padding: 0;}#sk-container-id-5 div.sk-toggleable {background-color: white;}#sk-container-id-5 label.sk-toggleable__label {cursor: pointer;display: block;width: 100%;margin-bottom: 0;padding: 0.3em;box-sizing: border-box;text-align: center;}#sk-container-id-5 label.sk-toggleable__label-arrow:before {content: \"▸\";float: left;margin-right: 0.25em;color: #696969;}#sk-container-id-5 label.sk-toggleable__label-arrow:hover:before {color: black;}#sk-container-id-5 div.sk-estimator:hover label.sk-toggleable__label-arrow:before {color: black;}#sk-container-id-5 div.sk-toggleable__content {max-height: 0;max-width: 0;overflow: hidden;text-align: left;background-color: #f0f8ff;}#sk-container-id-5 div.sk-toggleable__content pre {margin: 0.2em;color: black;border-radius: 0.25em;background-color: #f0f8ff;}#sk-container-id-5 input.sk-toggleable__control:checked~div.sk-toggleable__content {max-height: 200px;max-width: 100%;overflow: auto;}#sk-container-id-5 input.sk-toggleable__control:checked~label.sk-toggleable__label-arrow:before {content: \"▾\";}#sk-container-id-5 div.sk-estimator input.sk-toggleable__control:checked~label.sk-toggleable__label {background-color: #d4ebff;}#sk-container-id-5 div.sk-label input.sk-toggleable__control:checked~label.sk-toggleable__label {background-color: #d4ebff;}#sk-container-id-5 input.sk-hidden--visually {border: 0;clip: rect(1px 1px 1px 1px);clip: rect(1px, 1px, 1px, 1px);height: 1px;margin: -1px;overflow: hidden;padding: 0;position: absolute;width: 1px;}#sk-container-id-5 div.sk-estimator {font-family: monospace;background-color: #f0f8ff;border: 1px dotted black;border-radius: 0.25em;box-sizing: border-box;margin-bottom: 0.5em;}#sk-container-id-5 div.sk-estimator:hover {background-color: #d4ebff;}#sk-container-id-5 div.sk-parallel-item::after {content: \"\";width: 100%;border-bottom: 1px solid gray;flex-grow: 1;}#sk-container-id-5 div.sk-label:hover label.sk-toggleable__label {background-color: #d4ebff;}#sk-container-id-5 div.sk-serial::before {content: \"\";position: absolute;border-left: 1px solid gray;box-sizing: border-box;top: 0;bottom: 0;left: 50%;z-index: 0;}#sk-container-id-5 div.sk-serial {display: flex;flex-direction: column;align-items: center;background-color: white;padding-right: 0.2em;padding-left: 0.2em;position: relative;}#sk-container-id-5 div.sk-item {position: relative;z-index: 1;}#sk-container-id-5 div.sk-parallel {display: flex;align-items: stretch;justify-content: center;background-color: white;position: relative;}#sk-container-id-5 div.sk-item::before, #sk-container-id-5 div.sk-parallel-item::before {content: \"\";position: absolute;border-left: 1px solid gray;box-sizing: border-box;top: 0;bottom: 0;left: 50%;z-index: -1;}#sk-container-id-5 div.sk-parallel-item {display: flex;flex-direction: column;z-index: 1;position: relative;background-color: white;}#sk-container-id-5 div.sk-parallel-item:first-child::after {align-self: flex-end;width: 50%;}#sk-container-id-5 div.sk-parallel-item:last-child::after {align-self: flex-start;width: 50%;}#sk-container-id-5 div.sk-parallel-item:only-child::after {width: 0;}#sk-container-id-5 div.sk-dashed-wrapped {border: 1px dashed gray;margin: 0 0.4em 0.5em 0.4em;box-sizing: border-box;padding-bottom: 0.4em;background-color: white;}#sk-container-id-5 div.sk-label label {font-family: monospace;font-weight: bold;display: inline-block;line-height: 1.2em;}#sk-container-id-5 div.sk-label-container {text-align: center;}#sk-container-id-5 div.sk-container {/* jupyter's `normalize.less` sets `[hidden] { display: none; }` but bootstrap.min.css set `[hidden] { display: none !important; }` so we also need the `!important` here to be able to override the default hidden behavior on the sphinx rendered scikit-learn.org. See: https://github.com/scikit-learn/scikit-learn/issues/21755 */display: inline-block !important;position: relative;}#sk-container-id-5 div.sk-text-repr-fallback {display: none;}</style><div id=\"sk-container-id-5\" class=\"sk-top-container\"><div class=\"sk-text-repr-fallback\"><pre>LogisticRegressionCV(Cs=array([1.00000000e-03, 5.27263158e-01, 1.05352632e+00, 1.57978947e+00,\n",
       "       2.10605263e+00, 2.63231579e+00, 3.15857895e+00, 3.68484211e+00,\n",
       "       4.21110526e+00, 4.73736842e+00, 5.26363158e+00, 5.78989474e+00,\n",
       "       6.31615789e+00, 6.84242105e+00, 7.36868421e+00, 7.89494737e+00,\n",
       "       8.42121053e+00, 8.94747368e+00, 9.47373684e+00, 1.00000000e+01]),\n",
       "                     cv=5, max_iter=10000, n_jobs=-1, solver=&#x27;liblinear&#x27;)</pre><b>In a Jupyter environment, please rerun this cell to show the HTML representation or trust the notebook. <br />On GitHub, the HTML representation is unable to render, please try loading this page with nbviewer.org.</b></div><div class=\"sk-container\" hidden><div class=\"sk-item\"><div class=\"sk-estimator sk-toggleable\"><input class=\"sk-toggleable__control sk-hidden--visually\" id=\"sk-estimator-id-5\" type=\"checkbox\" checked><label for=\"sk-estimator-id-5\" class=\"sk-toggleable__label sk-toggleable__label-arrow\">LogisticRegressionCV</label><div class=\"sk-toggleable__content\"><pre>LogisticRegressionCV(Cs=array([1.00000000e-03, 5.27263158e-01, 1.05352632e+00, 1.57978947e+00,\n",
       "       2.10605263e+00, 2.63231579e+00, 3.15857895e+00, 3.68484211e+00,\n",
       "       4.21110526e+00, 4.73736842e+00, 5.26363158e+00, 5.78989474e+00,\n",
       "       6.31615789e+00, 6.84242105e+00, 7.36868421e+00, 7.89494737e+00,\n",
       "       8.42121053e+00, 8.94747368e+00, 9.47373684e+00, 1.00000000e+01]),\n",
       "                     cv=5, max_iter=10000, n_jobs=-1, solver=&#x27;liblinear&#x27;)</pre></div></div></div></div></div>"
      ],
      "text/plain": [
       "LogisticRegressionCV(Cs=array([1.00000000e-03, 5.27263158e-01, 1.05352632e+00, 1.57978947e+00,\n",
       "       2.10605263e+00, 2.63231579e+00, 3.15857895e+00, 3.68484211e+00,\n",
       "       4.21110526e+00, 4.73736842e+00, 5.26363158e+00, 5.78989474e+00,\n",
       "       6.31615789e+00, 6.84242105e+00, 7.36868421e+00, 7.89494737e+00,\n",
       "       8.42121053e+00, 8.94747368e+00, 9.47373684e+00, 1.00000000e+01]),\n",
       "                     cv=5, max_iter=10000, n_jobs=-1, solver='liblinear')"
      ]
     },
     "execution_count": 49,
     "metadata": {},
     "output_type": "execute_result"
    }
   ],
   "source": [
    "# Logistic regression with L2 regularization using cross-validation to find the best C\n",
    "# Write your code below\n",
    "logistic_l2_cv = LogisticRegressionCV(Cs=Cs, \n",
    "                                      penalty='l2',\n",
    "                                      solver= 'liblinear',\n",
    "                                      cv=5, \n",
    "                                      max_iter=10000,\n",
    "                                      n_jobs=-1)\n",
    "logistic_l2_cv.fit(X_train, y_train)"
   ]
  },
  {
   "cell_type": "code",
   "execution_count": 50,
   "id": "c4da261b",
   "metadata": {
    "deletable": false,
    "editable": false,
    "nbgrader": {
     "cell_type": "code",
     "checksum": "4f21e5e05be374b6bdbfe7b821a6118e",
     "grade": false,
     "grade_id": "cell-c244d84a381b1767",
     "locked": true,
     "schema_version": 3,
     "solution": false,
     "task": false
    }
   },
   "outputs": [
    {
     "data": {
      "text/plain": [
       "array([1.00000000e-03, 5.27263158e-01, 1.05352632e+00, 1.57978947e+00,\n",
       "       2.10605263e+00, 2.63231579e+00, 3.15857895e+00, 3.68484211e+00,\n",
       "       4.21110526e+00, 4.73736842e+00, 5.26363158e+00, 5.78989474e+00,\n",
       "       6.31615789e+00, 6.84242105e+00, 7.36868421e+00, 7.89494737e+00,\n",
       "       8.42121053e+00, 8.94747368e+00, 9.47373684e+00, 1.00000000e+01])"
      ]
     },
     "execution_count": 50,
     "metadata": {},
     "output_type": "execute_result"
    }
   ],
   "source": [
    "logistic_l2_cv.Cs_"
   ]
  },
  {
   "cell_type": "code",
   "execution_count": 51,
   "id": "22f903a3",
   "metadata": {
    "deletable": false,
    "editable": false,
    "nbgrader": {
     "cell_type": "code",
     "checksum": "029c503aa5d07e3627ecca8638865c20",
     "grade": false,
     "grade_id": "cell-2256c8521a3ed15e",
     "locked": true,
     "schema_version": 3,
     "solution": false,
     "task": false
    }
   },
   "outputs": [
    {
     "data": {
      "text/plain": [
       "array([3.15857895])"
      ]
     },
     "execution_count": 51,
     "metadata": {},
     "output_type": "execute_result"
    }
   ],
   "source": [
    "logistic_l2_cv.C_"
   ]
  },
  {
   "cell_type": "markdown",
   "id": "4a0e3efc",
   "metadata": {
    "deletable": false,
    "editable": false,
    "nbgrader": {
     "cell_type": "markdown",
     "checksum": "dffec851656e95c70401e5bc4edccd69",
     "grade": false,
     "grade_id": "cell-6f1d88ca078e58dc",
     "locked": true,
     "schema_version": 3,
     "solution": false,
     "task": false
    }
   },
   "source": [
    "## Peak at 3.15\n",
    "\n",
    "Apply Logistic regression with L2 regularization in 'logistic_l2_cv' using cross-validation with peak value from the plot. "
   ]
  },
  {
   "cell_type": "code",
   "execution_count": 52,
   "id": "2c845135",
   "metadata": {
    "deletable": false,
    "nbgrader": {
     "cell_type": "code",
     "checksum": "8352cf5d1cb1571907b706d45144de0b",
     "grade": false,
     "grade_id": "cell-10246495711c0dda",
     "locked": false,
     "schema_version": 3,
     "solution": true,
     "task": false
    }
   },
   "outputs": [
    {
     "data": {
      "text/html": [
       "<style>#sk-container-id-6 {color: black;background-color: white;}#sk-container-id-6 pre{padding: 0;}#sk-container-id-6 div.sk-toggleable {background-color: white;}#sk-container-id-6 label.sk-toggleable__label {cursor: pointer;display: block;width: 100%;margin-bottom: 0;padding: 0.3em;box-sizing: border-box;text-align: center;}#sk-container-id-6 label.sk-toggleable__label-arrow:before {content: \"▸\";float: left;margin-right: 0.25em;color: #696969;}#sk-container-id-6 label.sk-toggleable__label-arrow:hover:before {color: black;}#sk-container-id-6 div.sk-estimator:hover label.sk-toggleable__label-arrow:before {color: black;}#sk-container-id-6 div.sk-toggleable__content {max-height: 0;max-width: 0;overflow: hidden;text-align: left;background-color: #f0f8ff;}#sk-container-id-6 div.sk-toggleable__content pre {margin: 0.2em;color: black;border-radius: 0.25em;background-color: #f0f8ff;}#sk-container-id-6 input.sk-toggleable__control:checked~div.sk-toggleable__content {max-height: 200px;max-width: 100%;overflow: auto;}#sk-container-id-6 input.sk-toggleable__control:checked~label.sk-toggleable__label-arrow:before {content: \"▾\";}#sk-container-id-6 div.sk-estimator input.sk-toggleable__control:checked~label.sk-toggleable__label {background-color: #d4ebff;}#sk-container-id-6 div.sk-label input.sk-toggleable__control:checked~label.sk-toggleable__label {background-color: #d4ebff;}#sk-container-id-6 input.sk-hidden--visually {border: 0;clip: rect(1px 1px 1px 1px);clip: rect(1px, 1px, 1px, 1px);height: 1px;margin: -1px;overflow: hidden;padding: 0;position: absolute;width: 1px;}#sk-container-id-6 div.sk-estimator {font-family: monospace;background-color: #f0f8ff;border: 1px dotted black;border-radius: 0.25em;box-sizing: border-box;margin-bottom: 0.5em;}#sk-container-id-6 div.sk-estimator:hover {background-color: #d4ebff;}#sk-container-id-6 div.sk-parallel-item::after {content: \"\";width: 100%;border-bottom: 1px solid gray;flex-grow: 1;}#sk-container-id-6 div.sk-label:hover label.sk-toggleable__label {background-color: #d4ebff;}#sk-container-id-6 div.sk-serial::before {content: \"\";position: absolute;border-left: 1px solid gray;box-sizing: border-box;top: 0;bottom: 0;left: 50%;z-index: 0;}#sk-container-id-6 div.sk-serial {display: flex;flex-direction: column;align-items: center;background-color: white;padding-right: 0.2em;padding-left: 0.2em;position: relative;}#sk-container-id-6 div.sk-item {position: relative;z-index: 1;}#sk-container-id-6 div.sk-parallel {display: flex;align-items: stretch;justify-content: center;background-color: white;position: relative;}#sk-container-id-6 div.sk-item::before, #sk-container-id-6 div.sk-parallel-item::before {content: \"\";position: absolute;border-left: 1px solid gray;box-sizing: border-box;top: 0;bottom: 0;left: 50%;z-index: -1;}#sk-container-id-6 div.sk-parallel-item {display: flex;flex-direction: column;z-index: 1;position: relative;background-color: white;}#sk-container-id-6 div.sk-parallel-item:first-child::after {align-self: flex-end;width: 50%;}#sk-container-id-6 div.sk-parallel-item:last-child::after {align-self: flex-start;width: 50%;}#sk-container-id-6 div.sk-parallel-item:only-child::after {width: 0;}#sk-container-id-6 div.sk-dashed-wrapped {border: 1px dashed gray;margin: 0 0.4em 0.5em 0.4em;box-sizing: border-box;padding-bottom: 0.4em;background-color: white;}#sk-container-id-6 div.sk-label label {font-family: monospace;font-weight: bold;display: inline-block;line-height: 1.2em;}#sk-container-id-6 div.sk-label-container {text-align: center;}#sk-container-id-6 div.sk-container {/* jupyter's `normalize.less` sets `[hidden] { display: none; }` but bootstrap.min.css set `[hidden] { display: none !important; }` so we also need the `!important` here to be able to override the default hidden behavior on the sphinx rendered scikit-learn.org. See: https://github.com/scikit-learn/scikit-learn/issues/21755 */display: inline-block !important;position: relative;}#sk-container-id-6 div.sk-text-repr-fallback {display: none;}</style><div id=\"sk-container-id-6\" class=\"sk-top-container\"><div class=\"sk-text-repr-fallback\"><pre>LogisticRegressionCV(Cs=[3.15], cv=5, max_iter=10000, n_jobs=-1,\n",
       "                     solver=&#x27;liblinear&#x27;)</pre><b>In a Jupyter environment, please rerun this cell to show the HTML representation or trust the notebook. <br />On GitHub, the HTML representation is unable to render, please try loading this page with nbviewer.org.</b></div><div class=\"sk-container\" hidden><div class=\"sk-item\"><div class=\"sk-estimator sk-toggleable\"><input class=\"sk-toggleable__control sk-hidden--visually\" id=\"sk-estimator-id-6\" type=\"checkbox\" checked><label for=\"sk-estimator-id-6\" class=\"sk-toggleable__label sk-toggleable__label-arrow\">LogisticRegressionCV</label><div class=\"sk-toggleable__content\"><pre>LogisticRegressionCV(Cs=[3.15], cv=5, max_iter=10000, n_jobs=-1,\n",
       "                     solver=&#x27;liblinear&#x27;)</pre></div></div></div></div></div>"
      ],
      "text/plain": [
       "LogisticRegressionCV(Cs=[3.15], cv=5, max_iter=10000, n_jobs=-1,\n",
       "                     solver='liblinear')"
      ]
     },
     "execution_count": 52,
     "metadata": {},
     "output_type": "execute_result"
    }
   ],
   "source": [
    "# Logistic regression with L2 regularization using cross-validation to find the best C\n",
    "#Write your code below\n",
    "# your code here\n",
    "# raise NotImplementedError\n",
    "logistic_l2_cv = LogisticRegressionCV(Cs=[3.15], \n",
    "                                      penalty='l2',\n",
    "                                      solver= 'liblinear',\n",
    "                                      cv=5, \n",
    "                                      max_iter=10000,\n",
    "                                      n_jobs=-1)\n",
    "logistic_l2_cv.fit(X_train, y_train)"
   ]
  },
  {
   "cell_type": "code",
   "execution_count": 53,
   "id": "e4ed38c7",
   "metadata": {
    "deletable": false,
    "editable": false,
    "nbgrader": {
     "cell_type": "code",
     "checksum": "b6e280aaae9f39c2b4b66ae0840c5d1a",
     "grade": false,
     "grade_id": "cell-dd365cf18be1dd30",
     "locked": true,
     "schema_version": 3,
     "solution": false,
     "task": false
    }
   },
   "outputs": [
    {
     "name": "stdout",
     "output_type": "stream",
     "text": [
      "F1 Score with L2 Regularization: 0.8654848800834203\n"
     ]
    }
   ],
   "source": [
    "# Evaluate the model with L2 regularization on old train data\n",
    "y_train_pred_l2 = logistic_l2_cv.predict(X_train)\n",
    "f1_l2_train = f1_score(y_train, y_train_pred_l2)\n",
    "print(\"F1 Score with L2 Regularization:\", f1_l2_train)"
   ]
  },
  {
   "cell_type": "code",
   "execution_count": 54,
   "id": "5586e6d0",
   "metadata": {
    "deletable": false,
    "editable": false,
    "nbgrader": {
     "cell_type": "code",
     "checksum": "99e9db24ee19d0e4c1660717f7480bd3",
     "grade": false,
     "grade_id": "cell-28309a8b009c241f",
     "locked": true,
     "schema_version": 3,
     "solution": false,
     "task": false
    }
   },
   "outputs": [
    {
     "name": "stdout",
     "output_type": "stream",
     "text": [
      "F1 Score with L2 Regularization: 0.8475452196382429\n"
     ]
    }
   ],
   "source": [
    "# Evaluate the model with L2 regularization on old test data\n",
    "y_test_pred_l2 = logistic_l2_cv.predict(X_test)\n",
    "f1_l2_test = f1_score(y_test, y_test_pred_l2)\n",
    "print(\"F1 Score with L2 Regularization:\", f1_l2_test)"
   ]
  },
  {
   "cell_type": "code",
   "execution_count": 55,
   "id": "30b6f2c8",
   "metadata": {
    "deletable": false,
    "editable": false,
    "nbgrader": {
     "cell_type": "code",
     "checksum": "bcd752743cb64207088c0e5de6b96aed",
     "grade": true,
     "grade_id": "cell-8eea3f99de9e8244",
     "locked": true,
     "points": 3,
     "schema_version": 3,
     "solution": false,
     "task": false
    }
   },
   "outputs": [],
   "source": [
    "assert f1_l2_train > 0.86, \"F1 score for train data does not match the expected value\"\n",
    "assert f1_l2_test > 0.84, \"F1 score for test data does not match the expected value\""
   ]
  },
  {
   "cell_type": "markdown",
   "id": "fd2f11f1",
   "metadata": {},
   "source": [
    "An F1 score of around 0.86 for one dataset and 0.847 for the other dataset in the context of L2 regularization indicates that your logistic regression model performs well on both the dataset it was trained on and on new, unseen data. The scores suggest that the model is accurately predicting the target variable, maintaining a balance between precision and recall, and the L2 regularization is likely helping to enhance the model's ability to generalize."
   ]
  },
  {
   "cell_type": "markdown",
   "id": "9eef224c",
   "metadata": {
    "deletable": false,
    "editable": false,
    "nbgrader": {
     "cell_type": "markdown",
     "checksum": "12b889940b9a725bf97b17654a4493b6",
     "grade": false,
     "grade_id": "cell-a69ebff66d963e84",
     "locked": true,
     "schema_version": 3,
     "solution": false,
     "task": false
    }
   },
   "source": [
    "## ElasticNet Regularization\n",
    "\n",
    "Apply Logistic regression with ElasticNet regularization in 'logistic_en_cv' using cross-validation"
   ]
  },
  {
   "cell_type": "code",
   "execution_count": 56,
   "id": "f6638967",
   "metadata": {
    "deletable": false,
    "editable": false,
    "nbgrader": {
     "cell_type": "code",
     "checksum": "ec121d70ab9e359c1d87531822c35d93",
     "grade": false,
     "grade_id": "cell-b543d3be53834067",
     "locked": true,
     "schema_version": 3,
     "solution": false,
     "task": false
    }
   },
   "outputs": [],
   "source": [
    "# Definig a range for Cs\n",
    "Cs = np.linspace(0.001,10,20)"
   ]
  },
  {
   "cell_type": "code",
   "execution_count": 57,
   "id": "35d798d0",
   "metadata": {
    "deletable": false,
    "nbgrader": {
     "cell_type": "code",
     "checksum": "a0bb419d5e7ccfb7e7720e68b2c08493",
     "grade": false,
     "grade_id": "cell-4fe01e59b9989344",
     "locked": false,
     "schema_version": 3,
     "solution": true,
     "task": false
    }
   },
   "outputs": [],
   "source": [
    "# Logistic regression with ElasticNet regularization using cross-validation\n",
    "# Write your code below\n",
    "# your code here\n",
    "# raise NotImplementedError\n",
    "logistic_en_cv = LogisticRegressionCV(Cs=Cs, \n",
    "                                      penalty='elasticnet',\n",
    "                                      l1_ratios= [0.0001, 0.001, 0.01, 0.05, 0.1, 0.4, 0.5, 0.7, 1],\n",
    "                                      solver= 'saga',\n",
    "                                      cv=5, \n",
    "                                      max_iter=10000,\n",
    "                                      n_jobs=-1)\n",
    "# logistic_en_cv.fit(X_train, y_train)"
   ]
  },
  {
   "cell_type": "code",
   "execution_count": 58,
   "id": "31138db8",
   "metadata": {
    "deletable": false,
    "editable": false,
    "nbgrader": {
     "cell_type": "code",
     "checksum": "8d693e2ce8e2898836ff88783b566ac3",
     "grade": false,
     "grade_id": "cell-f5da0e442fd168c9",
     "locked": true,
     "schema_version": 3,
     "solution": false,
     "task": false
    }
   },
   "outputs": [
    {
     "data": {
      "text/html": [
       "<style>#sk-container-id-7 {color: black;background-color: white;}#sk-container-id-7 pre{padding: 0;}#sk-container-id-7 div.sk-toggleable {background-color: white;}#sk-container-id-7 label.sk-toggleable__label {cursor: pointer;display: block;width: 100%;margin-bottom: 0;padding: 0.3em;box-sizing: border-box;text-align: center;}#sk-container-id-7 label.sk-toggleable__label-arrow:before {content: \"▸\";float: left;margin-right: 0.25em;color: #696969;}#sk-container-id-7 label.sk-toggleable__label-arrow:hover:before {color: black;}#sk-container-id-7 div.sk-estimator:hover label.sk-toggleable__label-arrow:before {color: black;}#sk-container-id-7 div.sk-toggleable__content {max-height: 0;max-width: 0;overflow: hidden;text-align: left;background-color: #f0f8ff;}#sk-container-id-7 div.sk-toggleable__content pre {margin: 0.2em;color: black;border-radius: 0.25em;background-color: #f0f8ff;}#sk-container-id-7 input.sk-toggleable__control:checked~div.sk-toggleable__content {max-height: 200px;max-width: 100%;overflow: auto;}#sk-container-id-7 input.sk-toggleable__control:checked~label.sk-toggleable__label-arrow:before {content: \"▾\";}#sk-container-id-7 div.sk-estimator input.sk-toggleable__control:checked~label.sk-toggleable__label {background-color: #d4ebff;}#sk-container-id-7 div.sk-label input.sk-toggleable__control:checked~label.sk-toggleable__label {background-color: #d4ebff;}#sk-container-id-7 input.sk-hidden--visually {border: 0;clip: rect(1px 1px 1px 1px);clip: rect(1px, 1px, 1px, 1px);height: 1px;margin: -1px;overflow: hidden;padding: 0;position: absolute;width: 1px;}#sk-container-id-7 div.sk-estimator {font-family: monospace;background-color: #f0f8ff;border: 1px dotted black;border-radius: 0.25em;box-sizing: border-box;margin-bottom: 0.5em;}#sk-container-id-7 div.sk-estimator:hover {background-color: #d4ebff;}#sk-container-id-7 div.sk-parallel-item::after {content: \"\";width: 100%;border-bottom: 1px solid gray;flex-grow: 1;}#sk-container-id-7 div.sk-label:hover label.sk-toggleable__label {background-color: #d4ebff;}#sk-container-id-7 div.sk-serial::before {content: \"\";position: absolute;border-left: 1px solid gray;box-sizing: border-box;top: 0;bottom: 0;left: 50%;z-index: 0;}#sk-container-id-7 div.sk-serial {display: flex;flex-direction: column;align-items: center;background-color: white;padding-right: 0.2em;padding-left: 0.2em;position: relative;}#sk-container-id-7 div.sk-item {position: relative;z-index: 1;}#sk-container-id-7 div.sk-parallel {display: flex;align-items: stretch;justify-content: center;background-color: white;position: relative;}#sk-container-id-7 div.sk-item::before, #sk-container-id-7 div.sk-parallel-item::before {content: \"\";position: absolute;border-left: 1px solid gray;box-sizing: border-box;top: 0;bottom: 0;left: 50%;z-index: -1;}#sk-container-id-7 div.sk-parallel-item {display: flex;flex-direction: column;z-index: 1;position: relative;background-color: white;}#sk-container-id-7 div.sk-parallel-item:first-child::after {align-self: flex-end;width: 50%;}#sk-container-id-7 div.sk-parallel-item:last-child::after {align-self: flex-start;width: 50%;}#sk-container-id-7 div.sk-parallel-item:only-child::after {width: 0;}#sk-container-id-7 div.sk-dashed-wrapped {border: 1px dashed gray;margin: 0 0.4em 0.5em 0.4em;box-sizing: border-box;padding-bottom: 0.4em;background-color: white;}#sk-container-id-7 div.sk-label label {font-family: monospace;font-weight: bold;display: inline-block;line-height: 1.2em;}#sk-container-id-7 div.sk-label-container {text-align: center;}#sk-container-id-7 div.sk-container {/* jupyter's `normalize.less` sets `[hidden] { display: none; }` but bootstrap.min.css set `[hidden] { display: none !important; }` so we also need the `!important` here to be able to override the default hidden behavior on the sphinx rendered scikit-learn.org. See: https://github.com/scikit-learn/scikit-learn/issues/21755 */display: inline-block !important;position: relative;}#sk-container-id-7 div.sk-text-repr-fallback {display: none;}</style><div id=\"sk-container-id-7\" class=\"sk-top-container\"><div class=\"sk-text-repr-fallback\"><pre>LogisticRegressionCV(Cs=array([1.00000000e-03, 5.27263158e-01, 1.05352632e+00, 1.57978947e+00,\n",
       "       2.10605263e+00, 2.63231579e+00, 3.15857895e+00, 3.68484211e+00,\n",
       "       4.21110526e+00, 4.73736842e+00, 5.26363158e+00, 5.78989474e+00,\n",
       "       6.31615789e+00, 6.84242105e+00, 7.36868421e+00, 7.89494737e+00,\n",
       "       8.42121053e+00, 8.94747368e+00, 9.47373684e+00, 1.00000000e+01]),\n",
       "                     cv=5,\n",
       "                     l1_ratios=[0.0001, 0.001, 0.01, 0.05, 0.1, 0.4, 0.5, 0.7,\n",
       "                                1],\n",
       "                     max_iter=10000, n_jobs=-1, penalty=&#x27;elasticnet&#x27;,\n",
       "                     solver=&#x27;saga&#x27;)</pre><b>In a Jupyter environment, please rerun this cell to show the HTML representation or trust the notebook. <br />On GitHub, the HTML representation is unable to render, please try loading this page with nbviewer.org.</b></div><div class=\"sk-container\" hidden><div class=\"sk-item\"><div class=\"sk-estimator sk-toggleable\"><input class=\"sk-toggleable__control sk-hidden--visually\" id=\"sk-estimator-id-7\" type=\"checkbox\" checked><label for=\"sk-estimator-id-7\" class=\"sk-toggleable__label sk-toggleable__label-arrow\">LogisticRegressionCV</label><div class=\"sk-toggleable__content\"><pre>LogisticRegressionCV(Cs=array([1.00000000e-03, 5.27263158e-01, 1.05352632e+00, 1.57978947e+00,\n",
       "       2.10605263e+00, 2.63231579e+00, 3.15857895e+00, 3.68484211e+00,\n",
       "       4.21110526e+00, 4.73736842e+00, 5.26363158e+00, 5.78989474e+00,\n",
       "       6.31615789e+00, 6.84242105e+00, 7.36868421e+00, 7.89494737e+00,\n",
       "       8.42121053e+00, 8.94747368e+00, 9.47373684e+00, 1.00000000e+01]),\n",
       "                     cv=5,\n",
       "                     l1_ratios=[0.0001, 0.001, 0.01, 0.05, 0.1, 0.4, 0.5, 0.7,\n",
       "                                1],\n",
       "                     max_iter=10000, n_jobs=-1, penalty=&#x27;elasticnet&#x27;,\n",
       "                     solver=&#x27;saga&#x27;)</pre></div></div></div></div></div>"
      ],
      "text/plain": [
       "LogisticRegressionCV(Cs=array([1.00000000e-03, 5.27263158e-01, 1.05352632e+00, 1.57978947e+00,\n",
       "       2.10605263e+00, 2.63231579e+00, 3.15857895e+00, 3.68484211e+00,\n",
       "       4.21110526e+00, 4.73736842e+00, 5.26363158e+00, 5.78989474e+00,\n",
       "       6.31615789e+00, 6.84242105e+00, 7.36868421e+00, 7.89494737e+00,\n",
       "       8.42121053e+00, 8.94747368e+00, 9.47373684e+00, 1.00000000e+01]),\n",
       "                     cv=5,\n",
       "                     l1_ratios=[0.0001, 0.001, 0.01, 0.05, 0.1, 0.4, 0.5, 0.7,\n",
       "                                1],\n",
       "                     max_iter=10000, n_jobs=-1, penalty='elasticnet',\n",
       "                     solver='saga')"
      ]
     },
     "execution_count": 58,
     "metadata": {},
     "output_type": "execute_result"
    }
   ],
   "source": [
    "logistic_en_cv.fit(X_train, y_train)"
   ]
  },
  {
   "cell_type": "code",
   "execution_count": 59,
   "id": "ca80a2ab",
   "metadata": {
    "deletable": false,
    "editable": false,
    "nbgrader": {
     "cell_type": "code",
     "checksum": "64a7ec5b4fa8aa4cc6c318694d9ca1a6",
     "grade": false,
     "grade_id": "cell-5e4d9c024d37fb64",
     "locked": true,
     "schema_version": 3,
     "solution": false,
     "task": false
    }
   },
   "outputs": [
    {
     "name": "stdout",
     "output_type": "stream",
     "text": [
      "F1 Score with Elastic Net Regularization on Train Set: 0.8743400211193242\n"
     ]
    }
   ],
   "source": [
    "# Evaluate the model\n",
    "\n",
    "y_train_pred_elastic = logistic_en_cv.predict(X_train)\n",
    "f1_elastic_train = f1_score(y_train, y_train_pred_elastic)\n",
    "print(\"F1 Score with Elastic Net Regularization on Train Set:\", f1_elastic_train)"
   ]
  },
  {
   "cell_type": "code",
   "execution_count": 60,
   "id": "5162bba8",
   "metadata": {
    "deletable": false,
    "editable": false,
    "nbgrader": {
     "cell_type": "code",
     "checksum": "dcee529d1de85fd2aa13a51951a1958c",
     "grade": false,
     "grade_id": "cell-2e2670d57de406ae",
     "locked": true,
     "schema_version": 3,
     "solution": false,
     "task": false
    }
   },
   "outputs": [
    {
     "name": "stdout",
     "output_type": "stream",
     "text": [
      "F1 Score with Elastic Net Regularization on Test Set: 0.8443271767810026\n"
     ]
    }
   ],
   "source": [
    "y_test_pred_elastic = logistic_en_cv.predict(X_test)\n",
    "f1_elastic_test = f1_score(y_test, y_test_pred_elastic)\n",
    "print(\"F1 Score with Elastic Net Regularization on Test Set:\", f1_elastic_test)"
   ]
  },
  {
   "cell_type": "code",
   "execution_count": 61,
   "id": "b522bff5",
   "metadata": {
    "deletable": false,
    "editable": false,
    "nbgrader": {
     "cell_type": "code",
     "checksum": "bf2aad9052817e93ac598a95536f847e",
     "grade": true,
     "grade_id": "cell-1832b5bc325bfc89",
     "locked": true,
     "points": 3,
     "schema_version": 3,
     "solution": false,
     "task": false
    }
   },
   "outputs": [],
   "source": [
    "assert f1_elastic_train > 0.87, \"F1 score for train data does not match the expected value\"\n",
    "assert f1_elastic_test > 0.84, \"F1 score for test data does not match the expected value\""
   ]
  },
  {
   "cell_type": "markdown",
   "id": "447abbce",
   "metadata": {
    "deletable": false,
    "editable": false,
    "nbgrader": {
     "cell_type": "markdown",
     "checksum": "e49d7c87f17ff3141f4fc2c9ab574194",
     "grade": false,
     "grade_id": "cell-c4440e252517dbfa",
     "locked": true,
     "schema_version": 3,
     "solution": false,
     "task": false
    }
   },
   "source": [
    "## What this mean for the Business"
   ]
  },
  {
   "cell_type": "markdown",
   "id": "3ada3c8a",
   "metadata": {
    "deletable": false,
    "editable": false,
    "nbgrader": {
     "cell_type": "markdown",
     "checksum": "564a532797a76e5aed5ec1a6d7c297c3",
     "grade": false,
     "grade_id": "cell-d5c5316fba09e5f7",
     "locked": true,
     "schema_version": 3,
     "solution": false,
     "task": false
    }
   },
   "source": [
    "In a business context, choosing the right model depends on the specific needs and constraints of the business problem. For instance:\n",
    "\n",
    "1. If feature interpretability is important (i.e., understanding which features are driving the predictions), L1 regularization might be preferred despite its slightly higher tendency to overfit.\n",
    "\n",
    "2. If the business needs a more generalized model that is robust to various types of data, the model with L2 regularization or the one without any regularization might be more appropriate.\n",
    "\n",
    "3. If there's a need for a balance between feature selection and model complexity, Elastic Net could be the way to go.\n",
    "\n",
    "In all cases, the relatively high F1 scores indicate that logistic regression is a competent approach for the classification task at hand, capable of providing reliable insights for informed decision-making in the business. Regular monitoring and validation on new data are recommended to ensure continued model accuracy and relevance."
   ]
  }
 ],
 "metadata": {
  "kernelspec": {
   "display_name": "Python 3 (ipykernel)",
   "language": "python",
   "name": "python3"
  },
  "language_info": {
   "codemirror_mode": {
    "name": "ipython",
    "version": 3
   },
   "file_extension": ".py",
   "mimetype": "text/x-python",
   "name": "python",
   "nbconvert_exporter": "python",
   "pygments_lexer": "ipython3",
   "version": "3.10.6"
  }
 },
 "nbformat": 4,
 "nbformat_minor": 5
}
