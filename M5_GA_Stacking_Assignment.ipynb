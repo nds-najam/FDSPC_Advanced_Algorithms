{
 "cells": [
  {
   "cell_type": "markdown",
   "id": "38f156db",
   "metadata": {
    "deletable": false,
    "editable": false,
    "nbgrader": {
     "cell_type": "markdown",
     "checksum": "941bcdfc46b953d0a40142fc4ae0e15b",
     "grade": false,
     "grade_id": "cell-048463d8b48f34fe",
     "locked": true,
     "schema_version": 3,
     "solution": false,
     "task": false
    }
   },
   "source": [
    "# PROBLEM STATEMENT \n",
    "\n",
    "Dataset contains daily weather observations from Australian weather stations, and your goal is to predict whether it will rain tomorrow based on the data. The target variable you want to predict is \"RainTomorrow,\" which is a binary variable with two possible values: \"Yes\" or \"No.\"\n",
    "\n",
    "In this context, \"RainTomorrow\" is set to \"Yes\" if the amount of rain recorded for the current day is 1mm or more, indicating that it rained that day. If the recorded rainfall is less than 1mm, \"RainTomorrow\" is set to \"No,\" indicating that it did not rain that day.\n",
    "\n",
    "- The aim of this is to test the chances of raining in australia Yes or No"
   ]
  },
  {
   "cell_type": "markdown",
   "id": "21c9d568",
   "metadata": {
    "deletable": false,
    "editable": false,
    "nbgrader": {
     "cell_type": "markdown",
     "checksum": "dfd5ff73501d0ce1f1c64fb0508104dc",
     "grade": false,
     "grade_id": "cell-269f1d39cecd397e",
     "locked": true,
     "schema_version": 3,
     "solution": false,
     "task": false
    }
   },
   "source": [
    "# OVERVIEW \n",
    "\n",
    "The dataset weatherAUS.csv contains 40000 rows and 23 columns to weather observations in Australia. Here's an explanation of each column:\n",
    "### The data we are using here is already  preprocessed including encoding and scaling, so the names of the columns may change.\n",
    "\n",
    "- Date: The date of the observation.\n",
    "- Location: The location where the weather data was recorded.\n",
    "- MinTemp: The minimum temperature in degrees Celsius.\n",
    "- MaxTemp: The maximum temperature in degrees Celsius.\n",
    "- Rainfall: The amount of rainfall recorded for the day in millimeters.\n",
    "- Evaporation: The so-called Class A pan evaporation (in millimeters) in the 24 hours to 9am.\n",
    "- Sunshine: The number of hours of bright sunshine in the day.\n",
    "- WindGustDir: The direction of the strongest wind gust in the 24 hours to midnight.\n",
    "- WindGustSpeed: The speed (in km/h) of the strongest wind gust in the 24 hours to midnight.\n",
    "- WindDir9am: Direction of the wind at 9am.\n",
    "- WindDir3pm: Direction of the wind at 3pm.\n",
    "- WindSpeed9am: Wind speed (in km/h) averaged over 10 minutes prior to 9am.\n",
    "- WindSpeed3pm: Wind speed (in km/h) averaged over 10 minutes prior to 3pm.\n",
    "- Humidity9am: Humidity (percent) at 9am.\n",
    "- Humidity3pm: Humidity (percent) at 3pm.\n",
    "- Pressure9am: Atmospheric pressure (hpa) reduced to mean sea level at 9am.\n",
    "- Pressure3pm: Atmospheric pressure (hpa) reduced to mean sea level at 3pm.\n",
    "- Cloud9am: Fraction of sky obscured by cloud at 9am. This is measured in \"oktas,\" which are a unit of eighths. It records how many eighths of the sky are obscured by cloud.\n",
    "- Cloud3pm: Fraction of sky obscured by cloud at 3pm. Similar to Cloud9am.\n",
    "- Temp9am: Temperature (degrees Celsius) at 9am.\n",
    "- Temp3pm: Temperature (degrees Celsius) at 3pm.\n",
    "- RainToday: Indicates if it has rained. Yes if precipitation (mm) in the 24 hours to 9am exceeds 1mm, otherwise No.\n",
    "- RainTomorrow: The target variable. Indicates if it will rain tomorrow. Yes or No.\n",
    "\n",
    "These columns provide comprehensive information about daily weather conditions, useful for various analyses including weather forecasting, climate studies, and understanding local weather patterns. \n",
    "\n",
    "\n",
    "\n",
    "\n",
    "\n",
    "\n",
    "\n",
    "\n",
    "\n",
    "\n",
    "\n",
    "There is a date variable. It is denoted by Date column.\n",
    "There are 6 categorical variables. These are given by Location, WindGustDir, WindDir9am, WindDir3pm, RainToday and RainTomorrow.\n",
    "There are two binary categorical variables - RainToday and RainTomorrow.\n",
    "RainTomorrow is the target variable.\n"
   ]
  },
  {
   "cell_type": "markdown",
   "id": "1a5d819e",
   "metadata": {
    "deletable": false,
    "editable": false,
    "nbgrader": {
     "cell_type": "markdown",
     "checksum": "be3ec959a56b39191192a478a01c5598",
     "grade": false,
     "grade_id": "cell-29c6bb061c1cc79e",
     "locked": true,
     "schema_version": 3,
     "solution": false,
     "task": false
    }
   },
   "source": [
    "## ------------------------------------------------------------------------------------"
   ]
  },
  {
   "cell_type": "markdown",
   "id": "7b45dc0b",
   "metadata": {
    "deletable": false,
    "editable": false,
    "nbgrader": {
     "cell_type": "markdown",
     "checksum": "68bc35c459d622f08a94dfc6dc5ea506",
     "grade": false,
     "grade_id": "cell-c2fbebc4b3e036cd",
     "locked": true,
     "schema_version": 3,
     "solution": false,
     "task": false
    }
   },
   "source": [
    "## Guidelines to follow in this notebook \n",
    "- The name of the main dataframe should be df \n",
    "- Keep the seed value 42\n",
    "- Names of training and testing variables should be X_train, X_test, y_train, y_test\n",
    "- Keep the name of model instance as \"model\", e.g. model = DecisionTreeClassifer()\n",
    "- Keep the predictions on training and testing data in a variable named y_train_pred and y_test_pred respectively."
   ]
  },
  {
   "cell_type": "markdown",
   "id": "854ac382",
   "metadata": {
    "deletable": false,
    "editable": false,
    "nbgrader": {
     "cell_type": "markdown",
     "checksum": "eec43b4108d82470656384d89e40e492",
     "grade": false,
     "grade_id": "cell-e155f489649da0f7",
     "locked": true,
     "schema_version": 3,
     "solution": false,
     "task": false
    }
   },
   "source": [
    "## ------------------------------------------------------------------------------------"
   ]
  },
  {
   "cell_type": "markdown",
   "id": "a11174ba",
   "metadata": {
    "deletable": false,
    "editable": false,
    "nbgrader": {
     "cell_type": "markdown",
     "checksum": "ae40b183ebec840e71dc4d57938c73b6",
     "grade": false,
     "grade_id": "cell-4a755b44f692e5f4",
     "locked": true,
     "schema_version": 3,
     "solution": false,
     "task": false
    }
   },
   "source": [
    "## Import Libraries \n",
    "#### Lets begin by importing necessary data libraries "
   ]
  },
  {
   "cell_type": "code",
   "execution_count": 1,
   "id": "0307270d",
   "metadata": {
    "deletable": false,
    "editable": false,
    "nbgrader": {
     "cell_type": "code",
     "checksum": "38c81052b601f86daaa7b11d88796db2",
     "grade": false,
     "grade_id": "cell-edb670ef30c13bc7",
     "locked": true,
     "schema_version": 3,
     "solution": false,
     "task": false
    }
   },
   "outputs": [],
   "source": [
    "#Importing necessary libraries\n",
    "import pandas as pd\n",
    "import numpy as np\n",
    "import os\n",
    "import matplotlib.pyplot as plt\n",
    "from sklearn.preprocessing import LabelEncoder\n",
    "from sklearn.model_selection import train_test_split, GridSearchCV\n",
    "from sklearn.ensemble import RandomForestClassifier\n",
    "from sklearn.ensemble import GradientBoostingClassifier\n",
    "from sklearn.pipeline import make_pipeline\n",
    "from sklearn.preprocessing import StandardScaler\n",
    "#from sklearn.neighbors import KNeighborsClassifier"
   ]
  },
  {
   "cell_type": "markdown",
   "id": "01906238",
   "metadata": {
    "deletable": false,
    "editable": false,
    "nbgrader": {
     "cell_type": "markdown",
     "checksum": "e463bbf4b8052afe5135194c44795bc8",
     "grade": false,
     "grade_id": "cell-a3b9c4e62ac13c78",
     "locked": true,
     "schema_version": 3,
     "solution": false,
     "task": false
    }
   },
   "source": [
    "### Load the dataset"
   ]
  },
  {
   "cell_type": "code",
   "execution_count": 2,
   "id": "bcab52e9",
   "metadata": {
    "deletable": false,
    "editable": false,
    "nbgrader": {
     "cell_type": "code",
     "checksum": "126d11e2659dedbf5d283c7b61fa7df0",
     "grade": false,
     "grade_id": "cell-49d5a6edd6495047",
     "locked": true,
     "schema_version": 3,
     "solution": false,
     "task": false
    }
   },
   "outputs": [
    {
     "data": {
      "text/html": [
       "<div>\n",
       "<style scoped>\n",
       "    .dataframe tbody tr th:only-of-type {\n",
       "        vertical-align: middle;\n",
       "    }\n",
       "\n",
       "    .dataframe tbody tr th {\n",
       "        vertical-align: top;\n",
       "    }\n",
       "\n",
       "    .dataframe thead th {\n",
       "        text-align: right;\n",
       "    }\n",
       "</style>\n",
       "<table border=\"1\" class=\"dataframe\">\n",
       "  <thead>\n",
       "    <tr style=\"text-align: right;\">\n",
       "      <th></th>\n",
       "      <th>Location_Penrith</th>\n",
       "      <th>WindSpeedDiff</th>\n",
       "      <th>Location_Bendigo</th>\n",
       "      <th>Location_Watsonia</th>\n",
       "      <th>Location_Uluru</th>\n",
       "      <th>Location_Perth</th>\n",
       "      <th>Location_Nuriootpa</th>\n",
       "      <th>WindDir3pm_NNE</th>\n",
       "      <th>Location_Albany</th>\n",
       "      <th>WindDir3pm_NNW</th>\n",
       "      <th>...</th>\n",
       "      <th>WindSpeed3pm.1</th>\n",
       "      <th>Humidity9am</th>\n",
       "      <th>Humidity9am.1</th>\n",
       "      <th>MaxTemp</th>\n",
       "      <th>MaxTemp.1</th>\n",
       "      <th>WindDir3pm_NW</th>\n",
       "      <th>MaxTemp.2</th>\n",
       "      <th>MaxTemp.3</th>\n",
       "      <th>Evaporation</th>\n",
       "      <th>Evaporation.1</th>\n",
       "    </tr>\n",
       "  </thead>\n",
       "  <tbody>\n",
       "    <tr>\n",
       "      <th>0</th>\n",
       "      <td>False</td>\n",
       "      <td>37.5</td>\n",
       "      <td>False</td>\n",
       "      <td>False</td>\n",
       "      <td>False</td>\n",
       "      <td>False</td>\n",
       "      <td>False</td>\n",
       "      <td>False</td>\n",
       "      <td>False</td>\n",
       "      <td>False</td>\n",
       "      <td>...</td>\n",
       "      <td>22.0</td>\n",
       "      <td>1.510122</td>\n",
       "      <td>100.0</td>\n",
       "      <td>-1.648527</td>\n",
       "      <td>10.8</td>\n",
       "      <td>False</td>\n",
       "      <td>-1.648527</td>\n",
       "      <td>10.8</td>\n",
       "      <td>-0.591534</td>\n",
       "      <td>3.4</td>\n",
       "    </tr>\n",
       "    <tr>\n",
       "      <th>1</th>\n",
       "      <td>False</td>\n",
       "      <td>11.0</td>\n",
       "      <td>False</td>\n",
       "      <td>False</td>\n",
       "      <td>False</td>\n",
       "      <td>False</td>\n",
       "      <td>False</td>\n",
       "      <td>False</td>\n",
       "      <td>False</td>\n",
       "      <td>False</td>\n",
       "      <td>...</td>\n",
       "      <td>7.0</td>\n",
       "      <td>0.426211</td>\n",
       "      <td>80.0</td>\n",
       "      <td>-0.999320</td>\n",
       "      <td>15.4</td>\n",
       "      <td>False</td>\n",
       "      <td>-0.999320</td>\n",
       "      <td>15.4</td>\n",
       "      <td>-1.343942</td>\n",
       "      <td>2.0</td>\n",
       "    </tr>\n",
       "    <tr>\n",
       "      <th>2</th>\n",
       "      <td>False</td>\n",
       "      <td>14.0</td>\n",
       "      <td>False</td>\n",
       "      <td>False</td>\n",
       "      <td>False</td>\n",
       "      <td>False</td>\n",
       "      <td>False</td>\n",
       "      <td>False</td>\n",
       "      <td>False</td>\n",
       "      <td>False</td>\n",
       "      <td>...</td>\n",
       "      <td>11.0</td>\n",
       "      <td>1.076558</td>\n",
       "      <td>92.0</td>\n",
       "      <td>-0.124303</td>\n",
       "      <td>21.6</td>\n",
       "      <td>False</td>\n",
       "      <td>-0.124303</td>\n",
       "      <td>21.6</td>\n",
       "      <td>-0.376560</td>\n",
       "      <td>3.8</td>\n",
       "    </tr>\n",
       "    <tr>\n",
       "      <th>3</th>\n",
       "      <td>False</td>\n",
       "      <td>32.0</td>\n",
       "      <td>False</td>\n",
       "      <td>False</td>\n",
       "      <td>False</td>\n",
       "      <td>False</td>\n",
       "      <td>False</td>\n",
       "      <td>False</td>\n",
       "      <td>False</td>\n",
       "      <td>False</td>\n",
       "      <td>...</td>\n",
       "      <td>31.0</td>\n",
       "      <td>0.913971</td>\n",
       "      <td>89.0</td>\n",
       "      <td>-1.225131</td>\n",
       "      <td>13.8</td>\n",
       "      <td>False</td>\n",
       "      <td>-1.225131</td>\n",
       "      <td>13.8</td>\n",
       "      <td>-0.054099</td>\n",
       "      <td>4.4</td>\n",
       "    </tr>\n",
       "    <tr>\n",
       "      <th>4</th>\n",
       "      <td>False</td>\n",
       "      <td>26.0</td>\n",
       "      <td>False</td>\n",
       "      <td>False</td>\n",
       "      <td>False</td>\n",
       "      <td>False</td>\n",
       "      <td>False</td>\n",
       "      <td>False</td>\n",
       "      <td>False</td>\n",
       "      <td>False</td>\n",
       "      <td>...</td>\n",
       "      <td>26.0</td>\n",
       "      <td>-0.386722</td>\n",
       "      <td>65.0</td>\n",
       "      <td>0.708376</td>\n",
       "      <td>27.5</td>\n",
       "      <td>False</td>\n",
       "      <td>0.708376</td>\n",
       "      <td>27.5</td>\n",
       "      <td>-0.054099</td>\n",
       "      <td>4.4</td>\n",
       "    </tr>\n",
       "  </tbody>\n",
       "</table>\n",
       "<p>5 rows × 25 columns</p>\n",
       "</div>"
      ],
      "text/plain": [
       "   Location_Penrith  WindSpeedDiff  Location_Bendigo  Location_Watsonia  \\\n",
       "0             False           37.5             False              False   \n",
       "1             False           11.0             False              False   \n",
       "2             False           14.0             False              False   \n",
       "3             False           32.0             False              False   \n",
       "4             False           26.0             False              False   \n",
       "\n",
       "   Location_Uluru  Location_Perth  Location_Nuriootpa  WindDir3pm_NNE  \\\n",
       "0           False           False               False           False   \n",
       "1           False           False               False           False   \n",
       "2           False           False               False           False   \n",
       "3           False           False               False           False   \n",
       "4           False           False               False           False   \n",
       "\n",
       "   Location_Albany  WindDir3pm_NNW  ...  WindSpeed3pm.1  Humidity9am  \\\n",
       "0            False           False  ...            22.0     1.510122   \n",
       "1            False           False  ...             7.0     0.426211   \n",
       "2            False           False  ...            11.0     1.076558   \n",
       "3            False           False  ...            31.0     0.913971   \n",
       "4            False           False  ...            26.0    -0.386722   \n",
       "\n",
       "   Humidity9am.1   MaxTemp  MaxTemp.1  WindDir3pm_NW  MaxTemp.2  MaxTemp.3  \\\n",
       "0          100.0 -1.648527       10.8          False  -1.648527       10.8   \n",
       "1           80.0 -0.999320       15.4          False  -0.999320       15.4   \n",
       "2           92.0 -0.124303       21.6          False  -0.124303       21.6   \n",
       "3           89.0 -1.225131       13.8          False  -1.225131       13.8   \n",
       "4           65.0  0.708376       27.5          False   0.708376       27.5   \n",
       "\n",
       "   Evaporation  Evaporation.1  \n",
       "0    -0.591534            3.4  \n",
       "1    -1.343942            2.0  \n",
       "2    -0.376560            3.8  \n",
       "3    -0.054099            4.4  \n",
       "4    -0.054099            4.4  \n",
       "\n",
       "[5 rows x 25 columns]"
      ]
     },
     "execution_count": 2,
     "metadata": {},
     "output_type": "execute_result"
    }
   ],
   "source": [
    "#### load the dataset and print no. of rows and columns \n",
    "df = pd.read_csv('Rain_in_aus_data_scaled_with_feature_extraction.csv')\n",
    "df.head()"
   ]
  },
  {
   "cell_type": "code",
   "execution_count": 3,
   "id": "d928c7ce",
   "metadata": {
    "deletable": false,
    "editable": false,
    "nbgrader": {
     "cell_type": "code",
     "checksum": "dedc189f30e00cacb7209c6e38c0ad8b",
     "grade": false,
     "grade_id": "cell-4322c7fa315ca6ad",
     "locked": true,
     "schema_version": 3,
     "solution": false,
     "task": false
    }
   },
   "outputs": [
    {
     "data": {
      "text/plain": [
       "Index(['Location_Penrith', 'WindSpeedDiff', 'Location_Bendigo',\n",
       "       'Location_Watsonia', 'Location_Uluru', 'Location_Perth',\n",
       "       'Location_Nuriootpa', 'WindDir3pm_NNE', 'Location_Albany',\n",
       "       'WindDir3pm_NNW', 'Location_PearceRAAF', 'WindDir3pm_ESE',\n",
       "       'RainTomorrow', 'Month', 'WindSpeed3pm', 'WindSpeed3pm.1',\n",
       "       'Humidity9am', 'Humidity9am.1', 'MaxTemp', 'MaxTemp.1', 'WindDir3pm_NW',\n",
       "       'MaxTemp.2', 'MaxTemp.3', 'Evaporation', 'Evaporation.1'],\n",
       "      dtype='object')"
      ]
     },
     "execution_count": 3,
     "metadata": {},
     "output_type": "execute_result"
    }
   ],
   "source": [
    "# Displaying the columns in the dataset\n",
    "df.columns"
   ]
  },
  {
   "cell_type": "markdown",
   "id": "5e3e5e18",
   "metadata": {
    "deletable": false,
    "editable": false,
    "nbgrader": {
     "cell_type": "markdown",
     "checksum": "b81da87c38276bc8b54fedeb2b2e2edc",
     "grade": false,
     "grade_id": "cell-e6e996f33186eae2",
     "locked": true,
     "schema_version": 3,
     "solution": false,
     "task": false
    }
   },
   "source": [
    "## Separate the independent and dependent features in 'X' and 'y' respectively"
   ]
  },
  {
   "cell_type": "code",
   "execution_count": 4,
   "id": "b64d72c6",
   "metadata": {
    "deletable": false,
    "nbgrader": {
     "cell_type": "code",
     "checksum": "1bf7604ba423b1ae8cd88f4a2eebfe44",
     "grade": false,
     "grade_id": "cell-c0f74bad2221ca04",
     "locked": false,
     "schema_version": 3,
     "solution": true,
     "task": false
    }
   },
   "outputs": [],
   "source": [
    "# your code here\n",
    "# raise NotImplementedError\n",
    "X = df.drop(columns='RainTomorrow',axis=1)\n",
    "y = df['RainTomorrow']"
   ]
  },
  {
   "cell_type": "code",
   "execution_count": null,
   "id": "7e553a1b",
   "metadata": {
    "deletable": false,
    "editable": false,
    "nbgrader": {
     "cell_type": "code",
     "checksum": "4888fb6736418034bde0486ce3d03cb5",
     "grade": true,
     "grade_id": "cell-ea5fc78e152a43d9",
     "locked": true,
     "points": 3,
     "schema_version": 3,
     "solution": false,
     "task": false
    }
   },
   "outputs": [],
   "source": []
  },
  {
   "cell_type": "markdown",
   "id": "95ecff1f",
   "metadata": {
    "deletable": false,
    "editable": false,
    "nbgrader": {
     "cell_type": "markdown",
     "checksum": "5475ff31c17e4acc9e391e282fdab85d",
     "grade": false,
     "grade_id": "cell-27243c4b5374615c",
     "locked": true,
     "schema_version": 3,
     "solution": false,
     "task": false
    }
   },
   "source": [
    "# Splitting the data"
   ]
  },
  {
   "cell_type": "code",
   "execution_count": 5,
   "id": "62066d4f",
   "metadata": {
    "deletable": false,
    "nbgrader": {
     "cell_type": "code",
     "checksum": "2676daa6ed5b333d53ef2647c5d24ac5",
     "grade": false,
     "grade_id": "cell-da6dc1c26ee15a7f",
     "locked": false,
     "schema_version": 3,
     "solution": true,
     "task": false
    }
   },
   "outputs": [],
   "source": [
    "#splitting of df to training and testing with 0.25 as Test size \n",
    "# your code here\n",
    "# raise NotImplementedError\n",
    "from sklearn.model_selection import train_test_split\n",
    "X_train,X_test,y_train,y_test = train_test_split(X,y,test_size=0.25,random_state = 42)"
   ]
  },
  {
   "cell_type": "code",
   "execution_count": null,
   "id": "ff1254fc",
   "metadata": {
    "deletable": false,
    "editable": false,
    "nbgrader": {
     "cell_type": "code",
     "checksum": "17f6eadd565c6d5e02c815f1a7cd1c46",
     "grade": true,
     "grade_id": "cell-3d8214cc04f79635",
     "locked": true,
     "points": 3,
     "schema_version": 3,
     "solution": false,
     "task": false
    }
   },
   "outputs": [],
   "source": []
  },
  {
   "cell_type": "code",
   "execution_count": 6,
   "id": "17f917a2",
   "metadata": {
    "deletable": false,
    "editable": false,
    "nbgrader": {
     "cell_type": "code",
     "checksum": "a39086cda37f2a4efad9c9a0489f8ce2",
     "grade": false,
     "grade_id": "cell-5e3d1dbc967c7e3d",
     "locked": true,
     "schema_version": 3,
     "solution": false,
     "task": false
    }
   },
   "outputs": [],
   "source": [
    "from sklearn.model_selection import cross_val_predict\n",
    "import numpy as np"
   ]
  },
  {
   "cell_type": "markdown",
   "id": "ba847f24",
   "metadata": {
    "deletable": false,
    "editable": false,
    "nbgrader": {
     "cell_type": "markdown",
     "checksum": "b3322044cf360cc63a977202102bcd6f",
     "grade": false,
     "grade_id": "cell-775d30f9f0e33ddd",
     "locked": true,
     "schema_version": 3,
     "solution": false,
     "task": false
    }
   },
   "source": [
    "# Create base estimator"
   ]
  },
  {
   "cell_type": "code",
   "execution_count": 7,
   "id": "5cd26851",
   "metadata": {
    "deletable": false,
    "nbgrader": {
     "cell_type": "code",
     "checksum": "dd51f93983b7999c54cebd9f835ffb3a",
     "grade": false,
     "grade_id": "cell-890d30d84c2f1b23",
     "locked": false,
     "schema_version": 3,
     "solution": true,
     "task": false
    }
   },
   "outputs": [],
   "source": [
    "# Define base estimators\n",
    "# Create 2 estimators with the variable names as rf, and gb\n",
    "# keep seed 42 in  all cases \n",
    "# 1.create random forest classifier with depth 20, 61 tress , min leaf 10 and name it under 'rf'\n",
    "# 2. GradientBoosting classifier with 400 trees, lr 0.3 and depth 10 and use the variable name as gb\n",
    "\n",
    "# your code here\n",
    "# raise NotImplementedError\n",
    "estimators = [\n",
    "    ('rf', RandomForestClassifier(max_depth=20, min_samples_leaf=10, n_estimators=61, random_state=42, n_jobs=-1)),\n",
    "    ('gb', GradientBoostingClassifier(n_estimators=400, learning_rate=0.3, max_depth=10, random_state=42))\n",
    "]\n"
   ]
  },
  {
   "cell_type": "markdown",
   "id": "974ce60a",
   "metadata": {
    "deletable": false,
    "editable": false,
    "nbgrader": {
     "cell_type": "markdown",
     "checksum": "a022177c07d0218018c0253b928b24b9",
     "grade": false,
     "grade_id": "cell-298d27e8f7dce17f",
     "locked": true,
     "schema_version": 3,
     "solution": false,
     "task": false
    }
   },
   "source": [
    "The next step is to is to perform cross-validation and return predictions made on each of the folds on the training data. Here, we will store the results in an array and owing to this, we have to import the numpy library too. "
   ]
  },
  {
   "cell_type": "code",
   "execution_count": 8,
   "id": "8e5efd52",
   "metadata": {
    "deletable": false,
    "nbgrader": {
     "cell_type": "code",
     "checksum": "3aebd6442c425e33e7e3137d92f2c7b5",
     "grade": false,
     "grade_id": "cell-a4151ef19801864d",
     "locked": false,
     "schema_version": 3,
     "solution": true,
     "task": false
    }
   },
   "outputs": [],
   "source": [
    "# Generate out-of-fold predictions for each base model using cross-validation on training data.\n",
    "# since its a binary classification, store probablity of 1 in the array and not 0 and stack them.\n",
    "\n",
    "import numpy as np\n",
    "# your code here\n",
    "# raise NotImplementedError\n",
    "\n",
    "# Generate out-of-fold predictions for each base model using cross-validation on training data\n",
    "X_train_meta = []\n",
    "for name, model in estimators:\n",
    "    predictions = cross_val_predict(model, X_train, y_train, cv=5, method=\"predict_proba\")\n",
    "    X_train_meta.append(predictions[:, 1])  # Assuming binary classification     \n",
    "\n",
    "# Convert to array\n",
    "X_train_meta = np.column_stack(X_train_meta)"
   ]
  },
  {
   "cell_type": "code",
   "execution_count": 9,
   "id": "d11d96a8",
   "metadata": {
    "deletable": false,
    "nbgrader": {
     "cell_type": "code",
     "checksum": "8ac35103fa8d708d963b27ab23ad88de",
     "grade": false,
     "grade_id": "cell-a4151ef19801864e",
     "locked": false,
     "schema_version": 3,
     "solution": true,
     "task": false
    }
   },
   "outputs": [],
   "source": [
    "# Stack the predictions\n",
    "# X_train_meta = np.column_stack([predictions_rf, predictions_knn, predictions_gb])\n",
    "\n",
    "# your code here\n",
    "# raise NotImplementedError"
   ]
  },
  {
   "cell_type": "code",
   "execution_count": null,
   "id": "5679d6a8",
   "metadata": {
    "deletable": false,
    "editable": false,
    "nbgrader": {
     "cell_type": "code",
     "checksum": "a279d50aba37faa986daf51d92a7f386",
     "grade": true,
     "grade_id": "cell-a8d59168b3e4bff3",
     "locked": true,
     "points": 2,
     "schema_version": 3,
     "solution": false,
     "task": false
    }
   },
   "outputs": [],
   "source": []
  },
  {
   "cell_type": "code",
   "execution_count": 10,
   "id": "63848448",
   "metadata": {
    "deletable": false,
    "editable": false,
    "nbgrader": {
     "cell_type": "code",
     "checksum": "a03efb824fafeea5d7dc2a9c7789d9d9",
     "grade": false,
     "grade_id": "cell-65fdc00778447658",
     "locked": true,
     "schema_version": 3,
     "solution": false,
     "task": false
    }
   },
   "outputs": [],
   "source": [
    "\n",
    "# Define base estimators and keep the name of the variable as estimators which is a list of previously used classifiers\n",
    "# Create a list of estimators which stores the tuple with 3 classifiers 1. random forest 2. knn 3. gradientboosting\n",
    "# example : [\"<nameofmodel>\",model) ]\n",
    "\n",
    "estimators = [ ('rf', RandomForestClassifier(max_depth=20, min_samples_leaf=10, n_estimators=61, random_state=42, n_jobs=-1)), ('gb', GradientBoostingClassifier(n_estimators=400, learning_rate=0.3, max_depth=10, random_state=42))]\n"
   ]
  },
  {
   "cell_type": "code",
   "execution_count": 11,
   "id": "3fada88e",
   "metadata": {
    "deletable": false,
    "nbgrader": {
     "cell_type": "code",
     "checksum": "2fa710d3c188edecb3199d79a9a7ca62",
     "grade": false,
     "grade_id": "cell-8f972236fa3c5098",
     "locked": false,
     "schema_version": 3,
     "solution": true,
     "task": false
    }
   },
   "outputs": [],
   "source": [
    "# Function to generate meta features\n",
    "def generate_meta_features(estimators, X):\n",
    "    meta_features = []\n",
    "    for name, model in estimators:\n",
    "        model.fit(X_train, y_train)  # Train each model on the full training set\n",
    "        predictions = model.predict_proba(X)\n",
    "        meta_features.append(predictions[:, 1])  # Assuming binary classification\n",
    "    return np.column_stack(meta_features)\n",
    "# raise NotImplementedError\n",
    "\n",
    "# Generate meta features for test sets\n",
    "X_test_meta = generate_meta_features(estimators, X_test)"
   ]
  },
  {
   "cell_type": "code",
   "execution_count": null,
   "id": "3a9973fd",
   "metadata": {
    "deletable": false,
    "editable": false,
    "nbgrader": {
     "cell_type": "code",
     "checksum": "ff4739eb675246ba32584c3155f1457f",
     "grade": true,
     "grade_id": "cell-0e86a986c3c2ea11",
     "locked": true,
     "points": 2,
     "schema_version": 3,
     "solution": false,
     "task": false
    }
   },
   "outputs": [],
   "source": []
  },
  {
   "cell_type": "markdown",
   "id": "2c39d88f",
   "metadata": {
    "deletable": false,
    "editable": false,
    "nbgrader": {
     "cell_type": "markdown",
     "checksum": "2664a5a22dcc6fb194c1a13f9195ad93",
     "grade": false,
     "grade_id": "cell-b302112ff1efcee3",
     "locked": true,
     "schema_version": 3,
     "solution": false,
     "task": false
    }
   },
   "source": [
    "Here we have performed cross-validation on multiple base models to generate out-of-fold probability predictions for each instance in the training dataset. These predictions are then compiled into a new feature set called meta-features, which will be used for training a meta-model in a stacking ensemble, leveraging the combined strengths of each base model."
   ]
  },
  {
   "cell_type": "markdown",
   "id": "f16d2551",
   "metadata": {
    "deletable": false,
    "editable": false,
    "nbgrader": {
     "cell_type": "markdown",
     "checksum": "30bb56d5ea8f3ae279ff94120021efea",
     "grade": false,
     "grade_id": "cell-bd4ff51db22f21e2",
     "locked": true,
     "schema_version": 3,
     "solution": false,
     "task": false
    }
   },
   "source": [
    "Hence we've created a meta features dataset which will be used to train the meta model. Let me first show you how it's done followed by which i shall help you understand the code."
   ]
  },
  {
   "cell_type": "markdown",
   "id": "444f80e8",
   "metadata": {
    "deletable": false,
    "editable": false,
    "nbgrader": {
     "cell_type": "markdown",
     "checksum": "ac5886ced5678499e1665131a9e539cb",
     "grade": false,
     "grade_id": "cell-2ef9bb1dfec763a7",
     "locked": true,
     "schema_version": 3,
     "solution": false,
     "task": false
    }
   },
   "source": [
    "So let's go ahead and train the meta model. In this case we are going to use a logistic regression model"
   ]
  },
  {
   "cell_type": "markdown",
   "id": "adab6481",
   "metadata": {
    "deletable": false,
    "editable": false,
    "nbgrader": {
     "cell_type": "markdown",
     "checksum": "6f569b55c79841e27ff9ed57203490d7",
     "grade": false,
     "grade_id": "cell-5eb2b742850dfd78",
     "locked": true,
     "schema_version": 3,
     "solution": false,
     "task": false
    }
   },
   "source": [
    "## Make final predictions using the meta model(Logistic Regression)"
   ]
  },
  {
   "cell_type": "code",
   "execution_count": 12,
   "id": "41e51d38",
   "metadata": {
    "deletable": false,
    "editable": false,
    "nbgrader": {
     "cell_type": "code",
     "checksum": "d303737a782cb5cdd7830083703813e3",
     "grade": false,
     "grade_id": "cell-4eee48ed8edd7480",
     "locked": true,
     "schema_version": 3,
     "solution": false,
     "task": false
    }
   },
   "outputs": [
    {
     "data": {
      "text/html": [
       "<style>#sk-container-id-1 {color: black;background-color: white;}#sk-container-id-1 pre{padding: 0;}#sk-container-id-1 div.sk-toggleable {background-color: white;}#sk-container-id-1 label.sk-toggleable__label {cursor: pointer;display: block;width: 100%;margin-bottom: 0;padding: 0.3em;box-sizing: border-box;text-align: center;}#sk-container-id-1 label.sk-toggleable__label-arrow:before {content: \"▸\";float: left;margin-right: 0.25em;color: #696969;}#sk-container-id-1 label.sk-toggleable__label-arrow:hover:before {color: black;}#sk-container-id-1 div.sk-estimator:hover label.sk-toggleable__label-arrow:before {color: black;}#sk-container-id-1 div.sk-toggleable__content {max-height: 0;max-width: 0;overflow: hidden;text-align: left;background-color: #f0f8ff;}#sk-container-id-1 div.sk-toggleable__content pre {margin: 0.2em;color: black;border-radius: 0.25em;background-color: #f0f8ff;}#sk-container-id-1 input.sk-toggleable__control:checked~div.sk-toggleable__content {max-height: 200px;max-width: 100%;overflow: auto;}#sk-container-id-1 input.sk-toggleable__control:checked~label.sk-toggleable__label-arrow:before {content: \"▾\";}#sk-container-id-1 div.sk-estimator input.sk-toggleable__control:checked~label.sk-toggleable__label {background-color: #d4ebff;}#sk-container-id-1 div.sk-label input.sk-toggleable__control:checked~label.sk-toggleable__label {background-color: #d4ebff;}#sk-container-id-1 input.sk-hidden--visually {border: 0;clip: rect(1px 1px 1px 1px);clip: rect(1px, 1px, 1px, 1px);height: 1px;margin: -1px;overflow: hidden;padding: 0;position: absolute;width: 1px;}#sk-container-id-1 div.sk-estimator {font-family: monospace;background-color: #f0f8ff;border: 1px dotted black;border-radius: 0.25em;box-sizing: border-box;margin-bottom: 0.5em;}#sk-container-id-1 div.sk-estimator:hover {background-color: #d4ebff;}#sk-container-id-1 div.sk-parallel-item::after {content: \"\";width: 100%;border-bottom: 1px solid gray;flex-grow: 1;}#sk-container-id-1 div.sk-label:hover label.sk-toggleable__label {background-color: #d4ebff;}#sk-container-id-1 div.sk-serial::before {content: \"\";position: absolute;border-left: 1px solid gray;box-sizing: border-box;top: 0;bottom: 0;left: 50%;z-index: 0;}#sk-container-id-1 div.sk-serial {display: flex;flex-direction: column;align-items: center;background-color: white;padding-right: 0.2em;padding-left: 0.2em;position: relative;}#sk-container-id-1 div.sk-item {position: relative;z-index: 1;}#sk-container-id-1 div.sk-parallel {display: flex;align-items: stretch;justify-content: center;background-color: white;position: relative;}#sk-container-id-1 div.sk-item::before, #sk-container-id-1 div.sk-parallel-item::before {content: \"\";position: absolute;border-left: 1px solid gray;box-sizing: border-box;top: 0;bottom: 0;left: 50%;z-index: -1;}#sk-container-id-1 div.sk-parallel-item {display: flex;flex-direction: column;z-index: 1;position: relative;background-color: white;}#sk-container-id-1 div.sk-parallel-item:first-child::after {align-self: flex-end;width: 50%;}#sk-container-id-1 div.sk-parallel-item:last-child::after {align-self: flex-start;width: 50%;}#sk-container-id-1 div.sk-parallel-item:only-child::after {width: 0;}#sk-container-id-1 div.sk-dashed-wrapped {border: 1px dashed gray;margin: 0 0.4em 0.5em 0.4em;box-sizing: border-box;padding-bottom: 0.4em;background-color: white;}#sk-container-id-1 div.sk-label label {font-family: monospace;font-weight: bold;display: inline-block;line-height: 1.2em;}#sk-container-id-1 div.sk-label-container {text-align: center;}#sk-container-id-1 div.sk-container {/* jupyter's `normalize.less` sets `[hidden] { display: none; }` but bootstrap.min.css set `[hidden] { display: none !important; }` so we also need the `!important` here to be able to override the default hidden behavior on the sphinx rendered scikit-learn.org. See: https://github.com/scikit-learn/scikit-learn/issues/21755 */display: inline-block !important;position: relative;}#sk-container-id-1 div.sk-text-repr-fallback {display: none;}</style><div id=\"sk-container-id-1\" class=\"sk-top-container\"><div class=\"sk-text-repr-fallback\"><pre>LogisticRegression()</pre><b>In a Jupyter environment, please rerun this cell to show the HTML representation or trust the notebook. <br />On GitHub, the HTML representation is unable to render, please try loading this page with nbviewer.org.</b></div><div class=\"sk-container\" hidden><div class=\"sk-item\"><div class=\"sk-estimator sk-toggleable\"><input class=\"sk-toggleable__control sk-hidden--visually\" id=\"sk-estimator-id-1\" type=\"checkbox\" checked><label for=\"sk-estimator-id-1\" class=\"sk-toggleable__label sk-toggleable__label-arrow\">LogisticRegression</label><div class=\"sk-toggleable__content\"><pre>LogisticRegression()</pre></div></div></div></div></div>"
      ],
      "text/plain": [
       "LogisticRegression()"
      ]
     },
     "execution_count": 12,
     "metadata": {},
     "output_type": "execute_result"
    }
   ],
   "source": [
    "from sklearn.linear_model import LogisticRegression\n",
    "\n",
    "# Train meta-model (Logistic Regression) on the out-of-fold predictions\n",
    "meta_model = LogisticRegression()\n",
    "meta_model.fit(X_train_meta, y_train)"
   ]
  },
  {
   "cell_type": "code",
   "execution_count": 13,
   "id": "6a1f2879",
   "metadata": {
    "deletable": false,
    "editable": false,
    "nbgrader": {
     "cell_type": "code",
     "checksum": "4b0877a8fc6621ef754cb329f1f69ce9",
     "grade": false,
     "grade_id": "cell-d4df287a51dc9721",
     "locked": true,
     "schema_version": 3,
     "solution": false,
     "task": false
    }
   },
   "outputs": [
    {
     "name": "stdout",
     "output_type": "stream",
     "text": [
      "F1 Score for train Data: 0.6970153753391619\n"
     ]
    }
   ],
   "source": [
    "from sklearn.metrics import f1_score\n",
    "y_pred_train = meta_model.predict(X_train_meta)\n",
    "\n",
    "# Calculate and print F1 score for the validation data\n",
    "f1 = f1_score(y_train, y_pred_train)\n",
    "print(f\"F1 Score for train Data: {f1}\")\n"
   ]
  },
  {
   "cell_type": "markdown",
   "id": "230119dc",
   "metadata": {
    "deletable": false,
    "editable": false,
    "nbgrader": {
     "cell_type": "markdown",
     "checksum": "96eb147f3b2e667f33d28c95d887658e",
     "grade": false,
     "grade_id": "cell-1c4b78f900fa089c",
     "locked": true,
     "schema_version": 3,
     "solution": false,
     "task": false
    }
   },
   "source": [
    "With that, let's go ahead and make predictions on validation and test data followed by which we shall take a look at their f1 scores"
   ]
  },
  {
   "cell_type": "code",
   "execution_count": 14,
   "id": "fa34a6f7",
   "metadata": {
    "deletable": false,
    "editable": false,
    "nbgrader": {
     "cell_type": "code",
     "checksum": "4f18a5c01ff3eb095d86c58eb3962aaf",
     "grade": false,
     "grade_id": "cell-acb07a6e25ff6fc2",
     "locked": true,
     "schema_version": 3,
     "solution": false,
     "task": false
    }
   },
   "outputs": [
    {
     "name": "stdout",
     "output_type": "stream",
     "text": [
      "F1 Score for Test Data: 0.7090094574415131\n"
     ]
    }
   ],
   "source": [
    "from sklearn.metrics import f1_score\n",
    "\n",
    "# Predictions on validation and test data using the meta-model\n",
    "y_pred_test = meta_model.predict(X_test_meta)\n",
    "\n",
    "# Calculate and print F1 score for the test data\n",
    "f1 = f1_score(y_test, y_pred_test)\n",
    "print(f\"F1 Score for Test Data: {f1}\")"
   ]
  }
 ],
 "metadata": {
  "kernelspec": {
   "display_name": "Python 3 (ipykernel)",
   "language": "python",
   "name": "python3"
  },
  "language_info": {
   "codemirror_mode": {
    "name": "ipython",
    "version": 3
   },
   "file_extension": ".py",
   "mimetype": "text/x-python",
   "name": "python",
   "nbconvert_exporter": "python",
   "pygments_lexer": "ipython3",
   "version": "3.10.6"
  }
 },
 "nbformat": 4,
 "nbformat_minor": 5
}
